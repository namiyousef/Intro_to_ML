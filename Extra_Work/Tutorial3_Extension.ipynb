{
 "cells": [
  {
   "cell_type": "markdown",
   "metadata": {},
   "source": [
    "# Tutorial 3_Extension\n",
    "\n",
    "By doing this extension, I want to achieve three things:\n",
    "\n",
    "1) create my own regression class (similar to that of scikit learn). A special feature about this class is that it should have a 'polynomial feautres' feature\n",
    "\n",
    "2) I want to further explore the 'meshgrid' concept in the context of the example used in the tutorial, since this was rather confusing\n",
    "\n",
    "3) explore the functionality of plotly and mplot3d"
   ]
  },
  {
   "cell_type": "markdown",
   "metadata": {},
   "source": [
    "# Libraries\n"
   ]
  },
  {
   "cell_type": "code",
   "execution_count": 5,
   "metadata": {},
   "outputs": [],
   "source": [
    "import pandas as pd\n",
    "import numpy as np\n",
    "import matplotlib.pyplot as plt"
   ]
  },
  {
   "cell_type": "markdown",
   "metadata": {},
   "source": [
    "# 1 Standard Linear Regression"
   ]
  },
  {
   "cell_type": "code",
   "execution_count": 6,
   "metadata": {},
   "outputs": [
    {
     "data": {
      "text/html": [
       "<div>\n",
       "<style scoped>\n",
       "    .dataframe tbody tr th:only-of-type {\n",
       "        vertical-align: middle;\n",
       "    }\n",
       "\n",
       "    .dataframe tbody tr th {\n",
       "        vertical-align: top;\n",
       "    }\n",
       "\n",
       "    .dataframe thead th {\n",
       "        text-align: right;\n",
       "    }\n",
       "</style>\n",
       "<table border=\"1\" class=\"dataframe\">\n",
       "  <thead>\n",
       "    <tr style=\"text-align: right;\">\n",
       "      <th></th>\n",
       "      <th>Distance (mm)</th>\n",
       "      <th>Total absorption</th>\n",
       "    </tr>\n",
       "  </thead>\n",
       "  <tbody>\n",
       "    <tr>\n",
       "      <th>0</th>\n",
       "      <td>3.342876</td>\n",
       "      <td>175.719675</td>\n",
       "    </tr>\n",
       "    <tr>\n",
       "      <th>1</th>\n",
       "      <td>1.203074</td>\n",
       "      <td>57.261716</td>\n",
       "    </tr>\n",
       "    <tr>\n",
       "      <th>2</th>\n",
       "      <td>3.976552</td>\n",
       "      <td>179.448952</td>\n",
       "    </tr>\n",
       "    <tr>\n",
       "      <th>3</th>\n",
       "      <td>3.335264</td>\n",
       "      <td>176.218606</td>\n",
       "    </tr>\n",
       "    <tr>\n",
       "      <th>4</th>\n",
       "      <td>3.400901</td>\n",
       "      <td>167.033748</td>\n",
       "    </tr>\n",
       "  </tbody>\n",
       "</table>\n",
       "</div>"
      ],
      "text/plain": [
       "   Distance (mm)  Total absorption\n",
       "0       3.342876        175.719675\n",
       "1       1.203074         57.261716\n",
       "2       3.976552        179.448952\n",
       "3       3.335264        176.218606\n",
       "4       3.400901        167.033748"
      ]
     },
     "execution_count": 6,
     "metadata": {},
     "output_type": "execute_result"
    }
   ],
   "source": [
    "# online copy\n",
    "df = pd.read_csv('http://pogo.software/me4ml/xray.csv')\n",
    "df.head()"
   ]
  },
  {
   "cell_type": "code",
   "execution_count": 55,
   "metadata": {},
   "outputs": [],
   "source": [
    "x = df['Distance (mm)']\n",
    "y = df['Total absorption']"
   ]
  },
  {
   "cell_type": "markdown",
   "metadata": {},
   "source": [
    "# Background material:\n",
    "\n",
    "X-ray power decreases linearly as a function of distance, so:\n",
    "$$P \\propto -\\lambda d$$\n",
    "\n",
    "Where $\\lambda>0$\n",
    "\n",
    "This results in an exponential decay as the X-ray propagates through space.\n",
    "In practice, when an X-ray passes through objects, there is a phenomenon called 'beam hardening', which reduces the attenuation value, so the relationship is no longer linear.\n",
    "\n",
    "In this tutorial, we are interested in finding a simple polynomial relationship [1]"
   ]
  },
  {
   "cell_type": "code",
   "execution_count": 88,
   "metadata": {},
   "outputs": [
    {
     "data": {
      "image/png": "[encoded data removed]",
      "text/plain": [
       "<Figure size 432x288 with 1 Axes>"
      ]
     },
     "metadata": {
      "needs_background": "light"
     },
     "output_type": "display_data"
    }
   ],
   "source": [
    "class LinearRegression():\n",
    "    \"\"\"\n",
    "    A class for linear regression\n",
    "    \n",
    "    Attributes:\n",
    "    -----------\n",
    "    \n",
    "    Methods:\n",
    "    --------\n",
    "    \"\"\"\n",
    "    \n",
    "    def __init__(self, X, y):\n",
    "        try:\n",
    "            self.X_cols = X.columns\n",
    "            self.X = np.asarray(X)\n",
    "        except:\n",
    "            self.X_cols = X.name\n",
    "            self.X = np.asarray(X).reshape([-1,1])\n",
    "                \n",
    "        self.y_col = y.name\n",
    "        self.y = y\n",
    "        \n",
    "        self.n_points = self.X.shape[0]\n",
    "        self.n_attr = self.X.shape[1]\n",
    "        \n",
    "        self.X = np.append(np.ones([self.n_points, 1]), self.X, axis = 1)\n",
    "\n",
    "        self.beta = None\n",
    "        self.yhat = None\n",
    "        \n",
    "    def fit(self):\n",
    "        A = np.zeros([self.n_attr + 1, self.n_attr + 1])\n",
    "        b = np.zeros([self.n_attr + 1, 1])\n",
    "        for i in range(self.n_attr+1):\n",
    "            b[i] = np.dot(self.y, self.X[:,i])\n",
    "            for j in range(self.n_attr+1):\n",
    "                A[i,j] = np.dot(self.X[:,i], self.X[:,j]) \n",
    "        \n",
    "        self.beta = np.linalg.solve(A,b)\n",
    "    \n",
    "    def predict(self, X = None):\n",
    "        X = np.append(np.ones([self.n_points, 1]), X, axis = 1) if X else self.X\n",
    "        y = np.zeros(self.n_points)\n",
    "        \n",
    "        for i, beta in enumerate(self.beta):\n",
    "            y = y + beta*X[:,i]\n",
    "        \n",
    "        self.yhat = y\n",
    "        return y\n",
    "    \n",
    "    def plot(self, axis = 0):\n",
    "        fig, ax = plt.subplots()\n",
    "        plt.plot(self.X[:, axis +1], self.y,'.')\n",
    "        plt.plot(self.X[:,axis + 1],self.yhat,'.')\n",
    "    \n",
    "df['dist_2'] = x**2\n",
    "X = df[['Distance (mm)','dist_2']]\n",
    "m = LinearRegression(X,y)\n",
    "m.fit()\n",
    "yhat = m.predict()\n",
    "m.plot()"
   ]
  },
  {
   "cell_type": "code",
   "execution_count": 90,
   "metadata": {},
   "outputs": [
    {
     "data": {
      "image/png": "[encoded data removed]",
      "text/plain": [
       "<Figure size 432x288 with 1 Axes>"
      ]
     },
     "metadata": {
      "needs_background": "light"
     },
     "output_type": "display_data"
    }
   ],
   "source": [
    "m = LinearRegression(x,y)\n",
    "m.fit()\n",
    "yhat = m.predict()\n",
    "m.plot()"
   ]
  },
  {
   "cell_type": "code",
   "execution_count": 26,
   "metadata": {},
   "outputs": [
    {
     "ename": "NameError",
     "evalue": "name 'X' is not defined",
     "output_type": "error",
     "traceback": [
      "\u001b[0;31m---------------------------------------------------------------------------\u001b[0m",
      "\u001b[0;31mNameError\u001b[0m                                 Traceback (most recent call last)",
      "\u001b[0;32m<ipython-input-26-162f079c6aab>\u001b[0m in \u001b[0;36m<module>\u001b[0;34m\u001b[0m\n\u001b[1;32m     12\u001b[0m     \u001b[0mprint\u001b[0m\u001b[0;34m(\u001b[0m\u001b[0mX\u001b[0m\u001b[0;34m)\u001b[0m\u001b[0;34m\u001b[0m\u001b[0;34m\u001b[0m\u001b[0m\n\u001b[1;32m     13\u001b[0m \u001b[0;34m\u001b[0m\u001b[0m\n\u001b[0;32m---> 14\u001b[0;31m \u001b[0mLinearRegression\u001b[0m\u001b[0;34m(\u001b[0m\u001b[0mX\u001b[0m\u001b[0;34m,\u001b[0m\u001b[0my\u001b[0m\u001b[0;34m)\u001b[0m\u001b[0;34m\u001b[0m\u001b[0;34m\u001b[0m\u001b[0m\n\u001b[0m",
      "\u001b[0;31mNameError\u001b[0m: name 'X' is not defined"
     ]
    }
   ],
   "source": [
    "\n",
    "        \n",
    "\n",
    "def LinearRegression(X, y):\n",
    "    \"\"\"\n",
    "    A function that performs a multivariate linear regression with predictors X and\n",
    "    target y\n",
    "    \n",
    "    NOTE: X must be a dataframe as input, NOT series\n",
    "    \"\"\"\n",
    "    \n",
    "    n_attr = X.shape[1] if len(X.shape) > 1 else 1\n",
    "    n_points = X.shape[0]\n",
    "    X = np.append(np.ones([n_points,1]), X, axis=1)\n",
    "    print(X)\n",
    "\n",
    "LinearRegression(X,y)"
   ]
  },
  {
   "cell_type": "code",
   "execution_count": 193,
   "metadata": {},
   "outputs": [
    {
     "name": "stdout",
     "output_type": "stream",
     "text": [
      "[[3000.8863473  9979.55332572]\n",
      " [1000.         3000.8863473 ]] [[482776.42824979]\n",
      " [149967.06847032]]\n"
     ]
    },
    {
     "ename": "IndexError",
     "evalue": "too many indices for array",
     "output_type": "error",
     "traceback": [
      "\u001b[0;31m---------------------------------------------------------------------------\u001b[0m",
      "\u001b[0;31mIndexError\u001b[0m                                Traceback (most recent call last)",
      "\u001b[0;32m<ipython-input-193-fb14c3e6ad5b>\u001b[0m in \u001b[0;36m<module>\u001b[0;34m\u001b[0m\n\u001b[1;32m     49\u001b[0m \u001b[0mmodel\u001b[0m \u001b[0;34m=\u001b[0m \u001b[0mRegression\u001b[0m\u001b[0;34m(\u001b[0m\u001b[0mx\u001b[0m\u001b[0;34m,\u001b[0m\u001b[0my\u001b[0m\u001b[0;34m)\u001b[0m\u001b[0;34m\u001b[0m\u001b[0;34m\u001b[0m\u001b[0m\n\u001b[1;32m     50\u001b[0m \u001b[0mmodel\u001b[0m\u001b[0;34m.\u001b[0m\u001b[0mLinReg2D\u001b[0m\u001b[0;34m(\u001b[0m\u001b[0;34m)\u001b[0m\u001b[0;34m\u001b[0m\u001b[0;34m\u001b[0m\u001b[0m\n\u001b[0;32m---> 51\u001b[0;31m \u001b[0mmodel\u001b[0m\u001b[0;34m.\u001b[0m\u001b[0mplot\u001b[0m\u001b[0;34m(\u001b[0m\u001b[0mcolor\u001b[0m\u001b[0;34m=\u001b[0m\u001b[0;34m'black'\u001b[0m\u001b[0;34m)\u001b[0m\u001b[0;34m\u001b[0m\u001b[0;34m\u001b[0m\u001b[0m\n\u001b[0m\u001b[1;32m     52\u001b[0m \u001b[0mmodel\u001b[0m\u001b[0;34m.\u001b[0m\u001b[0mbeta\u001b[0m\u001b[0;34m\u001b[0m\u001b[0;34m\u001b[0m\u001b[0m\n",
      "\u001b[0;32m<ipython-input-193-fb14c3e6ad5b>\u001b[0m in \u001b[0;36mplot\u001b[0;34m(self, **kwargs)\u001b[0m\n\u001b[1;32m     37\u001b[0m \u001b[0;34m\u001b[0m\u001b[0m\n\u001b[1;32m     38\u001b[0m     \u001b[0;32mdef\u001b[0m \u001b[0mplot\u001b[0m\u001b[0;34m(\u001b[0m\u001b[0mself\u001b[0m\u001b[0;34m,\u001b[0m\u001b[0;34m**\u001b[0m\u001b[0mkwargs\u001b[0m\u001b[0;34m)\u001b[0m\u001b[0;34m:\u001b[0m\u001b[0;34m\u001b[0m\u001b[0;34m\u001b[0m\u001b[0m\n\u001b[0;32m---> 39\u001b[0;31m         \u001b[0mplt\u001b[0m\u001b[0;34m.\u001b[0m\u001b[0mplot\u001b[0m\u001b[0;34m(\u001b[0m\u001b[0mself\u001b[0m\u001b[0;34m.\u001b[0m\u001b[0mX\u001b[0m\u001b[0;34m[\u001b[0m\u001b[0;34m:\u001b[0m\u001b[0;34m,\u001b[0m\u001b[0;36m0\u001b[0m\u001b[0;34m]\u001b[0m\u001b[0;34m,\u001b[0m \u001b[0mself\u001b[0m\u001b[0;34m.\u001b[0m\u001b[0my\u001b[0m\u001b[0;34m,\u001b[0m\u001b[0;34m'.'\u001b[0m\u001b[0;34m)\u001b[0m\u001b[0;34m\u001b[0m\u001b[0;34m\u001b[0m\u001b[0m\n\u001b[0m\u001b[1;32m     40\u001b[0m         \u001b[0mx\u001b[0m \u001b[0;34m=\u001b[0m \u001b[0mnp\u001b[0m\u001b[0;34m.\u001b[0m\u001b[0mlinspace\u001b[0m\u001b[0;34m(\u001b[0m\u001b[0;36m0\u001b[0m\u001b[0;34m,\u001b[0m\u001b[0;36m6\u001b[0m\u001b[0;34m,\u001b[0m\u001b[0;36m200\u001b[0m\u001b[0;34m)\u001b[0m\u001b[0;34m\u001b[0m\u001b[0;34m\u001b[0m\u001b[0m\n\u001b[1;32m     41\u001b[0m         \u001b[0my\u001b[0m \u001b[0;34m=\u001b[0m \u001b[0mnp\u001b[0m\u001b[0;34m.\u001b[0m\u001b[0mzeros\u001b[0m\u001b[0;34m(\u001b[0m\u001b[0;36m200\u001b[0m\u001b[0;34m)\u001b[0m\u001b[0;34m\u001b[0m\u001b[0;34m\u001b[0m\u001b[0m\n",
      "\u001b[0;31mIndexError\u001b[0m: too many indices for array"
     ]
    }
   ],
   "source": [
    "class Regression():\n",
    "    \"\"\" Class for regression \"\"\"\n",
    "    def __init__(self, X, y):\n",
    "        self.X = np.asarray(X)\n",
    "        self.y = np.asarray(y)\n",
    "        beta = None\n",
    "    \n",
    "\n",
    "    def LinReg2D(self):\n",
    "        n_points = self.X.shape[0]\n",
    "        A = np.array([\n",
    "            [self.X.sum(), (self.X**2).sum()],\n",
    "            [n_points, self.X.sum()],\n",
    "        ])\n",
    "        b = np.array([\n",
    "            [np.dot(self.X,self.y)],\n",
    "            [self.y.sum()]\n",
    "        ])\n",
    "        print(A,b)\n",
    "        self.beta = np.linalg.solve(A,b)\n",
    "        return self.beta\n",
    "    \n",
    "    def LinearRegression(self):\n",
    "        n_points = self.X.shape[0]\n",
    "        \n",
    "        n_attr = self.X.shape[1]\n",
    "        A = np.zeros([n_attr + 1, n_attr +1])\n",
    "        b = np.zeros([n_attr+1,1])\n",
    "        for i in range(n_attr+1):\n",
    "            b[i] = np.dot(self.y, (self.X[:,0])**(n_attr-i))\n",
    "            for j in range(n_attr+1):\n",
    "                A[i,j] = np.sum((self.X[:,0])**(n_attr - i + j))\n",
    "        print(A,b)\n",
    "        self.beta = np.linalg.solve(A,b)\n",
    "        print(self.beta)\n",
    "        return self.beta\n",
    "        \n",
    "    def plot(self,**kwargs):\n",
    "        plt.plot(self.X[:,0], self.y,'.')\n",
    "        x = np.linspace(0,6,200)\n",
    "        y = np.zeros(200)\n",
    "        for i, coeff in enumerate(self.beta):\n",
    "            print(i, coeff)\n",
    "            y = np.add(y, coeff*x**i)\n",
    "            \n",
    "        plt.plot(x,y,**kwargs)\n",
    "    \n",
    "\n",
    "model = Regression(x,y)\n",
    "model.LinReg2D()\n",
    "model.plot(color='black')\n",
    "model.beta"
   ]
  },
  {
   "cell_type": "code",
   "execution_count": 194,
   "metadata": {},
   "outputs": [
    {
     "ename": "IndexError",
     "evalue": "tuple index out of range",
     "output_type": "error",
     "traceback": [
      "\u001b[0;31m---------------------------------------------------------------------------\u001b[0m",
      "\u001b[0;31mIndexError\u001b[0m                                Traceback (most recent call last)",
      "\u001b[0;32m<ipython-input-194-52a7505c8219>\u001b[0m in \u001b[0;36m<module>\u001b[0;34m\u001b[0m\n\u001b[1;32m      2\u001b[0m \u001b[0mb\u001b[0m \u001b[0;34m=\u001b[0m \u001b[0mnp\u001b[0m\u001b[0;34m.\u001b[0m\u001b[0mzeros\u001b[0m\u001b[0;34m(\u001b[0m\u001b[0;34m[\u001b[0m\u001b[0;36m3\u001b[0m\u001b[0;34m,\u001b[0m\u001b[0;36m1\u001b[0m\u001b[0;34m]\u001b[0m\u001b[0;34m)\u001b[0m\u001b[0;34m\u001b[0m\u001b[0;34m\u001b[0m\u001b[0m\n\u001b[1;32m      3\u001b[0m \u001b[0mmodel\u001b[0m \u001b[0;34m=\u001b[0m \u001b[0mRegression\u001b[0m\u001b[0;34m(\u001b[0m\u001b[0mx\u001b[0m\u001b[0;34m,\u001b[0m\u001b[0my\u001b[0m\u001b[0;34m)\u001b[0m\u001b[0;34m\u001b[0m\u001b[0;34m\u001b[0m\u001b[0m\n\u001b[0;32m----> 4\u001b[0;31m \u001b[0mmodel\u001b[0m\u001b[0;34m.\u001b[0m\u001b[0mLinearRegression\u001b[0m\u001b[0;34m(\u001b[0m\u001b[0;34m)\u001b[0m\u001b[0;34m\u001b[0m\u001b[0;34m\u001b[0m\u001b[0m\n\u001b[0m\u001b[1;32m      5\u001b[0m \u001b[0mmodel\u001b[0m\u001b[0;34m.\u001b[0m\u001b[0mplot\u001b[0m\u001b[0;34m(\u001b[0m\u001b[0mcolor\u001b[0m \u001b[0;34m=\u001b[0m \u001b[0;34m'black'\u001b[0m\u001b[0;34m)\u001b[0m\u001b[0;34m\u001b[0m\u001b[0;34m\u001b[0m\u001b[0m\n\u001b[1;32m      6\u001b[0m \u001b[0mmodel\u001b[0m\u001b[0;34m.\u001b[0m\u001b[0mbeta\u001b[0m\u001b[0;34m\u001b[0m\u001b[0;34m\u001b[0m\u001b[0m\n",
      "\u001b[0;32m<ipython-input-193-fb14c3e6ad5b>\u001b[0m in \u001b[0;36mLinearRegression\u001b[0;34m(self)\u001b[0m\n\u001b[1;32m     24\u001b[0m         \u001b[0mn_points\u001b[0m \u001b[0;34m=\u001b[0m \u001b[0mself\u001b[0m\u001b[0;34m.\u001b[0m\u001b[0mX\u001b[0m\u001b[0;34m.\u001b[0m\u001b[0mshape\u001b[0m\u001b[0;34m[\u001b[0m\u001b[0;36m0\u001b[0m\u001b[0;34m]\u001b[0m\u001b[0;34m\u001b[0m\u001b[0;34m\u001b[0m\u001b[0m\n\u001b[1;32m     25\u001b[0m \u001b[0;34m\u001b[0m\u001b[0m\n\u001b[0;32m---> 26\u001b[0;31m         \u001b[0mn_attr\u001b[0m \u001b[0;34m=\u001b[0m \u001b[0mself\u001b[0m\u001b[0;34m.\u001b[0m\u001b[0mX\u001b[0m\u001b[0;34m.\u001b[0m\u001b[0mshape\u001b[0m\u001b[0;34m[\u001b[0m\u001b[0;36m1\u001b[0m\u001b[0;34m]\u001b[0m\u001b[0;34m\u001b[0m\u001b[0;34m\u001b[0m\u001b[0m\n\u001b[0m\u001b[1;32m     27\u001b[0m         \u001b[0mA\u001b[0m \u001b[0;34m=\u001b[0m \u001b[0mnp\u001b[0m\u001b[0;34m.\u001b[0m\u001b[0mzeros\u001b[0m\u001b[0;34m(\u001b[0m\u001b[0;34m[\u001b[0m\u001b[0mn_attr\u001b[0m \u001b[0;34m+\u001b[0m \u001b[0;36m1\u001b[0m\u001b[0;34m,\u001b[0m \u001b[0mn_attr\u001b[0m \u001b[0;34m+\u001b[0m\u001b[0;36m1\u001b[0m\u001b[0;34m]\u001b[0m\u001b[0;34m)\u001b[0m\u001b[0;34m\u001b[0m\u001b[0;34m\u001b[0m\u001b[0m\n\u001b[1;32m     28\u001b[0m         \u001b[0mb\u001b[0m \u001b[0;34m=\u001b[0m \u001b[0mnp\u001b[0m\u001b[0;34m.\u001b[0m\u001b[0mzeros\u001b[0m\u001b[0;34m(\u001b[0m\u001b[0;34m[\u001b[0m\u001b[0mn_attr\u001b[0m\u001b[0;34m+\u001b[0m\u001b[0;36m1\u001b[0m\u001b[0;34m,\u001b[0m\u001b[0;36m1\u001b[0m\u001b[0;34m]\u001b[0m\u001b[0;34m)\u001b[0m\u001b[0;34m\u001b[0m\u001b[0;34m\u001b[0m\u001b[0m\n",
      "\u001b[0;31mIndexError\u001b[0m: tuple index out of range"
     ]
    }
   ],
   "source": [
    "# this is only for the sake of testing\n",
    "b = np.zeros([3,1])\n",
    "model = Regression(x,y)\n",
    "model.LinearRegression()\n",
    "model.plot(color = 'black')\n",
    "model.beta\n"
   ]
  },
  {
   "cell_type": "code",
   "execution_count": 195,
   "metadata": {},
   "outputs": [
    {
     "data": {
      "text/html": [
       "<div>\n",
       "<style scoped>\n",
       "    .dataframe tbody tr th:only-of-type {\n",
       "        vertical-align: middle;\n",
       "    }\n",
       "\n",
       "    .dataframe tbody tr th {\n",
       "        vertical-align: top;\n",
       "    }\n",
       "\n",
       "    .dataframe thead th {\n",
       "        text-align: right;\n",
       "    }\n",
       "</style>\n",
       "<table border=\"1\" class=\"dataframe\">\n",
       "  <thead>\n",
       "    <tr style=\"text-align: right;\">\n",
       "      <th></th>\n",
       "      <th>Distance (mm)</th>\n",
       "      <th>Total absorption</th>\n",
       "      <th>Dist_squared</th>\n",
       "    </tr>\n",
       "  </thead>\n",
       "  <tbody>\n",
       "    <tr>\n",
       "      <th>0</th>\n",
       "      <td>3.342876</td>\n",
       "      <td>175.719675</td>\n",
       "      <td>11.174821</td>\n",
       "    </tr>\n",
       "    <tr>\n",
       "      <th>1</th>\n",
       "      <td>1.203074</td>\n",
       "      <td>57.261716</td>\n",
       "      <td>1.447386</td>\n",
       "    </tr>\n",
       "    <tr>\n",
       "      <th>2</th>\n",
       "      <td>3.976552</td>\n",
       "      <td>179.448952</td>\n",
       "      <td>15.812962</td>\n",
       "    </tr>\n",
       "    <tr>\n",
       "      <th>3</th>\n",
       "      <td>3.335264</td>\n",
       "      <td>176.218606</td>\n",
       "      <td>11.123983</td>\n",
       "    </tr>\n",
       "    <tr>\n",
       "      <th>4</th>\n",
       "      <td>3.400901</td>\n",
       "      <td>167.033748</td>\n",
       "      <td>11.566126</td>\n",
       "    </tr>\n",
       "  </tbody>\n",
       "</table>\n",
       "</div>"
      ],
      "text/plain": [
       "   Distance (mm)  Total absorption  Dist_squared\n",
       "0       3.342876        175.719675     11.174821\n",
       "1       1.203074         57.261716      1.447386\n",
       "2       3.976552        179.448952     15.812962\n",
       "3       3.335264        176.218606     11.123983\n",
       "4       3.400901        167.033748     11.566126"
      ]
     },
     "execution_count": 195,
     "metadata": {},
     "output_type": "execute_result"
    }
   ],
   "source": [
    "# define new \"polynomial dataframe\"\n",
    "df['Dist_squared'] = x**2\n",
    "df.head()"
   ]
  },
  {
   "cell_type": "code",
   "execution_count": 196,
   "metadata": {},
   "outputs": [
    {
     "name": "stdout",
     "output_type": "stream",
     "text": [
      "[[  9979.55332572  35827.1979127  136929.351774  ]\n",
      " [  3000.8863473    9979.55332572  35827.1979127 ]\n",
      " [  1000.           3000.8863473    9979.55332572]] [[1683776.78670197]\n",
      " [ 482776.42824979]\n",
      " [ 149967.06847032]]\n",
      "[[ 3.32219469]\n",
      " [67.59434588]\n",
      " [-5.63132177]]\n",
      "0 [3.32219469]\n",
      "1 [67.59434588]\n",
      "2 [-5.63132177]\n"
     ]
    },
    {
     "data": {
      "image/png": "[encoded data removed]",
      "text/plain": [
       "<Figure size 432x288 with 1 Axes>"
      ]
     },
     "metadata": {
      "needs_background": "light"
     },
     "output_type": "display_data"
    }
   ],
   "source": [
    "X = df[['Distance (mm)','Dist_squared']]\n",
    "\n",
    "model = Regression(X, y)\n",
    "model.LinearRegression()\n",
    "model.plot(color = 'red')"
   ]
  },
  {
   "cell_type": "markdown",
   "metadata": {},
   "source": [
    "# References\n",
    "\n",
    "Note: citations do not follow any well-established format.\n",
    "\n",
    "[1] ME4 Machine Learning, Peter Huthwaite, Imperial College London"
   ]
  },
  {
   "cell_type": "code",
   "execution_count": null,
   "metadata": {},
   "outputs": [],
   "source": []
  }
 ],
 "metadata": {
  "kernelspec": {
   "display_name": "ML_Imperial",
   "language": "python",
   "name": "ml_imperial"
  },
  "language_info": {
   "codemirror_mode": {
    "name": "ipython",
    "version": 3
   },
   "file_extension": ".py",
   "mimetype": "text/x-python",
   "name": "python",
   "nbconvert_exporter": "python",
   "pygments_lexer": "ipython3",
   "version": "3.7.6"
  }
 },
 "nbformat": 4,
 "nbformat_minor": 4
}
