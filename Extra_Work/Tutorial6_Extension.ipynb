{
 "cells": [
  {
   "cell_type": "markdown",
   "metadata": {},
   "source": [
    "# Tutorial 6_Extension\n",
    "\n",
    "In this tutorial I will explore neural networks using Keras from TensorFlow, and expand upon the content of tutorial 6. Broadly speaking, I will look at the following:\n",
    "\n",
    "- different types of activation functions\n",
    "- different options for setting up layers\n",
    "- understanding what the modules dense and sequential actually do\n",
    "- create functions that will help with the coursework task"
   ]
  },
  {
   "cell_type": "markdown",
   "metadata": {},
   "source": [
    "# Libraries and Functions"
   ]
  },
  {
   "cell_type": "code",
   "execution_count": 41,
   "metadata": {},
   "outputs": [],
   "source": [
    "# system libraries\n",
    "import sys\n",
    "sys.path.append('..//PythonFiles/') # add path of python files\n",
    "\n",
    "# mathematical\n",
    "import numpy as np\n",
    "\n",
    "# modelling\n",
    "from tensorflow import keras\n",
    "\n",
    "\n",
    "# data \n",
    "from datasets_huthwaite import gen_circular_distribution as circ_dist\n",
    "\n",
    "# plotting\n",
    "from plotting import plot_classes\n",
    "import matplotlib.pyplot as plt\n",
    "\n",
    "\n",
    "# set styles\n",
    "plt.style.use('ggplot')"
   ]
  },
  {
   "cell_type": "markdown",
   "metadata": {},
   "source": [
    "# The Keras API"
   ]
  },
  {
   "cell_type": "markdown",
   "metadata": {},
   "source": [
    "### Preprocessing functionality\n",
    "\n",
    "Keras is an end-to-end model, i.e. a model that can be deployed within itself, and therefore does not need external functions / libraries to do preprocessing or analysis. This makes deployment very easy."
   ]
  },
  {
   "cell_type": "code",
   "execution_count": 54,
   "metadata": {},
   "outputs": [
    {
     "name": "stdout",
     "output_type": "stream",
     "text": [
      "[-1.08908156 -0.23675686  1.32583843]\n",
      "tf.Tensor(\n",
      "[[-1.0890815 ]\n",
      " [-0.23675685]\n",
      " [ 1.3258383 ]], shape=(3, 1), dtype=float32)\n"
     ]
    }
   ],
   "source": [
    "from tensorflow.keras.layers.experimental.preprocessing import Normalization\n",
    "X = np.array([20, 30, 50]) # salaries\n",
    "y = np.array([27000, 45000, 78000])\n",
    "y_scaled = (y-y.mean())/y.std()\n",
    "print(y_scaled)\n",
    "\n",
    "normalizer = Normalization(axis=-1)\n",
    "normalizer.adapt(y)\n",
    "normalized_data = normalizer(y)\n",
    "print(normalized_data)"
   ]
  },
  {
   "cell_type": "markdown",
   "metadata": {},
   "source": [
    "The normalizer function seems to add like a standard scaler for the functions."
   ]
  },
  {
   "cell_type": "markdown",
   "metadata": {},
   "source": [
    "### Types of layers\n",
    "\n",
    "Keras has many different layer types.\n",
    "\n",
    "These are:\n",
    "\n",
    "- Dense:\n",
    "- Normalization\n",
    "    - BatchNormalization\n",
    "    - LayerNoramlization"
   ]
  },
  {
   "cell_type": "markdown",
   "metadata": {},
   "source": [
    "# Types of activation functions and their use cases"
   ]
  },
  {
   "cell_type": "code",
   "execution_count": null,
   "metadata": {},
   "outputs": [],
   "source": []
  },
  {
   "cell_type": "markdown",
   "metadata": {},
   "source": [
    "# Tutorial 6 Specific content"
   ]
  },
  {
   "cell_type": "code",
   "execution_count": 20,
   "metadata": {},
   "outputs": [
    {
     "data": {
      "image/png": "[encoded data removed]",
      "text/plain": [
       "<Figure size 432x288 with 1 Axes>"
      ]
     },
     "metadata": {
      "needs_background": "light"
     },
     "output_type": "display_data"
    }
   ],
   "source": [
    "X, y = circ_dist()\n",
    "plot_classes(X,y)"
   ]
  },
  {
   "cell_type": "code",
   "execution_count": null,
   "metadata": {},
   "outputs": [],
   "source": []
  },
  {
   "cell_type": "markdown",
   "metadata": {},
   "source": [
    "# References"
   ]
  },
  {
   "cell_type": "code",
   "execution_count": null,
   "metadata": {},
   "outputs": [],
   "source": []
  }
 ],
 "metadata": {
  "kernelspec": {
   "display_name": "ML_Imperial",
   "language": "python",
   "name": "ml_imperial"
  },
  "language_info": {
   "codemirror_mode": {
    "name": "ipython",
    "version": 3
   },
   "file_extension": ".py",
   "mimetype": "text/x-python",
   "name": "python",
   "nbconvert_exporter": "python",
   "pygments_lexer": "ipython3",
   "version": "3.7.6"
  }
 },
 "nbformat": 4,
 "nbformat_minor": 4
}
