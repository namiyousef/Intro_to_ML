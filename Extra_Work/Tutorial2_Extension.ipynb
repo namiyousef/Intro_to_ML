{
 "cells": [
  {
   "cell_type": "markdown",
   "metadata": {},
   "source": [
    "# Tutorial2_Extension\n",
    "\n",
    "Here I try to expand on some of the concepts explored in the tutorial.\n"
   ]
  },
  {
   "cell_type": "markdown",
   "metadata": {},
   "source": [
    "# Libraries"
   ]
  },
  {
   "cell_type": "code",
   "execution_count": 1,
   "metadata": {},
   "outputs": [],
   "source": [
    "\"\"\"Necessary libraries\"\"\"\n",
    "\n",
    "# mathematical\n",
    "import numpy as np\n",
    "\n",
    "# plotting\n",
    "import matplotlib.pyplot as plt\n",
    "\n",
    "# datasets\n",
    "from sklearn.datasets import make_classification\n",
    "\n",
    "# modelling\n",
    "from sklearn.model_selection import train_test_split\n",
    "from sklearn.naive_bayes import GaussianNB\n",
    "\n",
    "\"\"\"Setting options\"\"\"\n",
    "\n",
    "# plot styles\n",
    "plt.style.use('ggplot')"
   ]
  },
  {
   "cell_type": "markdown",
   "metadata": {},
   "source": [
    "# Gaussian Function\n",
    "\n",
    "In the tutorial, I created my own gaussian function. However, now I'm interested to expand this for the multivarite case.\n",
    "\n",
    "Recall that, in the "
   ]
  },
  {
   "cell_type": "code",
   "execution_count": 146,
   "metadata": {},
   "outputs": [],
   "source": [
    "# univariate case\n",
    "\n",
    "def gaussian(x, mu = 0, sigma = 1):\n",
    "    \"\"\"\n",
    "    Gives the cumulative probability for each value in x based on a normal distribution defined by mu and sigma\n",
    "    \n",
    "    Parameters:\n",
    "    -----------\n",
    "    \n",
    "    x: np.array OR float\n",
    "        this is the x values whose cumulative probability is to be found\n",
    "    \n",
    "    mu (optional -- defaults to 0): float\n",
    "        this defines the mean of the normal distribution\n",
    "    \n",
    "    sigma (optional -- defaults to 1): float\n",
    "        this defines the standard deviation of the normal distribution\n",
    "        \n",
    "    \"\"\"\n",
    "    x = np.asarray(x) if isinstance(x,list) else x\n",
    "    \n",
    "    g = 1/(np.sqrt(2*np.pi)* sigma) * np.exp(-1/2 * np.power((x-mu)/sigma,2))\n",
    "    return g\n",
    "\n",
    "\n",
    "def multi_gaussian(X, mu = None, Sigma = 1):\n",
    "    # add option to set the correlation coefficient urself\n",
    "    n = X.shape[1] # define the degrees of freedom\n",
    "    \n",
    "    mu = [0 for i in range(n)] if not mu else mu\n",
    "    # need to modify mu to be able to add it manually\n",
    "    \n",
    "    Sigma = (lambda x: x, lambda x: np.diag(x))[isinstance(Sigma, list)](\n",
    "        (lambda x: x,lambda x: np.identity(n)*x)[isinstance(Sigma, int)](Sigma)\n",
    "    )\n",
    "    \n",
    "    # this equation is mathematically problematic? You have not scaled the vectors correctly...\n",
    "\n",
    "    p = 1/((2*np.pi)**(n/2) * np.sqrt(np.linalg.det(Sigma))) * np.exp(\n",
    "        -1/2 * np.matmul(np.matmul(X-mu, np.linalg.inv(Sigma)), (X-mu).T)\n",
    "    )\n",
    "    return p, mu, Sigma\n",
    "\n",
    "def covariance_matrix(X):\n",
    "    # this is from tutorial1_extension, needs some modificiation\n",
    "    \"\"\"\n",
    "    Calculates the covariance matrix for a given input X with n = X.shape[1] predictors\n",
    "    \"\"\"\n",
    "    n = X.shape[1]\n",
    "    n_points = X.shape[0]\n",
    "    Sigma = np.zeros([n,n])\n",
    "    mu = [X[:,i].mean(axis = 0) for i in range(n)]\n",
    "    for i in range(n): # rows\n",
    "        for j in range(i,n):\n",
    "            Sigma[i,j] = (X[:,i]*X[:,j]).sum(axis = 0)/n_points - mu[i]*mu[j]\n",
    "            if i != j:\n",
    "                Sigma[j,i] = Sigma[i,j]\n",
    "            \n",
    "    return mu,Sigma"
   ]
  },
  {
   "cell_type": "code",
   "execution_count": 153,
   "metadata": {},
   "outputs": [
    {
     "name": "stdout",
     "output_type": "stream",
     "text": [
      "(array([[2.91502447e-03, 4.30396995e+01],\n",
      "       [4.30396995e+01, 3.30371766e-05]]), [0, 0], array([[1., 0.],\n",
      "       [0., 1.]]))\n"
     ]
    },
    {
     "data": {
      "text/plain": [
       "array([[ 2. ,  2. ],\n",
       "       [-3.6, -2. ]])"
      ]
     },
     "execution_count": 153,
     "metadata": {},
     "output_type": "execute_result"
    }
   ],
   "source": [
    "X = np.array([[2,2],[-3.6,-2]])\n",
    "\n",
    "mu, Sigma = covariance_matrix(X)\n",
    "\n",
    "print(multi_gaussian(X, mu = [0,0], Sigma = 1))\n",
    "X"
   ]
  },
  {
   "cell_type": "code",
   "execution_count": 81,
   "metadata": {},
   "outputs": [
    {
     "name": "stdout",
     "output_type": "stream",
     "text": [
      "[[1. 0. 0.]\n",
      " [0. 1. 0.]\n",
      " [0. 0. 1.]]\n"
     ]
    }
   ],
   "source": [
    "n = 3\n",
    "Sigma = 1\n",
    "Sigma = (lambda x: x,lambda x: np.asarray(x).reshape(-n,n))[isinstance(Sigma, list)](\n",
    "     (lambda x: x,lambda x: np.identity(n)*x)[isinstance(Sigma, int)](Sigma)\n",
    "    )\n",
    "\n",
    "print(Sigma)"
   ]
  },
  {
   "cell_type": "code",
   "execution_count": 79,
   "metadata": {},
   "outputs": [
    {
     "ename": "ValueError",
     "evalue": "cannot reshape array of size 1 into shape (3)",
     "output_type": "error",
     "traceback": [
      "\u001b[0;31m---------------------------------------------------------------------------\u001b[0m",
      "\u001b[0;31mValueError\u001b[0m                                Traceback (most recent call last)",
      "\u001b[0;32m<ipython-input-79-288e4e056591>\u001b[0m in \u001b[0;36m<module>\u001b[0;34m\u001b[0m\n\u001b[1;32m      1\u001b[0m \u001b[0mSigma\u001b[0m \u001b[0;34m=\u001b[0m \u001b[0;36m5\u001b[0m\u001b[0;34m\u001b[0m\u001b[0;34m\u001b[0m\u001b[0m\n\u001b[0;32m----> 2\u001b[0;31m Sigma = (Sigma,np.asarray(Sigma).reshape(-n,n))[isinstance(Sigma, list)](\n\u001b[0m\u001b[1;32m      3\u001b[0m      \u001b[0;34m(\u001b[0m\u001b[0;32mlambda\u001b[0m \u001b[0mx\u001b[0m\u001b[0;34m:\u001b[0m \u001b[0mx\u001b[0m\u001b[0;34m,\u001b[0m\u001b[0;32mlambda\u001b[0m \u001b[0mx\u001b[0m\u001b[0;34m:\u001b[0m \u001b[0;36m0\u001b[0m\u001b[0;34m)\u001b[0m\u001b[0;34m[\u001b[0m\u001b[0misinstance\u001b[0m\u001b[0;34m(\u001b[0m\u001b[0mSigma\u001b[0m\u001b[0;34m,\u001b[0m \u001b[0mint\u001b[0m\u001b[0;34m)\u001b[0m\u001b[0;34m]\u001b[0m\u001b[0;34m(\u001b[0m\u001b[0;36m5\u001b[0m\u001b[0;34m)\u001b[0m\u001b[0;34m\u001b[0m\u001b[0;34m\u001b[0m\u001b[0m\n\u001b[1;32m      4\u001b[0m     )\n",
      "\u001b[0;31mValueError\u001b[0m: cannot reshape array of size 1 into shape (3)"
     ]
    }
   ],
   "source": [
    "Sigma = 5\n",
    "Sigma = (lambda x: x,np.asarray(Sigma).reshape(-n,n))[isinstance(Sigma, list)](\n",
    "     (lambda x: x,lambda x: 0)[isinstance(Sigma, int)](5)\n",
    "    )"
   ]
  },
  {
   "cell_type": "code",
   "execution_count": null,
   "metadata": {},
   "outputs": [],
   "source": []
  }
 ],
 "metadata": {
  "kernelspec": {
   "display_name": "ML_Imperial",
   "language": "python",
   "name": "ml_imperial"
  },
  "language_info": {
   "codemirror_mode": {
    "name": "ipython",
    "version": 3
   },
   "file_extension": ".py",
   "mimetype": "text/x-python",
   "name": "python",
   "nbconvert_exporter": "python",
   "pygments_lexer": "ipython3",
   "version": "3.7.6"
  }
 },
 "nbformat": 4,
 "nbformat_minor": 4
}
