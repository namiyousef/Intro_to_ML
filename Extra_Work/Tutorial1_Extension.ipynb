{
 "cells": [
  {
   "cell_type": "markdown",
   "metadata": {},
   "source": [
    "# Tutorial1_Extension\n",
    "\n",
    "Here I try to explore some of the concepts that I did not understand very well from the tutorial.\n"
   ]
  },
  {
   "cell_type": "markdown",
   "metadata": {},
   "source": [
    "# Libraries"
   ]
  },
  {
   "cell_type": "code",
   "execution_count": 3,
   "metadata": {},
   "outputs": [],
   "source": [
    "# mathematical\n",
    "import numpy as np\n",
    "\n",
    "# plotting\n",
    "import matplotlib.pyplot as plt"
   ]
  },
  {
   "cell_type": "markdown",
   "metadata": {},
   "source": [
    "# Covariance Matrix\n",
    "\n",
    "My understanding of the covariance matrix is very much based on stats, where:\n",
    "\n",
    "$$\\mathrm{Cov}(X,Y) = E\\left [ \\left(X-\\mu_X\\right) \\left(Y-\\mu_Y\\right)\\right ] = E\\left [XY\\right]-\\mu_X\\mu_Y$$\n",
    "\n",
    "Now, if we were to generalise this for a matrix $\\underline{\\underline{X}}$ of predictors, where the $i$th index represents the datapoint (data index), and the $j$th index represents the feature (or predictor), we would have something like this:\n",
    "\n",
    "$$\\Sigma_{ij}= \\frac{1}{n}X_{ki} X_{kj} - \\mu_{ij}$$\n",
    "\n",
    "Where the summation convention from index notation (Computational Continuum Mechanics) is applied.\n",
    "\n",
    "However, we got a very odd defii"
   ]
  },
  {
   "cell_type": "code",
   "execution_count": 17,
   "metadata": {},
   "outputs": [
    {
     "name": "stdout",
     "output_type": "stream",
     "text": [
      "[3.0, 4.333333333333333]\n"
     ]
    },
    {
     "data": {
      "text/plain": [
       "array([[2.66666667, 3.33333333],\n",
       "       [3.33333333, 4.22222222]])"
      ]
     },
     "execution_count": 17,
     "metadata": {},
     "output_type": "execute_result"
    }
   ],
   "source": [
    "# let's text this\n",
    "def covariance_matrix(X):\n",
    "    \"\"\"\n",
    "    Calculates the covariance matrix for a given input X with n = X.shape[1] predictors\n",
    "    \"\"\"\n",
    "    n = X.shape[1]\n",
    "    n_points = X.shape[0]\n",
    "    Sigma = np.zeros([n,n])\n",
    "    mu = [X[:,i].mean(axis = 0) for i in range(n)]\n",
    "    print(mu)\n",
    "    for i in range(n): # rows\n",
    "        for j in range(i,n):\n",
    "            Sigma[i,j] = (X[:,i]*X[:,j]).sum(axis = 0)/n_points - mu[i]*mu[j]\n",
    "            if i != j:\n",
    "                Sigma[j,i] = Sigma[i,j]\n",
    "            \n",
    "    return Sigma\n",
    "\n",
    "X = np.array(\n",
    "    [[1,2],\n",
    "     [3,4],\n",
    "     [5,7]]\n",
    ")    \n",
    "\n",
    "Sigma = covariance_matrix(X)\n",
    "Sigma"
   ]
  },
  {
   "cell_type": "code",
   "execution_count": null,
   "metadata": {},
   "outputs": [],
   "source": []
  }
 ],
 "metadata": {
  "kernelspec": {
   "display_name": "ML_Imperial",
   "language": "python",
   "name": "ml_imperial"
  },
  "language_info": {
   "codemirror_mode": {
    "name": "ipython",
    "version": 3
   },
   "file_extension": ".py",
   "mimetype": "text/x-python",
   "name": "python",
   "nbconvert_exporter": "python",
   "pygments_lexer": "ipython3",
   "version": "3.7.6"
  }
 },
 "nbformat": 4,
 "nbformat_minor": 4
}
