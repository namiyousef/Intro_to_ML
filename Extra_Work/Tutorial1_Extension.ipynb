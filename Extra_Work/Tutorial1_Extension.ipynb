{
 "cells": [
  {
   "cell_type": "markdown",
   "metadata": {},
   "source": [
    "# Tutorial1_Extension\n",
    "\n",
    "Here I try to explore some of the concepts that I did not understand very well from the tutorial.\n"
   ]
  },
  {
   "cell_type": "markdown",
   "metadata": {},
   "source": [
    "# Libraries"
   ]
  },
  {
   "cell_type": "code",
   "execution_count": 3,
   "metadata": {},
   "outputs": [],
   "source": [
    "# mathematical\n",
    "import numpy as np\n",
    "\n",
    "# plotting\n",
    "import matplotlib.pyplot as plt"
   ]
  },
  {
   "cell_type": "markdown",
   "metadata": {},
   "source": [
    "# Covariance Matrix\n",
    "\n",
    "My understanding of the covariance matrix is very much based on stats, where:\n",
    "\n",
    "$$\\mathrm{Cov}(X,Y) = E\\left [ \\left(X-\\mu_X\\right) \\left(Y-\\mu_Y\\right)\\right ] = E\\left [XY\\right]-\\mu_X\\mu_Y$$\n",
    "\n",
    "Now, if we were to generalise this for a matrix $\\underline{\\underline{X}}$ of predictors, where the $i$th index represents the datapoint (data index), and the $j$th index represents the feature (or predictor), we would have something like this:\n",
    "\n",
    "$$\\Sigma_{ij}= \\frac{1}{n}X_{ki} X_{kj} - \\mu_{ij}$$\n",
    "\n",
    "Where the summation convention from index notation (Computational Continuum Mechanics) is applied.\n",
    "\n",
    "However, we got a very odd definition in the machine learning course, which I still don't fully comprehend. This is, as per Dr Huthwaites notes:\n",
    "\n",
    "$$C_{ij} = (X-\\mu)_{ki}(X-\\mu)_{kj}$$\n",
    "Let's explore this.\n",
    "\n",
    "His equation does seem very similar to the non-simplified one that we wrote in the beginning, meaning it is something like this:\n",
    "\n",
    "$$\\Sigma_{ij} = E\\left[C_{ij}\\right]$$\n",
    "\n",
    "Let's explore this further"
   ]
  },
  {
   "cell_type": "code",
   "execution_count": 18,
   "metadata": {},
   "outputs": [
    {
     "name": "stdout",
     "output_type": "stream",
     "text": [
      "[3.0, 4.333333333333333]\n"
     ]
    },
    {
     "data": {
      "text/plain": [
       "array([[2.66666667, 3.33333333],\n",
       "       [3.33333333, 4.22222222]])"
      ]
     },
     "execution_count": 18,
     "metadata": {},
     "output_type": "execute_result"
    }
   ],
   "source": [
    "# my understanding\n",
    "\n",
    "def covariance_matrix(X):\n",
    "    \"\"\"\n",
    "    Calculates the covariance matrix for a given input X with n = X.shape[1] predictors\n",
    "    \"\"\"\n",
    "    n = X.shape[1]\n",
    "    n_points = X.shape[0]\n",
    "    Sigma = np.zeros([n,n])\n",
    "    mu = [X[:,i].mean(axis = 0) for i in range(n)]\n",
    "    print(mu)\n",
    "    for i in range(n): # rows\n",
    "        for j in range(i,n):\n",
    "            Sigma[i,j] = (X[:,i]*X[:,j]).sum(axis = 0)/n_points - mu[i]*mu[j]\n",
    "            if i != j:\n",
    "                Sigma[j,i] = Sigma[i,j]\n",
    "            \n",
    "    return Sigma\n",
    "\n",
    "X = np.array(\n",
    "    [[1,2],\n",
    "     [3,4],\n",
    "     [5,7]]\n",
    ")    \n",
    "\n",
    "Sigma = covariance_matrix(X)\n",
    "Sigma"
   ]
  },
  {
   "cell_type": "code",
   "execution_count": 27,
   "metadata": {},
   "outputs": [
    {
     "name": "stdout",
     "output_type": "stream",
     "text": [
      "[3.0, 4.333333333333333]\n"
     ]
    },
    {
     "data": {
      "text/plain": [
       "array([[2.66666667, 3.33333333],\n",
       "       [3.33333333, 4.22222222]])"
      ]
     },
     "execution_count": 27,
     "metadata": {},
     "output_type": "execute_result"
    }
   ],
   "source": [
    "def huthwaite_cov(X):\n",
    "    \"\"\"\n",
    "    Calculates the huthwaite covariance matrix\n",
    "    \"\"\"\n",
    "    n = X.shape[1]\n",
    "    n_points = X.shape[0]\n",
    "    C = np.zeros([n,n])\n",
    "    mu = [X[:,i].mean(axis = 0) for i in range(n)]\n",
    "    print(mu)\n",
    "    for i in range(n): # rows\n",
    "        for j in range(i,n):\n",
    "            C[i,j] = ((X[:,i]-mu[i])*(X[:,j]-mu[j])).sum(axis = 0)\n",
    "            if i != j:\n",
    "                C[j,i] = C[i,j]\n",
    "            \n",
    "    return C\n",
    "\n",
    "def covariance_matrix(C):\n",
    "    \"\"\"\n",
    "    Calculates the covariance matrix from the huthwaite_matrix C\n",
    "    \"\"\"\n",
    "    pass\n",
    "\n",
    "# not quite convinced?\n",
    "\n",
    "X = np.array(\n",
    "    [[1,2],\n",
    "     [3,4],\n",
    "     [5,7]]\n",
    ")    \n",
    "\n",
    "C = huthwaite_cov(X)\n",
    "\n",
    "Sigma = C/3\n",
    "Sigma"
   ]
  },
  {
   "cell_type": "markdown",
   "metadata": {},
   "source": [
    "It seems that our understanding of Huthwaite's C function was in fact correct. It's quite odd that he would use such a definition, perhaps it's worth discussing this with him?\n",
    "\n",
    "The tutorial included another covariance matrix, albeit this was a bit, confusing?\n",
    "It did not make sense to me. So it's worth exploring this for a bit."
   ]
  },
  {
   "cell_type": "code",
   "execution_count": 232,
   "metadata": {},
   "outputs": [],
   "source": [
    "def get_cov(*sigma, **kwargs):\n",
    "    \"\"\"\n",
    "    Creates a covariance matrix based on the value of theta \n",
    "    \n",
    "    Attributes:\n",
    "    -----------\n",
    "    \n",
    "    *sigma: *int\n",
    "        Can be 2 or 3 dimensions, defines the standard deviations for each degree of freedom\n",
    "        \n",
    "    **kwargs: *keyword = *int\n",
    "        kwargs for the create_rotation_matrix function, defines the intensity of the covariance\n",
    "        \n",
    "    Notes:\n",
    "    ------\n",
    "    - add functionality for N dimension sigma (in that case, the concept of the rotation matrix would cease\n",
    "    to exist though)\n",
    "    \n",
    "    \"\"\"\n",
    "    dof = len(sigma)\n",
    "    covar = np.zeros([dof,dof])\n",
    "    for i,std in enumerate(sigma):\n",
    "        covar[i,i] = std\n",
    "    \n",
    "    kwargs.update((x, y / 360 * 2 * np.pi) for x, y in kwargs.items()) # convert angles to radians\n",
    "    R = create_rotation_matrix(**kwargs)\n",
    "    try:\n",
    "        covar = np.matmul(np.matmul(R, covar), R.T)\n",
    "    except:\n",
    "        raise ValueError((\n",
    "            'Your covariance matrix is expected to be of shape {}, whereas your rotation matrix is of'\n",
    "            'shape {}. Check that you are not trying to rotate a 2D matrix in 3 dimensions'\n",
    "        ).format(covar.shape,R.shape))\n",
    "\n",
    "    return covar\n",
    "\n",
    "def create_rotation_matrix(theta_x = 0,theta_y = None, theta_z = None):\n",
    "    \"\"\"\n",
    "    creates the 2D or 3D rotation matrices depending on the inputs that are given. Note that all angles must\n",
    "    in RADIANS\n",
    "    \n",
    "    Attributes:\n",
    "    -----------\n",
    "    \n",
    "    theta_x: int\n",
    "        defines the yaw of the system\n",
    "    \n",
    "    theta_y: int\n",
    "        defines the pitch of the system\n",
    "    \n",
    "    theta_z: int\n",
    "        defines the roll of the system\n",
    "    \"\"\"\n",
    "    \n",
    "    if theta_y != None and theta_z != None:\n",
    "        R_x = np.array([\n",
    "            [1, 0, 0],\n",
    "            [0, np.cos(theta_x), -np.sin(theta_x)],\n",
    "            [0, np.sin(theta_x), np.cos(theta_x)]\n",
    "        ])\n",
    "        \n",
    "        R_y = np.array([\n",
    "            [np.cos(theta_y), 0, np.sin(theta_y)],\n",
    "            [0, 1, 0],\n",
    "            [-np.sin(theta_y),0, np.cos(theta_y)]\n",
    "        ])\n",
    "        \n",
    "        R_z = np.array([\n",
    "            [np.cos(theta_z), -np.sin(theta_z), 0],\n",
    "            [np.sin(theta_z), np.cos(theta_z), 0],\n",
    "            [0,0,1]\n",
    "        ])\n",
    "        R = np.matmul(np.matmul(R_x,R_y),R_z)\n",
    "        \n",
    "    else:\n",
    "        R = np.array([\n",
    "            [np.cos(theta_x), -np.sin(theta_x)],\n",
    "            [np.sin(theta_x), np.cos(theta_x)]\n",
    "        ])\n",
    "        \n",
    "    return R\n",
    "\n",
    "\n",
    "# create a function that can plot the covariances for multiple plots, i.e. 2D 3D as a function of the theta\n",
    "# that you give it (maybe it's best to convert what you have above into a CLASS for ease?)"
   ]
  },
  {
   "cell_type": "markdown",
   "metadata": {},
   "source": [
    "After exploration, it seems to me that Huthwaite's get_cov function is just a makeshift method for creating a covariance matrix...\n",
    "\n",
    "This is because after multiplication, you are left with the following:\n",
    "\n",
    "\n",
    "$$\\mathrm{Cov} = \\left [\\begin{matrix}\n",
    "\\sigma_x^2 & \\sigma_x\\cos\\theta\\sin\\theta - \\sigma_y\\cos\\theta\\sin\\theta \\\\\n",
    "\\sigma_x\\cos\\theta\\sin\\theta - \\sigma_y\\cos\\theta\\sin\\theta  & \\sigma_y^2\n",
    "\\end{matrix}\\right]$$\n",
    "\n",
    "Theta thus controls the degree to which these points are related."
   ]
  },
  {
   "cell_type": "markdown",
   "metadata": {},
   "source": [
    "# Creating a probability distribution from the covariance\n",
    "\n",
    "Here, we try to recreate a normal distribution based on the covariance matrix.\n",
    "\n",
    "Note the general equation (not written in index notation due to complexity)\n",
    "\n",
    "\n",
    "$$p(\\,{\\underline{x}\\,}) = \\frac{1}{(2\\pi)^{\\frac{k}{2}}|\\Sigma|^\\frac{1}{2}}\n",
    "\\exp\\left [\n",
    "-\\frac{1}{2}(x-\\mu)^T \\Sigma ^{-1} (x-\\mu)\n",
    "\\right]\n",
    "$$\n",
    "\n",
    "Note here that $\\underline{x}$ represents a vector of **variables**, so each one is actually a vector. So that can get expanded into a matrix. Let's think about how we would formulate this?"
   ]
  },
  {
   "cell_type": "markdown",
   "metadata": {},
   "source": [
    "# Meshgrid\n",
    "\n",
    "In order to find the distribution for this, since we have an N by N problem, we can't simply do what we'd do for a single degree of freedom system..."
   ]
  },
  {
   "cell_type": "code",
   "execution_count": 117,
   "metadata": {},
   "outputs": [
    {
     "data": {
      "text/plain": [
       "[<matplotlib.lines.Line2D at 0x1239418d0>]"
      ]
     },
     "execution_count": 117,
     "metadata": {},
     "output_type": "execute_result"
    },
    {
     "data": {
      "image/png": "[encoded data removed]",
      "text/plain": [
       "<Figure size 432x288 with 1 Axes>"
      ]
     },
     "metadata": {
      "needs_background": "light"
     },
     "output_type": "display_data"
    }
   ],
   "source": [
    "# let's first try this for a single degree of freedom system\n",
    "\n",
    "mu = 0\n",
    "sigma = 1\n",
    "\n",
    "x = np.linspace(-1,1,200) # 200 points\n",
    "\n",
    "p = 1/(np.sqrt(2*np.pi)*sigma) * np.exp(-(1/2)*np.power((x-mu),2)/sigma)\n",
    "\n",
    "plt.plot(x,p)\n",
    "\n",
    "# a guassian, as we might expect"
   ]
  },
  {
   "cell_type": "code",
   "execution_count": 160,
   "metadata": {},
   "outputs": [
    {
     "name": "stdout",
     "output_type": "stream",
     "text": [
      "(100, 200, 300)\n",
      "(100, 200, 300)\n",
      "(100, 200, 300)\n"
     ]
    },
    {
     "data": {
      "text/plain": [
       "array([[-1.        , -1.        , -1.        ],\n",
       "       [-1.        , -1.        , -0.99331104],\n",
       "       [-1.        , -1.        , -0.98662207],\n",
       "       ...,\n",
       "       [ 1.        ,  1.        ,  0.98662207],\n",
       "       [ 1.        ,  1.        ,  0.99331104],\n",
       "       [ 1.        ,  1.        ,  1.        ]])"
      ]
     },
     "execution_count": 160,
     "metadata": {},
     "output_type": "execute_result"
    }
   ],
   "source": [
    "# explanation of code from the tutorial\n",
    "\n",
    "\n",
    "x1_line = np.linspace(-1,1, 200)\n",
    "x2_line = np.linspace(-1,1, 100)\n",
    "x3_line = np.linspace(-1,1,300)\n",
    "\n",
    "x1_grid, x2_grid, x3_grid= np.meshgrid(x1_line, x2_line, x3_line)\n",
    "print(x1_grid.shape)\n",
    "print(x2_grid.shape)\n",
    "print(x3_grid.shape)\n",
    "\n",
    "\n",
    "# what meshgrid does is:\n",
    "# it duplicates the same pattern to a dimension that is N_1 x N_2 x N_3 .. N_n, where each N is a line of size \n",
    "# different size\n",
    "X_grid = np.array([x1_grid, x2_grid, x3_grid]).reshape(3, 200*100*300).T\n",
    "X_grid"
   ]
  },
  {
   "cell_type": "markdown",
   "metadata": {},
   "source": [
    "From the above, I'm not exactly sure what the reshape is doing... \n",
    "It's very difficult to imagine this in 3D... but let's try to do it!"
   ]
  },
  {
   "cell_type": "code",
   "execution_count": 319,
   "metadata": {},
   "outputs": [],
   "source": [
    "# for a 2D plot, we now need to actually think about the dimensions\n",
    "# Since this can technically be done for n dimensions, let's make it as such!\n",
    "\n",
    "def gridspacer(*gridparams, mu = [0,0]):\n",
    "    \"\"\"\n",
    "    creates a meshgrid\n",
    "    \n",
    "    Attributes:\n",
    "    -----------\n",
    "    \n",
    "    *gridparams: *[int, int, int]\n",
    "        N lists of the following format [X_min, X_max, n_samples]\n",
    "    \"\"\"\n",
    "    n = len(gridparams)\n",
    "    lines = []\n",
    "    grids = []\n",
    "    axes = [] #this axes was added as a last minute save!\n",
    "    total_size = 1\n",
    "    for parameters, mean in zip(gridparams,mu):\n",
    "        axes.append(np.linspace(*parameters))\n",
    "        lines.append(np.linspace(*parameters)- mean)\n",
    "        total_size *= parameters[2]\n",
    "        \n",
    "    for grid in np.meshgrid(*lines):\n",
    "        grids.append(grid)\n",
    "    \n",
    "\n",
    "    X_grid = np.array(grids).reshape(n,total_size).T\n",
    "    \n",
    "    return lines, X_grid, axes\n",
    "    \n",
    "def gaussian(covar, X_grid):\n",
    "    \"\"\"\n",
    "    a function that creates gaussian probabilities for a given covariance matrix\n",
    "    \n",
    "    Attributes:\n",
    "    -----------\n",
    "    covar: np.array\n",
    "        an N by N covariance array\n",
    "        \n",
    "    \"\"\"\n",
    "        \n",
    "    n = covar.shape[1]\n",
    "    p = 1/(np.power(2*np.pi, n/2) * np.sqrt(np.linalg.det(covar))) * np.exp(\n",
    "        -1/2 * (np.matmul(X_grid, np.linalg.inv(covar)) * X_grid ).sum(-1) #row sum\n",
    "    )\n",
    "    return p\n",
    "\n",
    "\n",
    "# need to make this a class, RESHAPE function (see cell below), requires the *gridparams from 'gridspacer'"
   ]
  },
  {
   "cell_type": "code",
   "execution_count": 313,
   "metadata": {},
   "outputs": [
    {
     "data": {
      "text/plain": [
       "<matplotlib.contour.QuadContourSet at 0x133f87450>"
      ]
     },
     "execution_count": 313,
     "metadata": {},
     "output_type": "execute_result"
    },
    {
     "data": {
      "image/png": "[encoded data removed]",
      "text/plain": [
       "<Figure size 576x576 with 1 Axes>"
      ]
     },
     "metadata": {
      "needs_background": "light"
     },
     "output_type": "display_data"
    }
   ],
   "source": [
    "cov = get_cov(1, 0.1, theta_x = 0)\n",
    "\n",
    "lines, X_grid, axes = gridspacer([-1,1,200],[-1,1,200], mu = [0,0])\n",
    "\n",
    "p = gaussian(cov, X_grid)\n",
    "p = p.reshape(200,200)\n",
    "\n",
    "p.shape\n",
    "plt.figure(figsize=(8,8))\n",
    "plt.contourf(*axes, p)\n",
    "\n",
    "# this cell has verified that my gaussian function works"
   ]
  },
  {
   "cell_type": "code",
   "execution_count": 325,
   "metadata": {},
   "outputs": [
    {
     "data": {
      "text/plain": [
       "<matplotlib.contour.QuadContourSet at 0x1779ae910>"
      ]
     },
     "execution_count": 325,
     "metadata": {},
     "output_type": "execute_result"
    },
    {
     "data": {
      "image/png": "[encoded data removed]",
      "text/plain": [
       "<Figure size 576x576 with 1 Axes>"
      ]
     },
     "metadata": {
      "needs_background": "light"
     },
     "output_type": "display_data"
    }
   ],
   "source": [
    "cov = get_cov(1, 0.1, 0.5, theta_x = 0, theta_y = 0, theta_z = 0)\n",
    "\n",
    "\n",
    "lines, X_grid, axes = gridspacer([-1,1,200],[-1,1,200],[-1,1,200], mu = [1,1,0])\n",
    "p = gaussian(cov,X_grid)\n",
    "p = p.reshape(200,200,200)\n",
    "\n",
    "plt.figure(figsize=(8,8))\n",
    "\n",
    "plt.contourf(*axes[:-1],p.mean(axis = 2))\n",
    "# so basically, axis = the N that is not being selected. When you have more than 2 vars, then I guess you need\n",
    "# to take multiple means ?\n",
    "# you cannot do more than four dimensions right now because of the way the covariance matrix is even defined...\n",
    "# that said, you can make this even more abtract if you remove the theta contraints. Do this as a class\n",
    "#problem !\n",
    "# this seems to be working!!!\n",
    "# let's create a plotting function now!"
   ]
  },
  {
   "cell_type": "code",
   "execution_count": 265,
   "metadata": {},
   "outputs": [
    {
     "data": {
      "text/plain": [
       "array([3, 7])"
      ]
     },
     "execution_count": 265,
     "metadata": {},
     "output_type": "execute_result"
    }
   ],
   "source": [
    "np.array([[1,2]\n",
    "          ,[3,4]]).sum(1)"
   ]
  },
  {
   "cell_type": "code",
   "execution_count": null,
   "metadata": {},
   "outputs": [],
   "source": []
  }
 ],
 "metadata": {
  "kernelspec": {
   "display_name": "ML_Imperial",
   "language": "python",
   "name": "ml_imperial"
  },
  "language_info": {
   "codemirror_mode": {
    "name": "ipython",
    "version": 3
   },
   "file_extension": ".py",
   "mimetype": "text/x-python",
   "name": "python",
   "nbconvert_exporter": "python",
   "pygments_lexer": "ipython3",
   "version": "3.7.6"
  }
 },
 "nbformat": 4,
 "nbformat_minor": 4
}
