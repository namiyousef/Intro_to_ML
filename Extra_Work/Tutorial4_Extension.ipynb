{
 "cells": [
  {
   "cell_type": "markdown",
   "metadata": {},
   "source": [
    "# Tutorial 4_Extension\n",
    "\n",
    "By doing this extension, I want to achieve three things:\n",
    "\n",
    "1) expand on my ability to code by automating some of the processes used in the Linear Discriminant Functions tutorial\n",
    "\n",
    "2) Understand the concepts a bit better"
   ]
  },
  {
   "cell_type": "markdown",
   "metadata": {},
   "source": [
    "# Libraries\n"
   ]
  },
  {
   "cell_type": "code",
   "execution_count": 154,
   "metadata": {},
   "outputs": [],
   "source": [
    "import pandas as pd\n",
    "import numpy as np\n",
    "import matplotlib.pyplot as plt"
   ]
  },
  {
   "cell_type": "markdown",
   "metadata": {},
   "source": [
    "# 1 Linear Discriminant Functions"
   ]
  },
  {
   "cell_type": "code",
   "execution_count": 155,
   "metadata": {},
   "outputs": [],
   "source": [
    "def LDF(X, w, w_0):\n",
    "    \"\"\"\n",
    "    Computes the discriminant function g(X) = w . X + w_0\n",
    "    \"\"\"\n",
    "    return np.matmul(w, X) + w_0\n",
    "\n",
    "\n",
    "def create_grid(*x):\n",
    "    \"\"\"\n",
    "    Creates a grid of points to plot based on n x coordinates\n",
    "    \"\"\"\n",
    "    p = 1\n",
    "    for i in x:\n",
    "        p *= len(i)\n",
    "    grid = [*np.meshgrid(*x)]\n",
    "    Xgrid = np.array(grid).reshape(len(grid),p)\n",
    "    return Xgrid\n",
    "\n",
    "def reshape_by_component(f, *x):\n",
    "    \"\"\"\n",
    "    reshapes a function f by the dimensions of it's consituent components *x\n",
    "    \"\"\"\n",
    "    return f.reshape(*[len(i) for i in x])\n",
    "    "
   ]
  },
  {
   "cell_type": "code",
   "execution_count": 156,
   "metadata": {},
   "outputs": [
    {
     "data": {
      "text/plain": [
       "<matplotlib.colorbar.Colorbar at 0x11f4eb5d0>"
      ]
     },
     "execution_count": 156,
     "metadata": {},
     "output_type": "execute_result"
    },
    {
     "data": {
      "image/png": "[encoded data removed]",
      "text/plain": [
       "<Figure size 432x288 with 2 Axes>"
      ]
     },
     "metadata": {
      "needs_background": "light"
     },
     "output_type": "display_data"
    }
   ],
   "source": [
    "# text function\n",
    "\n",
    "x1 = np.linspace(0,1,200)\n",
    "x2 = np.linspace(0,1,200)\n",
    "\n",
    "Xgrid = create_grid(x1,x2)\n",
    "\n",
    "w = [-1,-3]\n",
    "\n",
    "g = LDF(Xgrid, w, 1)\n",
    "\n",
    "g = reshape_by_component(g, x1,x2)\n",
    "\n",
    "plt.contourf(x1, x2, g)\n",
    "plt.colorbar()\n",
    "\n",
    "# this result is equivalent to that of exercise two from the tutorial\n",
    "# looks like the functions are working well!"
   ]
  },
  {
   "cell_type": "code",
   "execution_count": 157,
   "metadata": {},
   "outputs": [],
   "source": [
    "def generalised_LDF(X, W, w_0):\n",
    "    \"\"\"\n",
    "    given coodinates X, a weight matrix W and a bias value of w_0, computes the relevant\n",
    "    classes for each input\n",
    "    \"\"\"\n",
    "    gs = []\n",
    "    for w in W:\n",
    "        gs.append(LDF(X, w, w_0))\n",
    "    # define classes array\n",
    "    Y = np.zeros([1, X.shape[1]])\n",
    "    for i in range(len(gs)):\n",
    "        Y_temp = np.ones([1, X.shape[1]])\n",
    "        for j in range(len(gs)):\n",
    "            Y_temp[0, gs[i] < gs[j]] = 0\n",
    "            \n",
    "        Y[Y_temp == 1] = i + 1\n",
    "    \n",
    "    return Y"
   ]
  },
  {
   "cell_type": "code",
   "execution_count": 290,
   "metadata": {},
   "outputs": [
    {
     "name": "stdout",
     "output_type": "stream",
     "text": [
      "(2, 40000)\n",
      "(1, 40000)\n"
     ]
    },
    {
     "data": {
      "text/plain": [
       "<matplotlib.contour.QuadContourSet at 0x11f9ccf90>"
      ]
     },
     "execution_count": 290,
     "metadata": {},
     "output_type": "execute_result"
    },
    {
     "data": {
      "image/png": "[encoded data removed]",
      "text/plain": [
       "<Figure size 432x288 with 1 Axes>"
      ]
     },
     "metadata": {
      "needs_background": "light"
     },
     "output_type": "display_data"
    }
   ],
   "source": [
    "W = np.array([\n",
    "    [1.3, -1, -3],\n",
    "    [-2, 1, 2],\n",
    "    [0.3, 0.1, -0.1],\n",
    "    [0, -1, 1],\n",
    "    [-0.2, 1.5, -1],\n",
    "])\n",
    "\n",
    "# NOTE: Xgrid needs to change!\n",
    "\n",
    "Xgrid = create_grid(x1,x2)\n",
    "print(Xgrid.shape)\n",
    "print(np.ones([1,Xgrid.shape[1]]).shape)\n",
    "Ygrid = np.concatenate([np.ones([1,Xgrid.shape[1]]), Xgrid])\n",
    "\n",
    "Y = generalised_LDF(Ygrid, W, 1)\n",
    "\n",
    "Y = reshape_by_component(Y,x1,x2)\n",
    "\n",
    "plt.contourf(x1,x2,Y)"
   ]
  },
  {
   "cell_type": "markdown",
   "metadata": {},
   "source": [
    "# Higher order functions"
   ]
  },
  {
   "cell_type": "code",
   "execution_count": 159,
   "metadata": {},
   "outputs": [
    {
     "data": {
      "text/plain": [
       "<matplotlib.contour.QuadContourSet at 0x11f63e710>"
      ]
     },
     "execution_count": 159,
     "metadata": {},
     "output_type": "execute_result"
    },
    {
     "data": {
      "image/png": "[encoded data removed]",
      "text/plain": [
       "<Figure size 432x288 with 1 Axes>"
      ]
     },
     "metadata": {
      "needs_background": "light"
     },
     "output_type": "display_data"
    }
   ],
   "source": [
    "W = np.array([\n",
    "    [1.3, -1, -3, -10],\n",
    "    [-1, 1.5, 3, -1],\n",
    "    [0.4, -0.1, -0.1, 3],\n",
    "    [0.5, -1, 1, -0.1],\n",
    "    [-0.2, 1.5, -1, 0.4],\n",
    "])\n",
    "\n",
    "Xgrid = create_grid(x1,x2)#\n",
    "Ygrid = np.concatenate([\n",
    "    np.ones([1,Xgrid.shape[1]]),\n",
    "    Xgrid,\n",
    "    (Xgrid[0,:] * Xgrid[1,:]).reshape(1,-1)\n",
    "])\n",
    "\n",
    "\n",
    "Y = generalised_LDF(Ygrid, W, 1)\n",
    "\n",
    "Y = reshape_by_component(Y,x1,x2)\n",
    "\n",
    "plt.contourf(x1,x2,Y)\n",
    "\n",
    "\n",
    "# this is also correct, now let's try to design a class that will do all of this for us"
   ]
  },
  {
   "cell_type": "markdown",
   "metadata": {},
   "source": [
    "# Creating a class..."
   ]
  },
  {
   "cell_type": "code",
   "execution_count": 338,
   "metadata": {},
   "outputs": [],
   "source": [
    "class GeneralLDF:\n",
    "    \"\"\"\n",
    "    \n",
    "    A class for playing around with Generalised LDF functions\n",
    "    \n",
    "    \n",
    "    Dependencies:\n",
    "    -------------\n",
    "    import matplotlib.pyplot as plt\n",
    "    import numpy as np\n",
    "    \n",
    "    \n",
    "    Attributes:\n",
    "    -----------\n",
    "    W : np.array\n",
    "        the weights array\n",
    "    \n",
    "    *x : np.array OR list\n",
    "        the x1...xn coordinates of the problem\n",
    "    \n",
    "    **kwargs :\n",
    "        feat1...featn : list\n",
    "            creates extra polynomial features based on the *x coordinates.\n",
    "            For instance: feat1 = [1,2] will create an extra feature of the form\n",
    "            x1**1 * x2**2\n",
    "    \n",
    "    Methods:\n",
    "    --------\n",
    "    create_grid(self, *features) --> np.array\n",
    "        creates plotting grids based on the input coordinates *x\n",
    "    \n",
    "    reshape_by_component(self, f) --> np.array\n",
    "        reshapes function f by it's constitudent axes *x for plotting purposes\n",
    "        \n",
    "    calculate_g(self) --> np.array\n",
    "        calculates classes based on the weights and Xgrid\n",
    "    \n",
    "    plot(self, Y, **kwargs) --> None\n",
    "        plots a contourplot of the classes Y based on the coordinates x1 and x2\n",
    "        NOTE: Currently no 3D plots possible\n",
    "        \n",
    "    \"\"\"\n",
    "    def __init__(self, W,*x, **kwargs):\n",
    "        self.W = W\n",
    "        self.x = x\n",
    "        self.Xgrid = self.create_grid(*kwargs.values())\n",
    "\n",
    "    \n",
    "    def create_grid(self, *features):\n",
    "        \"\"\"\n",
    "        \n",
    "        Attributes:\n",
    "        -----------\n",
    "        \n",
    "        *features : *list\n",
    "            lists of features that define extra polynomial features to be added\n",
    "            to Xgrid\n",
    "    \n",
    "        \"\"\"\n",
    "        p = 1\n",
    "        for x in self.x:\n",
    "            p *= len(x)\n",
    "            \n",
    "        grid = [*np.meshgrid(*self.x)]\n",
    "        Xgrid = np.array(grid).reshape(len(grid),p)\n",
    "        Xgrid = np.concatenate([\n",
    "            np.ones([1, Xgrid.shape[1]]), Xgrid\n",
    "        ])\n",
    "        for feature in features:\n",
    "            new_feature = np.ones([1,Xgrid.shape[1]])\n",
    "            for i, power in enumerate(feature):\n",
    "                new_feature *= Xgrid[i+1,:] ** power\n",
    "            Xgrid = np.concatenate([\n",
    "                Xgrid, new_feature.reshape(1,-1)   \n",
    "            ])\n",
    "        \n",
    "        return Xgrid        \n",
    "\n",
    "    def reshape_by_component(self, f):\n",
    "        \"\"\"\n",
    "        \n",
    "        Attributes:\n",
    "        -----------\n",
    "        \n",
    "        f : np.array\n",
    "            function f to be reshaped\n",
    "            \n",
    "        \"\"\"\n",
    "        return f.reshape(*[len(i) for i in self.x])\n",
    "    \n",
    "    def calculate_g(self):\n",
    "        gs = []\n",
    "        for w in self.W:\n",
    "            gs.append(np.matmul(w, self.Xgrid))\n",
    "        # define classes array\n",
    "        Y = np.zeros([1, self.Xgrid.shape[1]])\n",
    "        for i in range(len(gs)):\n",
    "            Y_temp = np.ones([1, self.Xgrid.shape[1]])\n",
    "            for j in range(len(gs)):\n",
    "                Y_temp[0, gs[i] < gs[j]] = 0\n",
    "            \n",
    "            Y[Y_temp == 1] = i + 1\n",
    "    \n",
    "        return Y\n",
    "    \n",
    "    def plot(self, Y, **kwargs):\n",
    "        \"\"\"\n",
    "        \n",
    "        Attributes:\n",
    "        -----------\n",
    "        \n",
    "        Y : np.array\n",
    "            an array containing the correct classes for each point, x1, x2.\n",
    "            \n",
    "        **kwargs : \n",
    "            cmap : str\n",
    "                a string containing the desired colormap to use for the contour plot\n",
    "            \n",
    "        \"\"\"\n",
    "        Y = reshape_by_component(Y,*self.x)\n",
    "        ax, fig = plt.subplots(figsize = (10,8))\n",
    "        plt.contourf(self.x[0],self.x[1],Y,\n",
    "                     cmap=plt.cm.get_cmap(\n",
    "                         'Set1' if 'cmap' not in kwargs else kwargs['cmap'],\n",
    "                         len(np.unique(Y))+1))\n",
    "        plt.colorbar(ticks= range(len(np.unique(Y))+1), label= 'classes')\n",
    "        plt.clim(-0.5, 5.5)\n",
    "        plt.title('a contour plot of the generalised linear discriminant function')\n",
    "        plt.xlabel('x1')\n",
    "        plt.ylabel('x2')"
   ]
  },
  {
   "cell_type": "code",
   "execution_count": 341,
   "metadata": {},
   "outputs": [
    {
     "data": {
      "image/png": "[encoded data removed]",
      "text/plain": [
       "<Figure size 720x576 with 2 Axes>"
      ]
     },
     "metadata": {
      "needs_background": "light"
     },
     "output_type": "display_data"
    }
   ],
   "source": [
    "        \n",
    "#x1 = np.linspace(0,1,200)\n",
    "#x2 = np.linspace(0,1,200)\n",
    "x1  = [i/100 for i in range(100)]\n",
    "x2  = [i/100 for i in range(100)]\n",
    "W = np.array([\n",
    "    [1.3, -1, -3, -10],\n",
    "    [-1, 1.5, 3, -1],\n",
    "    [0.4, -0.1, -0.1, 3],\n",
    "    [0.5, -1, 1, -0.1],\n",
    "    [-0.2, 1.5, -1, 0.4],\n",
    "])\n",
    "model = GeneralLDF(W, x1, x2, feat1 = [1,1])\n",
    "Y = model.calculate_g()\n",
    "model.plot(Y, cmap = 'viridis')"
   ]
  },
  {
   "cell_type": "code",
   "execution_count": null,
   "metadata": {},
   "outputs": [],
   "source": []
  }
 ],
 "metadata": {
  "kernelspec": {
   "display_name": "ML_Imperial",
   "language": "python",
   "name": "ml_imperial"
  },
  "language_info": {
   "codemirror_mode": {
    "name": "ipython",
    "version": 3
   },
   "file_extension": ".py",
   "mimetype": "text/x-python",
   "name": "python",
   "nbconvert_exporter": "python",
   "pygments_lexer": "ipython3",
   "version": "3.7.6"
  }
 },
 "nbformat": 4,
 "nbformat_minor": 4
}
