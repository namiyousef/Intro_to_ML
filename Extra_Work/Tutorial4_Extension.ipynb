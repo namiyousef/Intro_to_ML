{
 "cells": [
  {
   "cell_type": "markdown",
   "metadata": {},
   "source": [
    "# Tutorial 4_Extension\n",
    "\n",
    "By doing this extension, I want to achieve three things:\n",
    "\n",
    "1) expand on my ability to code by automating some of the processes used in the Linear Discriminant Functions tutorial\n",
    "\n",
    "2) Understand the concepts a bit better"
   ]
  },
  {
   "cell_type": "markdown",
   "metadata": {},
   "source": [
    "# Libraries\n"
   ]
  },
  {
   "cell_type": "code",
   "execution_count": 1,
   "metadata": {},
   "outputs": [],
   "source": [
    "import pandas as pd\n",
    "import numpy as np\n",
    "import matplotlib.pyplot as plt"
   ]
  },
  {
   "cell_type": "markdown",
   "metadata": {},
   "source": [
    "# 1 Linear Discriminant Functions"
   ]
  },
  {
   "cell_type": "code",
   "execution_count": 20,
   "metadata": {},
   "outputs": [],
   "source": [
    "def LDF(X, w, w_0):\n",
    "    \"\"\"\n",
    "    Computes the discriminant function g(X) = w . X + w_0\n",
    "    \"\"\"\n",
    "    return np.matmul(w, X) + w_0\n",
    "\n",
    "\n",
    "def create_grid(*x):\n",
    "    \"\"\"\n",
    "    Creates a grid of points to plot based on n x coordinates\n",
    "    \"\"\"\n",
    "    p = 1\n",
    "    for i in x:\n",
    "        p *= len(i)\n",
    "    grid = [*np.meshgrid(*x)]\n",
    "    Xgrid = np.array(grid).reshape(len(grid),p)\n",
    "    return Xgrid\n",
    "\n",
    "def reshape_by_component(f, *x):\n",
    "    \"\"\"\n",
    "    reshapes a function f by the dimensions of it's consituent components *x\n",
    "    \"\"\"\n",
    "    return f.reshape(*[len(i) for i in x])\n",
    "    "
   ]
  },
  {
   "cell_type": "code",
   "execution_count": 25,
   "metadata": {},
   "outputs": [
    {
     "name": "stdout",
     "output_type": "stream",
     "text": [
      "200 200\n"
     ]
    },
    {
     "data": {
      "text/plain": [
       "<matplotlib.colorbar.Colorbar at 0x1185e0350>"
      ]
     },
     "execution_count": 25,
     "metadata": {},
     "output_type": "execute_result"
    },
    {
     "data": {
      "image/png": "[encoded data removed]",
      "text/plain": [
       "<Figure size 432x288 with 2 Axes>"
      ]
     },
     "metadata": {
      "needs_background": "light"
     },
     "output_type": "display_data"
    }
   ],
   "source": [
    "# text function\n",
    "\n",
    "x1 = np.linspace(0,1,200)\n",
    "x2 = np.linspace(0,1,200)\n",
    "\n",
    "Xgrid = create_grid(x1,x2)\n",
    "\n",
    "w = [-1,-3]\n",
    "\n",
    "g = LDF(Xgrid, w, 1)\n",
    "\n",
    "g = reshape_by_component(g, x1,x2)\n",
    "\n",
    "plt.contourf(x1, x2, g)\n",
    "plt.colorbar()\n",
    "\n",
    "# this result is equivalent to that of exercise two from the tutorial\n",
    "# looks like the functions are working well!"
   ]
  },
  {
   "cell_type": "code",
   "execution_count": 78,
   "metadata": {},
   "outputs": [],
   "source": [
    "def generalised_LDF(X, W, w_0):\n",
    "    \"\"\"\n",
    "    given coodinates X, a weight matrix W and a bias value of w_0, computes the relevant\n",
    "    classes for each input\n",
    "    \"\"\"\n",
    "    gs = []\n",
    "    for w in W:\n",
    "        gs.append(LDF(X, w, w_0))\n",
    "    # define classes array\n",
    "    Y = np.zeros([1, X.shape[1]])\n",
    "    for i in range(len(gs)):\n",
    "        Y_temp = np.ones([1, X.shape[1]])\n",
    "        for j in range(len(gs)):\n",
    "            Y_temp[0, gs[i] < gs[j]] = 0\n",
    "            \n",
    "        Y[Y_temp == 1] = i + 1\n",
    "    \n",
    "    return Y"
   ]
  },
  {
   "cell_type": "code",
   "execution_count": 81,
   "metadata": {},
   "outputs": [
    {
     "name": "stdout",
     "output_type": "stream",
     "text": [
      "(2, 40000)\n",
      "(1, 40000)\n",
      "200 200\n"
     ]
    },
    {
     "data": {
      "text/plain": [
       "<matplotlib.contour.QuadContourSet at 0x124d4a3d0>"
      ]
     },
     "execution_count": 81,
     "metadata": {},
     "output_type": "execute_result"
    },
    {
     "data": {
      "image/png": "[encoded data removed]",
      "text/plain": [
       "<Figure size 432x288 with 1 Axes>"
      ]
     },
     "metadata": {
      "needs_background": "light"
     },
     "output_type": "display_data"
    }
   ],
   "source": [
    "W = np.array([\n",
    "    [1.3, -1, -3],\n",
    "    [-2, 1, 2],\n",
    "    [0.3, 0.1, -0.1],\n",
    "    [0, -1, 1],\n",
    "    [-0.2, 1.5, -1],\n",
    "])\n",
    "\n",
    "# NOTE: Xgrid needs to change!\n",
    "\n",
    "Xgrid = create_grid(x1,x2)\n",
    "print(Xgrid.shape)\n",
    "print(np.ones([1,Xgrid.shape[1]]).shape)\n",
    "Ygrid = np.concatenate([np.ones([1,Xgrid.shape[1]]), Xgrid])\n",
    "\n",
    "Y = generalised_LDF(Ygrid, W, 1)\n",
    "\n",
    "Y = reshape_by_component(Y,x1,x2)\n",
    "\n",
    "plt.contourf(x1,x2,Y)"
   ]
  },
  {
   "cell_type": "markdown",
   "metadata": {},
   "source": [
    "# Higher order functions"
   ]
  },
  {
   "cell_type": "code",
   "execution_count": 195,
   "metadata": {},
   "outputs": [
    {
     "data": {
      "text/html": [
       "<div>\n",
       "<style scoped>\n",
       "    .dataframe tbody tr th:only-of-type {\n",
       "        vertical-align: middle;\n",
       "    }\n",
       "\n",
       "    .dataframe tbody tr th {\n",
       "        vertical-align: top;\n",
       "    }\n",
       "\n",
       "    .dataframe thead th {\n",
       "        text-align: right;\n",
       "    }\n",
       "</style>\n",
       "<table border=\"1\" class=\"dataframe\">\n",
       "  <thead>\n",
       "    <tr style=\"text-align: right;\">\n",
       "      <th></th>\n",
       "      <th>Distance (mm)</th>\n",
       "      <th>Total absorption</th>\n",
       "      <th>Dist_squared</th>\n",
       "    </tr>\n",
       "  </thead>\n",
       "  <tbody>\n",
       "    <tr>\n",
       "      <th>0</th>\n",
       "      <td>3.342876</td>\n",
       "      <td>175.719675</td>\n",
       "      <td>11.174821</td>\n",
       "    </tr>\n",
       "    <tr>\n",
       "      <th>1</th>\n",
       "      <td>1.203074</td>\n",
       "      <td>57.261716</td>\n",
       "      <td>1.447386</td>\n",
       "    </tr>\n",
       "    <tr>\n",
       "      <th>2</th>\n",
       "      <td>3.976552</td>\n",
       "      <td>179.448952</td>\n",
       "      <td>15.812962</td>\n",
       "    </tr>\n",
       "    <tr>\n",
       "      <th>3</th>\n",
       "      <td>3.335264</td>\n",
       "      <td>176.218606</td>\n",
       "      <td>11.123983</td>\n",
       "    </tr>\n",
       "    <tr>\n",
       "      <th>4</th>\n",
       "      <td>3.400901</td>\n",
       "      <td>167.033748</td>\n",
       "      <td>11.566126</td>\n",
       "    </tr>\n",
       "  </tbody>\n",
       "</table>\n",
       "</div>"
      ],
      "text/plain": [
       "   Distance (mm)  Total absorption  Dist_squared\n",
       "0       3.342876        175.719675     11.174821\n",
       "1       1.203074         57.261716      1.447386\n",
       "2       3.976552        179.448952     15.812962\n",
       "3       3.335264        176.218606     11.123983\n",
       "4       3.400901        167.033748     11.566126"
      ]
     },
     "execution_count": 195,
     "metadata": {},
     "output_type": "execute_result"
    }
   ],
   "source": [
    "W = np.array([\n",
    "    [1.3, -1, -3, -10],\n",
    "    [-1, 1.5, 3, -1],\n",
    "    [0.3, 0.1, -0.1],\n",
    "    [0, -1, 1],\n",
    "    [-0.2, 1.5, -1],\n",
    "])"
   ]
  },
  {
   "cell_type": "code",
   "execution_count": 196,
   "metadata": {},
   "outputs": [
    {
     "name": "stdout",
     "output_type": "stream",
     "text": [
      "[[  9979.55332572  35827.1979127  136929.351774  ]\n",
      " [  3000.8863473    9979.55332572  35827.1979127 ]\n",
      " [  1000.           3000.8863473    9979.55332572]] [[1683776.78670197]\n",
      " [ 482776.42824979]\n",
      " [ 149967.06847032]]\n",
      "[[ 3.32219469]\n",
      " [67.59434588]\n",
      " [-5.63132177]]\n",
      "0 [3.32219469]\n",
      "1 [67.59434588]\n",
      "2 [-5.63132177]\n"
     ]
    },
    {
     "data": {
      "image/png": "[encoded data removed]",
      "text/plain": [
       "<Figure size 432x288 with 1 Axes>"
      ]
     },
     "metadata": {
      "needs_background": "light"
     },
     "output_type": "display_data"
    }
   ],
   "source": [
    "X = df[['Distance (mm)','Dist_squared']]\n",
    "\n",
    "model = Regression(X, y)\n",
    "model.LinearRegression()\n",
    "model.plot(color = 'red')"
   ]
  },
  {
   "cell_type": "markdown",
   "metadata": {},
   "source": [
    "# References\n",
    "\n",
    "Note: citations do not follow any well-established format.\n",
    "\n",
    "[1] ME4 Machine Learning, Peter Huthwaite, Imperial College London"
   ]
  },
  {
   "cell_type": "code",
   "execution_count": null,
   "metadata": {},
   "outputs": [],
   "source": []
  }
 ],
 "metadata": {
  "kernelspec": {
   "display_name": "ML_Imperial",
   "language": "python",
   "name": "ml_imperial"
  },
  "language_info": {
   "codemirror_mode": {
    "name": "ipython",
    "version": 3
   },
   "file_extension": ".py",
   "mimetype": "text/x-python",
   "name": "python",
   "nbconvert_exporter": "python",
   "pygments_lexer": "ipython3",
   "version": "3.7.6"
  }
 },
 "nbformat": 4,
 "nbformat_minor": 4
}
