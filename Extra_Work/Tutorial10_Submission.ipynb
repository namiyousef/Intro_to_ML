{
 "cells": [
  {
   "cell_type": "markdown",
   "metadata": {},
   "source": [
    "# Tutorial10_Submission\n",
    "\n",
    "This notebook contains the submission for Tutorial 10"
   ]
  },
  {
   "cell_type": "markdown",
   "metadata": {},
   "source": [
    "# Problem Description\n",
    "\n",
    "A an object of mass, $m$ (in $kg$), sits on a surface. Two horizontal forces are applied, expressed in terms of $f_1$ and $f_2$ (in $N$), with respective angles $f_{1ang}$ and $f_{2ang}$ degrees, defined positive with respect to the x-axis in the anticlockwise direction. \n",
    "\n",
    "We can to predict if this will slip or not."
   ]
  },
  {
   "cell_type": "markdown",
   "metadata": {},
   "source": [
    "# Libraries"
   ]
  },
  {
   "cell_type": "code",
   "execution_count": 1,
   "metadata": {},
   "outputs": [],
   "source": [
    "# system libraries\n",
    "\n",
    "import sys\n",
    "sys.path.insert(0,'..')\n",
    "\n",
    "# data related\n",
    "\n",
    "import pandas as pd\n",
    "from pandas_profiling import ProfileReport\n",
    "\n",
    "# mathematical\n",
    "\n",
    "import numpy as np\n",
    "\n",
    "# modelling\n",
    "\n",
    "from sklearn.svm import SVC\n",
    "from tensorflow.keras.models import Model\n",
    "from tensorflow.keras.layers import Input, Dense\n",
    "\n",
    "# proprocessing\n",
    "\n",
    "from sklearn.model_selection import train_test_split\n",
    "from sklearn.preprocessing import StandardScaler\n",
    "from tensorflow.keras.utils import to_categorical\n",
    "\n",
    "# plotting\n",
    "\n",
    "import matplotlib.pyplot as plt \n",
    "from Extra_Work.PythonFiles.plotting import plot_classes\n",
    "from Extra_Work.PythonFiles.plotting import gridspacer, reshape_by_component\n",
    "from matplotlib.colors import ListedColormap\n",
    "\n",
    "# evaluation\n",
    "from sklearn.metrics import f1_score"
   ]
  },
  {
   "cell_type": "markdown",
   "metadata": {},
   "source": [
    "# Data"
   ]
  },
  {
   "cell_type": "code",
   "execution_count": 2,
   "metadata": {},
   "outputs": [],
   "source": [
    "path = '../Data/'\n",
    "\n",
    "df_1 = pd.read_csv(path + 'slip_data.csv')\n",
    "df_2 = pd.read_csv(path + 'slip_data_full.csv')"
   ]
  },
  {
   "cell_type": "code",
   "execution_count": 3,
   "metadata": {},
   "outputs": [
    {
     "data": {
      "text/html": [
       "<div>\n",
       "<style scoped>\n",
       "    .dataframe tbody tr th:only-of-type {\n",
       "        vertical-align: middle;\n",
       "    }\n",
       "\n",
       "    .dataframe tbody tr th {\n",
       "        vertical-align: top;\n",
       "    }\n",
       "\n",
       "    .dataframe thead th {\n",
       "        text-align: right;\n",
       "    }\n",
       "</style>\n",
       "<table border=\"1\" class=\"dataframe\">\n",
       "  <thead>\n",
       "    <tr style=\"text-align: right;\">\n",
       "      <th></th>\n",
       "      <th>f1</th>\n",
       "      <th>f1ang</th>\n",
       "      <th>f2</th>\n",
       "      <th>f2ang</th>\n",
       "      <th>m</th>\n",
       "      <th>slips</th>\n",
       "    </tr>\n",
       "  </thead>\n",
       "  <tbody>\n",
       "    <tr>\n",
       "      <th>0</th>\n",
       "      <td>18.0</td>\n",
       "      <td>20.0</td>\n",
       "      <td>21.952540</td>\n",
       "      <td>213.436897</td>\n",
       "      <td>3.0</td>\n",
       "      <td>0.0</td>\n",
       "    </tr>\n",
       "    <tr>\n",
       "      <th>1</th>\n",
       "      <td>18.0</td>\n",
       "      <td>20.0</td>\n",
       "      <td>28.607575</td>\n",
       "      <td>3.622930</td>\n",
       "      <td>3.0</td>\n",
       "      <td>1.0</td>\n",
       "    </tr>\n",
       "    <tr>\n",
       "      <th>2</th>\n",
       "      <td>18.0</td>\n",
       "      <td>20.0</td>\n",
       "      <td>24.110535</td>\n",
       "      <td>171.297431</td>\n",
       "      <td>3.0</td>\n",
       "      <td>0.0</td>\n",
       "    </tr>\n",
       "    <tr>\n",
       "      <th>3</th>\n",
       "      <td>18.0</td>\n",
       "      <td>20.0</td>\n",
       "      <td>21.795327</td>\n",
       "      <td>255.157341</td>\n",
       "      <td>3.0</td>\n",
       "      <td>1.0</td>\n",
       "    </tr>\n",
       "    <tr>\n",
       "      <th>4</th>\n",
       "      <td>18.0</td>\n",
       "      <td>20.0</td>\n",
       "      <td>16.946192</td>\n",
       "      <td>15.831156</td>\n",
       "      <td>3.0</td>\n",
       "      <td>1.0</td>\n",
       "    </tr>\n",
       "  </tbody>\n",
       "</table>\n",
       "</div>"
      ],
      "text/plain": [
       "     f1  f1ang         f2       f2ang    m  slips\n",
       "0  18.0   20.0  21.952540  213.436897  3.0    0.0\n",
       "1  18.0   20.0  28.607575    3.622930  3.0    1.0\n",
       "2  18.0   20.0  24.110535  171.297431  3.0    0.0\n",
       "3  18.0   20.0  21.795327  255.157341  3.0    1.0\n",
       "4  18.0   20.0  16.946192   15.831156  3.0    1.0"
      ]
     },
     "execution_count": 3,
     "metadata": {},
     "output_type": "execute_result"
    }
   ],
   "source": [
    "# see dataset 1 \n",
    "df_1.head()"
   ]
  },
  {
   "cell_type": "code",
   "execution_count": 4,
   "metadata": {},
   "outputs": [
    {
     "data": {
      "text/html": [
       "<div>\n",
       "<style scoped>\n",
       "    .dataframe tbody tr th:only-of-type {\n",
       "        vertical-align: middle;\n",
       "    }\n",
       "\n",
       "    .dataframe tbody tr th {\n",
       "        vertical-align: top;\n",
       "    }\n",
       "\n",
       "    .dataframe thead th {\n",
       "        text-align: right;\n",
       "    }\n",
       "</style>\n",
       "<table border=\"1\" class=\"dataframe\">\n",
       "  <thead>\n",
       "    <tr style=\"text-align: right;\">\n",
       "      <th></th>\n",
       "      <th>f1</th>\n",
       "      <th>f1ang</th>\n",
       "      <th>f2</th>\n",
       "      <th>f2ang</th>\n",
       "      <th>m</th>\n",
       "      <th>slips</th>\n",
       "    </tr>\n",
       "  </thead>\n",
       "  <tbody>\n",
       "    <tr>\n",
       "      <th>0</th>\n",
       "      <td>21.952540</td>\n",
       "      <td>269.376473</td>\n",
       "      <td>15.686918</td>\n",
       "      <td>272.925150</td>\n",
       "      <td>3.0</td>\n",
       "      <td>1.0</td>\n",
       "    </tr>\n",
       "    <tr>\n",
       "      <th>1</th>\n",
       "      <td>28.607575</td>\n",
       "      <td>64.872975</td>\n",
       "      <td>1.646263</td>\n",
       "      <td>181.194664</td>\n",
       "      <td>3.0</td>\n",
       "      <td>1.0</td>\n",
       "    </tr>\n",
       "    <tr>\n",
       "      <th>2</th>\n",
       "      <td>24.110535</td>\n",
       "      <td>140.048332</td>\n",
       "      <td>36.932023</td>\n",
       "      <td>63.725999</td>\n",
       "      <td>3.0</td>\n",
       "      <td>1.0</td>\n",
       "    </tr>\n",
       "    <tr>\n",
       "      <th>3</th>\n",
       "      <td>21.795327</td>\n",
       "      <td>13.536065</td>\n",
       "      <td>16.249399</td>\n",
       "      <td>299.713142</td>\n",
       "      <td>3.0</td>\n",
       "      <td>1.0</td>\n",
       "    </tr>\n",
       "    <tr>\n",
       "      <th>4</th>\n",
       "      <td>16.946192</td>\n",
       "      <td>4.243586</td>\n",
       "      <td>37.771287</td>\n",
       "      <td>186.056921</td>\n",
       "      <td>3.0</td>\n",
       "      <td>1.0</td>\n",
       "    </tr>\n",
       "  </tbody>\n",
       "</table>\n",
       "</div>"
      ],
      "text/plain": [
       "          f1       f1ang         f2       f2ang    m  slips\n",
       "0  21.952540  269.376473  15.686918  272.925150  3.0    1.0\n",
       "1  28.607575   64.872975   1.646263  181.194664  3.0    1.0\n",
       "2  24.110535  140.048332  36.932023   63.725999  3.0    1.0\n",
       "3  21.795327   13.536065  16.249399  299.713142  3.0    1.0\n",
       "4  16.946192    4.243586  37.771287  186.056921  3.0    1.0"
      ]
     },
     "execution_count": 4,
     "metadata": {},
     "output_type": "execute_result"
    }
   ],
   "source": [
    "# see dataset 2\n",
    "df_2.head()"
   ]
  },
  {
   "cell_type": "markdown",
   "metadata": {},
   "source": [
    "### Exploration of data"
   ]
  },
  {
   "cell_type": "code",
   "execution_count": 5,
   "metadata": {},
   "outputs": [
    {
     "data": {
      "text/plain": [
       "' Commented as profile report has already been created '"
      ]
     },
     "execution_count": 5,
     "metadata": {},
     "output_type": "execute_result"
    }
   ],
   "source": [
    "# create profile report of the data\n",
    "\"\"\" Commented as profile report has already been created \"\"\"\n",
    "#df1_profile = ProfileReport(df_1, title=\"slip_data profile\", explorative = True)\n",
    "#df1_profile.to_file(\"../Reports/slip_data.html\")\n",
    "\n",
    "#df2_profile = ProfileReport(df_2, title=\"slip_data_full profile\", explorative = True)\n",
    "#df2_profile.to_file(\"../Reports/slip_data_full.html\")\n"
   ]
  },
  {
   "cell_type": "markdown",
   "metadata": {},
   "source": [
    "### Analysis of profile report\n",
    "\n",
    "- Both datasets have a class imbalance problem, where 'slip' is more likely to occur than no slip (this makes sense because of the combination of the angles and forces chosen).\n",
    "\n",
    "- Both always have mass constant as $m=3\\, kg$\n",
    "\n",
    "- The difference between dataset 1 and 2 is that the former fixes the values of $f_1$ and $f_{1ang}$\n",
    "\n",
    "This is an interesting problem."
   ]
  },
  {
   "cell_type": "markdown",
   "metadata": {},
   "source": [
    "# Task (A) - (C)\n",
    "\n",
    "- Choose either an SVC or NN to classify the data\n",
    "- What are the advantages of using ML for this task, compared to a traditional engineering approach\n",
    "- What are the disadvantages of using ML?\n",
    "- Compare your results with a physics (analytical) method\n",
    "\n",
    "\n"
   ]
  },
  {
   "cell_type": "code",
   "execution_count": 6,
   "metadata": {},
   "outputs": [],
   "source": [
    "X = df_1.copy()\n",
    "def slips(X, mu = 0.5, m = 3):\n",
    "    \"\"\" \n",
    "    determines whether the object will slip or not for different input conditions\n",
    "    \n",
    "    Dependencies:\n",
    "    -------------\n",
    "    \n",
    "    Parameters:\n",
    "    -----------\n",
    "    \n",
    "    \"\"\"\n",
    "    \n",
    "    # convert to radians\n",
    "    X[['f1ang', 'f2ang']] = X[['f1ang', 'f2ang']] * np.pi / 180\n",
    "\n",
    "    vertical_forces = np.sin(X['f1ang']) * X['f1'] + np.sin(X['f2ang']) * X['f2']\n",
    "    horizontal_forces = np.cos(X['f1ang']) * X['f1'] + np.cos(X['f2ang']) * X['f2']\n",
    "    X['slips_calculated'] = \\\n",
    "    (np.sqrt(vertical_forces ** 2 + horizontal_forces ** 2) > mu * m * 9.81).astype(int)\n",
    "    \n",
    "    return X"
   ]
  },
  {
   "cell_type": "markdown",
   "metadata": {},
   "source": [
    "## Use SVM on the data"
   ]
  },
  {
   "cell_type": "markdown",
   "metadata": {},
   "source": [
    "### Prepare data"
   ]
  },
  {
   "cell_type": "code",
   "execution_count": 7,
   "metadata": {},
   "outputs": [],
   "source": [
    "scaler = StandardScaler()\n",
    "X = df_1[['f2','f2ang']]\n",
    "X = scaler.fit_transform(X)\n",
    "y = df_1['slips']"
   ]
  },
  {
   "cell_type": "code",
   "execution_count": 8,
   "metadata": {},
   "outputs": [
    {
     "name": "stdout",
     "output_type": "stream",
     "text": [
      "0.999\n"
     ]
    }
   ],
   "source": [
    "svc = SVC(C=1000, gamma='scale', kernel='rbf')\n",
    "svc.fit(X, y)\n",
    "\n",
    "yhat = svc.predict(X)\n",
    "print((yhat == y).sum()/len(yhat))\n"
   ]
  },
  {
   "cell_type": "code",
   "execution_count": 9,
   "metadata": {},
   "outputs": [
    {
     "name": "stdout",
     "output_type": "stream",
     "text": [
      "[[0.00000000e+00 0.00000000e+00]\n",
      " [2.01005025e-01 0.00000000e+00]\n",
      " [4.02010050e-01 0.00000000e+00]\n",
      " ...\n",
      " [3.95979899e+01 3.60000000e+02]\n",
      " [3.97989950e+01 3.60000000e+02]\n",
      " [4.00000000e+01 3.60000000e+02]]\n"
     ]
    },
    {
     "data": {
      "text/plain": [
       "Text(4, 0.66, '$slips = 1$: body will slip')"
      ]
     },
     "execution_count": 9,
     "metadata": {},
     "output_type": "execute_result"
    },
    {
     "data": {
      "image/png": "[encoded data removed]",
      "text/plain": [
       "<Figure size 432x288 with 2 Axes>"
      ]
     },
     "metadata": {
      "needs_background": "light"
     },
     "output_type": "display_data"
    }
   ],
   "source": [
    "lines, Xgrid, axes = gridspacer([0,40, 200],[0, 360, 200])\n",
    "print(Xgrid)\n",
    "Xgrid = scaler.fit_transform(Xgrid)\n",
    "yhat = svc.predict(Xgrid)\n",
    "yhat_svm = yhat.copy()\n",
    "\n",
    "yhat = reshape_by_component(yhat, *axes)\n",
    "\n",
    "\n",
    "cMap = ListedColormap(['#1d1e3a','#ff4e60'])\n",
    "\n",
    "plt.contourf(*axes, yhat, cmap = cMap)\n",
    "plt.title('A contour plot for Dataset 1 using SVC')\n",
    "plt.ylabel('$f_{2ang}$', fontsize = 15)\n",
    "plt.xlabel('$f_2$',fontsize = 15)\n",
    "\n",
    "\n",
    "\n",
    "#legend\n",
    "cbar = plt.colorbar()\n",
    "\n",
    "cbar.ax.get_yaxis().set_ticks([])\n",
    "cbar.ax.text(4, 0.25,'$slips = 0$: body will not slip', fontsize = 15) \n",
    "cbar.ax.text(4, 0.66,'$slips = 1$: body will slip', fontsize = 15)\n",
    "\n"
   ]
  },
  {
   "cell_type": "code",
   "execution_count": 10,
   "metadata": {},
   "outputs": [
    {
     "data": {
      "text/plain": [
       "Text(4, 0.66, '$slips = 1$: body will slip')"
      ]
     },
     "execution_count": 10,
     "metadata": {},
     "output_type": "execute_result"
    },
    {
     "data": {
      "image/png": "[encoded data removed]",
      "text/plain": [
       "<Figure size 432x288 with 2 Axes>"
      ]
     },
     "metadata": {
      "needs_background": "light"
     },
     "output_type": "display_data"
    }
   ],
   "source": [
    "angle = 20\n",
    "mag = 18\n",
    "\n",
    "lines, Xgrid, axes = gridspacer([0,40, 200],[0, 360, 200])\n",
    "vertical_forces = np.sin(angle * np.pi / 180) * mag + np.sin(Xgrid[:,1] * np.pi /180) * Xgrid[:,0]\n",
    "horizontal_forces = np.cos(angle * np.pi / 180) * mag + np.cos(Xgrid[:,1] * np.pi /180) * Xgrid[:,0]\n",
    "yhat = \\\n",
    "(np.sqrt(vertical_forces ** 2 + horizontal_forces ** 2) > 0.5 * 3 * 9.81).astype(int)\n",
    "\n",
    "yhat_true = yhat.copy()\n",
    "\n",
    "\n",
    "yhat = reshape_by_component(yhat, *axes)\n",
    "\n",
    "\n",
    "cMap = ListedColormap(['#1d1e3a','#ff4e60'])\n",
    "\n",
    "plt.contourf(*axes, yhat, cmap = cMap)\n",
    "plt.title('A contour plot for Dataset 1 using analytical method')\n",
    "plt.ylabel('$f_{2ang}$', fontsize = 15)\n",
    "plt.xlabel('$f_2$',fontsize = 15)\n",
    "\n",
    "\n",
    "\n",
    "#legend\n",
    "cbar = plt.colorbar()\n",
    "\n",
    "cbar.ax.get_yaxis().set_ticks([])\n",
    "cbar.ax.text(4, 0.25,'$slips = 0$: body will not slip', fontsize = 15) \n",
    "cbar.ax.text(4, 0.66,'$slips = 1$: body will slip', fontsize = 15)"
   ]
  },
  {
   "cell_type": "markdown",
   "metadata": {},
   "source": [
    "## Use NN on the data"
   ]
  },
  {
   "cell_type": "markdown",
   "metadata": {},
   "source": [
    "### Prepare data"
   ]
  },
  {
   "cell_type": "code",
   "execution_count": 11,
   "metadata": {},
   "outputs": [],
   "source": [
    "scaler = StandardScaler()\n",
    "X = df_1[['f2','f2ang']]\n",
    "X = scaler.fit_transform(X)\n",
    "y = df_1['slips']\n",
    "\n",
    "y_binary = to_categorical(y)"
   ]
  },
  {
   "cell_type": "code",
   "execution_count": 12,
   "metadata": {},
   "outputs": [],
   "source": [
    "def uncompiled_model():\n",
    "    inputs = Input(shape=(2,), name='Data')\n",
    "\n",
    "    x = Dense(4, activation = 'tanh')(inputs)\n",
    "    \n",
    "    outputs = Dense(2, activation='softmax')(x)\n",
    "    \n",
    "    model = Model(inputs = inputs, outputs = outputs)\n",
    "    \n",
    "    return model\n",
    "\n",
    "def compile_model():\n",
    "    model = uncompiled_model()\n",
    "    model.compile(\n",
    "        optimizer='adam', \n",
    "        loss=\"binary_crossentropy\",\n",
    "        metrics=[\"accuracy\",\n",
    "                 ],\n",
    "    )\n",
    "    return model"
   ]
  },
  {
   "cell_type": "code",
   "execution_count": 13,
   "metadata": {},
   "outputs": [],
   "source": [
    "model = compile_model()\n",
    "history = model.fit(X, y_binary, epochs = 1200, verbose = 0)\n"
   ]
  },
  {
   "cell_type": "code",
   "execution_count": 14,
   "metadata": {},
   "outputs": [
    {
     "data": {
      "text/plain": [
       "Text(4, 0.66, '$slips = 1$: body will slip')"
      ]
     },
     "execution_count": 14,
     "metadata": {},
     "output_type": "execute_result"
    },
    {
     "data": {
      "image/png": "[encoded data removed]",
      "text/plain": [
       "<Figure size 432x288 with 2 Axes>"
      ]
     },
     "metadata": {
      "needs_background": "light"
     },
     "output_type": "display_data"
    }
   ],
   "source": [
    "lines, Xgrid, axes = gridspacer([0,40, 200],[0, 360, 200])\n",
    "Xgrid = scaler.fit_transform(Xgrid)\n",
    "yhat = model.predict(Xgrid)\n",
    "yhat = yhat[:,1]\n",
    "yhat[yhat > 0.5] = 1\n",
    "yhat[yhat != 1] = 0\n",
    "yhat_nn = yhat.copy()\n",
    "\n",
    "yhat = reshape_by_component(yhat, *axes)\n",
    "\n",
    "\n",
    "cMap = ListedColormap(['#1d1e3a','#ff4e60'])\n",
    "\n",
    "plt.contourf(*axes, yhat, cmap = cMap)\n",
    "plt.title('A contour plot for Dataset 1 using Neural Network')\n",
    "plt.ylabel('$f_{2ang}$', fontsize = 15)\n",
    "plt.xlabel('$f_2$',fontsize = 15)\n",
    "\n",
    "\n",
    "\n",
    "#legend\n",
    "cbar = plt.colorbar()\n",
    "\n",
    "cbar.ax.get_yaxis().set_ticks([])\n",
    "cbar.ax.text(4, 0.25,'$slips = 0$: body will not slip', fontsize = 15) \n",
    "cbar.ax.text(4, 0.66,'$slips = 1$: body will slip', fontsize = 15)"
   ]
  },
  {
   "cell_type": "markdown",
   "metadata": {},
   "source": [
    "### See which model is better"
   ]
  },
  {
   "cell_type": "code",
   "execution_count": 15,
   "metadata": {},
   "outputs": [
    {
     "name": "stdout",
     "output_type": "stream",
     "text": [
      "0.9802\n",
      "0.9881688625974725\n",
      "0.982325\n",
      "0.9894090330312335\n"
     ]
    }
   ],
   "source": [
    "# accuracy of NN model\n",
    "\n",
    "print((yhat_nn == yhat_true).sum() / len(yhat_true))\n",
    "print(f1_score(yhat_true, yhat_nn))\n",
    "\n",
    "# accuracy of SVC model\n",
    "\n",
    "print((yhat_svm == yhat_true).sum() / len(yhat_true))\n",
    "print(f1_score(yhat_true, yhat_svm))\n",
    "\n"
   ]
  },
  {
   "cell_type": "markdown",
   "metadata": {},
   "source": [
    "# Task (D)"
   ]
  },
  {
   "cell_type": "code",
   "execution_count": 16,
   "metadata": {},
   "outputs": [],
   "source": [
    "X = df_2[['f1','f1ang','f2','f2ang']]\n",
    "mean = np.asarray(X[['f1','f1ang']].mean())\n",
    "std = np.asarray(X[['f1','f1ang']].std())\n",
    "y = df_2['slips']\n",
    "X = scaler.fit_transform(X)"
   ]
  },
  {
   "cell_type": "code",
   "execution_count": 17,
   "metadata": {},
   "outputs": [
    {
     "data": {
      "text/plain": [
       "SVC(C=1000)"
      ]
     },
     "execution_count": 17,
     "metadata": {},
     "output_type": "execute_result"
    }
   ],
   "source": [
    "svc = SVC(C=1000, gamma='scale', kernel='rbf')\n",
    "svc.fit(X, y)"
   ]
  },
  {
   "cell_type": "code",
   "execution_count": 29,
   "metadata": {},
   "outputs": [
    {
     "name": "stdout",
     "output_type": "stream",
     "text": [
      "[[-0.85101567 -1.41400445 -1.7234121  -1.7234121 ]\n",
      " [-0.85101567 -1.41400445 -1.70609137 -1.7234121 ]\n",
      " [-0.85101567 -1.41400445 -1.68877065 -1.7234121 ]\n",
      " ...\n",
      " [-0.85101567 -1.41400445  1.68877065  1.7234121 ]\n",
      " [-0.85101567 -1.41400445  1.70609137  1.7234121 ]\n",
      " [-0.85101567 -1.41400445  1.7234121   1.7234121 ]]\n",
      "[0. 0. 0. ... 1. 1. 1.]\n"
     ]
    },
    {
     "data": {
      "text/plain": [
       "Text(4, 0.66, '$slips = 1$: body will slip')"
      ]
     },
     "execution_count": 29,
     "metadata": {},
     "output_type": "execute_result"
    },
    {
     "data": {
      "image/png": "[encoded data removed]",
      "text/plain": [
       "<Figure size 432x288 with 2 Axes>"
      ]
     },
     "metadata": {
      "needs_background": "light"
     },
     "output_type": "display_data"
    }
   ],
   "source": [
    "lines, Xgrid, axes = gridspacer([0,40, 200],[0, 360, 200])\n",
    "f1 = np.ones([Xgrid.shape[0],1]) * 10\n",
    "f1ang = np.ones([Xgrid.shape[0],1]) * 30\n",
    "Xgrid = scaler.fit_transform(Xgrid)\n",
    "X_temp = np.concatenate([f1, f1ang], axis = 1)\n",
    "\n",
    "X_temp = (X_temp - mean.reshape(-1,2)) / std.reshape(-1,2)\n",
    "Xgrid = np.concatenate([X_temp, Xgrid], axis = 1)\n",
    "\n",
    "print(Xgrid)\n",
    "yhat = svc.predict(Xgrid)\n",
    "print(yhat)\n",
    "yhat_SVC = yhat.copy()\n",
    "yhat = reshape_by_component(yhat, *axes)\n",
    "\n",
    "\n",
    "cMap = ListedColormap(['#1d1e3a','#ff4e60'])\n",
    "\n",
    "plt.contourf(*axes, yhat, cmap = cMap)\n",
    "plt.title('A contour plot for Dataset 2 using SVC')\n",
    "plt.ylabel('$f_{2ang}$', fontsize = 15)\n",
    "plt.xlabel('$f_2$',fontsize = 15)\n",
    "\n",
    "\n",
    "\n",
    "\n",
    "cbar = plt.colorbar()\n",
    "\n",
    "cbar.ax.get_yaxis().set_ticks([])\n",
    "cbar.ax.text(4, 0.25,'$slips = 0$: body will not slip', fontsize = 15) \n",
    "cbar.ax.text(4, 0.66,'$slips = 1$: body will slip', fontsize = 15)"
   ]
  },
  {
   "cell_type": "code",
   "execution_count": 43,
   "metadata": {},
   "outputs": [],
   "source": [
    "X = pd.DataFrame(data = {'f1':np.linspace(10,10,40000),\n",
    "                         'f1ang':np.linspace(30,30,40000)})\n",
    "\n",
    "lines, Xgrid, axes = gridspacer([0,40, 200],[0, 360, 200])\n",
    "X[['f2','f2ang']] = Xgrid\n",
    "Xgrid = slips(X)"
   ]
  },
  {
   "cell_type": "code",
   "execution_count": 46,
   "metadata": {},
   "outputs": [
    {
     "data": {
      "text/plain": [
       "Text(4, 0.66, '$slips = 1$: body will slip')"
      ]
     },
     "execution_count": 46,
     "metadata": {},
     "output_type": "execute_result"
    },
    {
     "data": {
      "image/png": "[encoded data removed]",
      "text/plain": [
       "<Figure size 432x288 with 2 Axes>"
      ]
     },
     "metadata": {
      "needs_background": "light"
     },
     "output_type": "display_data"
    }
   ],
   "source": [
    "y = Xgrid['slips_calculated'].copy()\n",
    "y_true = y.copy()\n",
    "y = reshape_by_component(np.asarray(y), *axes)\n",
    "cMap = ListedColormap(['#1d1e3a','#ff4e60'])\n",
    "\n",
    "# this is wrong!\n",
    "plt.contourf(*axes, y, cmap = cMap)\n",
    "plt.title('A contour plot for Dataset 2 using analytical method')\n",
    "plt.ylabel('$f_{2ang}$', fontsize = 15)\n",
    "plt.xlabel('$f_2$',fontsize = 15)\n",
    "\n",
    "\n",
    "\n",
    "\n",
    "cbar = plt.colorbar()\n",
    "\n",
    "cbar.ax.get_yaxis().set_ticks([])\n",
    "cbar.ax.text(4, 0.25,'$slips = 0$: body will not slip', fontsize = 15) \n",
    "cbar.ax.text(4, 0.66,'$slips = 1$: body will slip', fontsize = 15)"
   ]
  },
  {
   "cell_type": "code",
   "execution_count": 47,
   "metadata": {},
   "outputs": [
    {
     "name": "stdout",
     "output_type": "stream",
     "text": [
      "0.98555\n"
     ]
    }
   ],
   "source": [
    "print((yhat_SVC == y_true).sum() / len(y_true))\n"
   ]
  },
  {
   "cell_type": "code",
   "execution_count": null,
   "metadata": {},
   "outputs": [],
   "source": []
  }
 ],
 "metadata": {
  "kernelspec": {
   "display_name": "ML_Imperial",
   "language": "python",
   "name": "ml_imperial"
  },
  "language_info": {
   "codemirror_mode": {
    "name": "ipython",
    "version": 3
   },
   "file_extension": ".py",
   "mimetype": "text/x-python",
   "name": "python",
   "nbconvert_exporter": "python",
   "pygments_lexer": "ipython3",
   "version": "3.7.6"
  }
 },
 "nbformat": 4,
 "nbformat_minor": 4
}
