{
 "cells": [
  {
   "cell_type": "markdown",
   "metadata": {},
   "source": [
    "# Tutorial10_Submission\n",
    "\n",
    "This notebook contains the submission for Tutorial 10"
   ]
  },
  {
   "cell_type": "markdown",
   "metadata": {},
   "source": [
    "# Problem Description\n",
    "\n",
    "A an object of mass, $m$ (in $kg$), sits on a surface. Two horizontal forces are applied, expressed in terms of $f_1$ and $f_2$ (in $N$), with respective angles $f_{1ang}$ and $f_{2ang}$ degrees, defined positive with respect to the x-axis in the anticlockwise direction. \n",
    "\n",
    "We can to predict if this will slip or not."
   ]
  },
  {
   "cell_type": "markdown",
   "metadata": {},
   "source": [
    "# Libraries"
   ]
  },
  {
   "cell_type": "code",
   "execution_count": 14,
   "metadata": {},
   "outputs": [],
   "source": [
    "# data related\n",
    "\n",
    "import pandas as pd\n",
    "from pandas_profiling import ProfileReport\n",
    "\n",
    "# mathematical\n",
    "\n",
    "import numpy as np"
   ]
  },
  {
   "cell_type": "markdown",
   "metadata": {},
   "source": [
    "# Data"
   ]
  },
  {
   "cell_type": "code",
   "execution_count": 3,
   "metadata": {},
   "outputs": [],
   "source": [
    "path = '../Data/'\n",
    "\n",
    "df_1 = pd.read_csv(path + 'slip_data.csv')\n",
    "df_2 = pd.read_csv(path + 'slip_data_full.csv')"
   ]
  },
  {
   "cell_type": "code",
   "execution_count": 4,
   "metadata": {},
   "outputs": [
    {
     "data": {
      "text/html": [
       "<div>\n",
       "<style scoped>\n",
       "    .dataframe tbody tr th:only-of-type {\n",
       "        vertical-align: middle;\n",
       "    }\n",
       "\n",
       "    .dataframe tbody tr th {\n",
       "        vertical-align: top;\n",
       "    }\n",
       "\n",
       "    .dataframe thead th {\n",
       "        text-align: right;\n",
       "    }\n",
       "</style>\n",
       "<table border=\"1\" class=\"dataframe\">\n",
       "  <thead>\n",
       "    <tr style=\"text-align: right;\">\n",
       "      <th></th>\n",
       "      <th>f1</th>\n",
       "      <th>f1ang</th>\n",
       "      <th>f2</th>\n",
       "      <th>f2ang</th>\n",
       "      <th>m</th>\n",
       "      <th>slips</th>\n",
       "    </tr>\n",
       "  </thead>\n",
       "  <tbody>\n",
       "    <tr>\n",
       "      <th>0</th>\n",
       "      <td>18.0</td>\n",
       "      <td>20.0</td>\n",
       "      <td>21.952540</td>\n",
       "      <td>213.436897</td>\n",
       "      <td>3.0</td>\n",
       "      <td>0.0</td>\n",
       "    </tr>\n",
       "    <tr>\n",
       "      <th>1</th>\n",
       "      <td>18.0</td>\n",
       "      <td>20.0</td>\n",
       "      <td>28.607575</td>\n",
       "      <td>3.622930</td>\n",
       "      <td>3.0</td>\n",
       "      <td>1.0</td>\n",
       "    </tr>\n",
       "    <tr>\n",
       "      <th>2</th>\n",
       "      <td>18.0</td>\n",
       "      <td>20.0</td>\n",
       "      <td>24.110535</td>\n",
       "      <td>171.297431</td>\n",
       "      <td>3.0</td>\n",
       "      <td>0.0</td>\n",
       "    </tr>\n",
       "    <tr>\n",
       "      <th>3</th>\n",
       "      <td>18.0</td>\n",
       "      <td>20.0</td>\n",
       "      <td>21.795327</td>\n",
       "      <td>255.157341</td>\n",
       "      <td>3.0</td>\n",
       "      <td>1.0</td>\n",
       "    </tr>\n",
       "    <tr>\n",
       "      <th>4</th>\n",
       "      <td>18.0</td>\n",
       "      <td>20.0</td>\n",
       "      <td>16.946192</td>\n",
       "      <td>15.831156</td>\n",
       "      <td>3.0</td>\n",
       "      <td>1.0</td>\n",
       "    </tr>\n",
       "  </tbody>\n",
       "</table>\n",
       "</div>"
      ],
      "text/plain": [
       "     f1  f1ang         f2       f2ang    m  slips\n",
       "0  18.0   20.0  21.952540  213.436897  3.0    0.0\n",
       "1  18.0   20.0  28.607575    3.622930  3.0    1.0\n",
       "2  18.0   20.0  24.110535  171.297431  3.0    0.0\n",
       "3  18.0   20.0  21.795327  255.157341  3.0    1.0\n",
       "4  18.0   20.0  16.946192   15.831156  3.0    1.0"
      ]
     },
     "execution_count": 4,
     "metadata": {},
     "output_type": "execute_result"
    }
   ],
   "source": [
    "# see dataset 1 \n",
    "df_1.head()"
   ]
  },
  {
   "cell_type": "code",
   "execution_count": 5,
   "metadata": {},
   "outputs": [
    {
     "data": {
      "text/html": [
       "<div>\n",
       "<style scoped>\n",
       "    .dataframe tbody tr th:only-of-type {\n",
       "        vertical-align: middle;\n",
       "    }\n",
       "\n",
       "    .dataframe tbody tr th {\n",
       "        vertical-align: top;\n",
       "    }\n",
       "\n",
       "    .dataframe thead th {\n",
       "        text-align: right;\n",
       "    }\n",
       "</style>\n",
       "<table border=\"1\" class=\"dataframe\">\n",
       "  <thead>\n",
       "    <tr style=\"text-align: right;\">\n",
       "      <th></th>\n",
       "      <th>f1</th>\n",
       "      <th>f1ang</th>\n",
       "      <th>f2</th>\n",
       "      <th>f2ang</th>\n",
       "      <th>m</th>\n",
       "      <th>slips</th>\n",
       "    </tr>\n",
       "  </thead>\n",
       "  <tbody>\n",
       "    <tr>\n",
       "      <th>0</th>\n",
       "      <td>21.952540</td>\n",
       "      <td>269.376473</td>\n",
       "      <td>15.686918</td>\n",
       "      <td>272.925150</td>\n",
       "      <td>3.0</td>\n",
       "      <td>1.0</td>\n",
       "    </tr>\n",
       "    <tr>\n",
       "      <th>1</th>\n",
       "      <td>28.607575</td>\n",
       "      <td>64.872975</td>\n",
       "      <td>1.646263</td>\n",
       "      <td>181.194664</td>\n",
       "      <td>3.0</td>\n",
       "      <td>1.0</td>\n",
       "    </tr>\n",
       "    <tr>\n",
       "      <th>2</th>\n",
       "      <td>24.110535</td>\n",
       "      <td>140.048332</td>\n",
       "      <td>36.932023</td>\n",
       "      <td>63.725999</td>\n",
       "      <td>3.0</td>\n",
       "      <td>1.0</td>\n",
       "    </tr>\n",
       "    <tr>\n",
       "      <th>3</th>\n",
       "      <td>21.795327</td>\n",
       "      <td>13.536065</td>\n",
       "      <td>16.249399</td>\n",
       "      <td>299.713142</td>\n",
       "      <td>3.0</td>\n",
       "      <td>1.0</td>\n",
       "    </tr>\n",
       "    <tr>\n",
       "      <th>4</th>\n",
       "      <td>16.946192</td>\n",
       "      <td>4.243586</td>\n",
       "      <td>37.771287</td>\n",
       "      <td>186.056921</td>\n",
       "      <td>3.0</td>\n",
       "      <td>1.0</td>\n",
       "    </tr>\n",
       "  </tbody>\n",
       "</table>\n",
       "</div>"
      ],
      "text/plain": [
       "          f1       f1ang         f2       f2ang    m  slips\n",
       "0  21.952540  269.376473  15.686918  272.925150  3.0    1.0\n",
       "1  28.607575   64.872975   1.646263  181.194664  3.0    1.0\n",
       "2  24.110535  140.048332  36.932023   63.725999  3.0    1.0\n",
       "3  21.795327   13.536065  16.249399  299.713142  3.0    1.0\n",
       "4  16.946192    4.243586  37.771287  186.056921  3.0    1.0"
      ]
     },
     "execution_count": 5,
     "metadata": {},
     "output_type": "execute_result"
    }
   ],
   "source": [
    "# see dataset 2\n",
    "df_2.head()"
   ]
  },
  {
   "cell_type": "markdown",
   "metadata": {},
   "source": [
    "### Exploration of data"
   ]
  },
  {
   "cell_type": "code",
   "execution_count": 16,
   "metadata": {},
   "outputs": [
    {
     "data": {
      "text/plain": [
       "' Commented as profile report has already been created '"
      ]
     },
     "execution_count": 16,
     "metadata": {},
     "output_type": "execute_result"
    }
   ],
   "source": [
    "# create profile report of the data\n",
    "\"\"\" Commented as profile report has already been created \"\"\"\n",
    "#df1_profile = ProfileReport(df_1, title=\"slip_data profile\", explorative = True)\n",
    "#df1_profile.to_file(\"../Reports/slip_data.html\")\n",
    "\n",
    "#df2_profile = ProfileReport(df_2, title=\"slip_data_full profile\", explorative = True)\n",
    "#df2_profile.to_file(\"../Reports/slip_data_full.html\")\n"
   ]
  },
  {
   "cell_type": "markdown",
   "metadata": {},
   "source": [
    "### Analysis of profile report\n",
    "\n",
    "- Both datasets have a class imbalance problem, where 'slip' is more likely to occur than no slip (this makes sense because of the combination of the angles and forces chosen).\n",
    "\n",
    "- Both always have mass constant as $m=3\\, kg$\n",
    "\n",
    "- The difference between dataset 1 and 2 is that the former fixes the values of $f_1$ and $f_{1ang}$\n",
    "\n",
    "This is an interesting problem."
   ]
  },
  {
   "cell_type": "markdown",
   "metadata": {},
   "source": [
    "# Task (A)\n"
   ]
  }
 ],
 "metadata": {
  "kernelspec": {
   "display_name": "ML_Imperial",
   "language": "python",
   "name": "ml_imperial"
  },
  "language_info": {
   "codemirror_mode": {
    "name": "ipython",
    "version": 3
   },
   "file_extension": ".py",
   "mimetype": "text/x-python",
   "name": "python",
   "nbconvert_exporter": "python",
   "pygments_lexer": "ipython3",
   "version": "3.7.6"
  }
 },
 "nbformat": 4,
 "nbformat_minor": 4
}
