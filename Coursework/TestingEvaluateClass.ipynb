{
 "cells": [
  {
   "cell_type": "markdown",
   "metadata": {},
   "source": [
    "# TestingEvaluateClass"
   ]
  },
  {
   "cell_type": "markdown",
   "metadata": {},
   "source": [
    "# Libraries"
   ]
  },
  {
   "cell_type": "code",
   "execution_count": 1,
   "metadata": {},
   "outputs": [],
   "source": [
    "# directory set up \n",
    "import os,sys,inspect\n",
    "current_dir = os.path.dirname(os.path.abspath(inspect.getfile(inspect.currentframe())))\n",
    "parent_dir = os.path.dirname(current_dir)\n",
    "sys.path.insert(0, parent_dir) \n",
    "\n",
    "# data attainment\n",
    "import pandas as pd\n",
    "\n",
    "# mathematical\n",
    "import tensorflow as tf\n",
    "import numpy as np\n",
    "\n",
    "# preprocessing\n",
    "from sklearn.model_selection import train_test_split\n",
    "from tensorflow.keras.utils import to_categorical\n",
    "from Extra_Work.PythonFiles.preprocessing import scale_data\n",
    "\n",
    "# modelling\n",
    "from tensorflow.keras import Input, Model\n",
    "from tensorflow.keras.layers import LayerNormalization, BatchNormalization, Dense\n",
    "\n",
    "# evaluation\n",
    "from Extra_Work.PythonFiles.modelling import evaluate_models\n",
    "from Extra_Work.PythonFiles.modelling import FeedForward\n",
    "\n",
    "\n",
    "# setting global seeds\n",
    "tf.random.set_seed(1)\n",
    "np.random.seed(1)"
   ]
  },
  {
   "cell_type": "markdown",
   "metadata": {},
   "source": [
    "# Data"
   ]
  },
  {
   "cell_type": "code",
   "execution_count": 184,
   "metadata": {},
   "outputs": [],
   "source": [
    "# load data\n",
    "\n",
    "df = pd.read_csv('../Data/dataset2.csv')\n",
    "\n",
    "X, scalers = scale_data(df[df.columns[:-1]], mode = 'standard')\n",
    "#X['Spring constant (N per m)'] = 0\n",
    "#X['Ball radius (mm)'] = 0\n",
    "\n",
    "y = df[df.columns[-1]]\n",
    "\n",
    "y_binary = to_categorical(y)\n",
    "\n",
    "X_train, X_test,y_train, y_test = train_test_split(\n",
    "    X,y_binary, test_size = 0.8, random_state = 23\n",
    ")\n",
    "\n"
   ]
  },
  {
   "cell_type": "code",
   "execution_count": 204,
   "metadata": {},
   "outputs": [
    {
     "data": {
      "text/html": [
       "<div>\n",
       "<style scoped>\n",
       "    .dataframe tbody tr th:only-of-type {\n",
       "        vertical-align: middle;\n",
       "    }\n",
       "\n",
       "    .dataframe tbody tr th {\n",
       "        vertical-align: top;\n",
       "    }\n",
       "\n",
       "    .dataframe thead th {\n",
       "        text-align: right;\n",
       "    }\n",
       "</style>\n",
       "<table border=\"1\" class=\"dataframe\">\n",
       "  <thead>\n",
       "    <tr style=\"text-align: right;\">\n",
       "      <th></th>\n",
       "      <th>Arm length (m)</th>\n",
       "      <th>Ball weight (kg)</th>\n",
       "      <th>Ball radius (mm)</th>\n",
       "      <th>Air temperature (deg C)</th>\n",
       "      <th>Spring constant (N per m)</th>\n",
       "      <th>Device weight (kg)</th>\n",
       "    </tr>\n",
       "  </thead>\n",
       "  <tbody>\n",
       "    <tr>\n",
       "      <th>0</th>\n",
       "      <td>0.109767</td>\n",
       "      <td>0.061983</td>\n",
       "      <td>-0.732493</td>\n",
       "      <td>0.007335</td>\n",
       "      <td>-0.128493</td>\n",
       "      <td>0.774432</td>\n",
       "    </tr>\n",
       "  </tbody>\n",
       "</table>\n",
       "</div>"
      ],
      "text/plain": [
       "   Arm length (m)  Ball weight (kg)  Ball radius (mm)  \\\n",
       "0        0.109767          0.061983         -0.732493   \n",
       "\n",
       "   Air temperature (deg C)  Spring constant (N per m)  Device weight (kg)  \n",
       "0                 0.007335                  -0.128493            0.774432  "
      ]
     },
     "execution_count": 204,
     "metadata": {},
     "output_type": "execute_result"
    }
   ],
   "source": [
    "X.head(1)"
   ]
  },
  {
   "cell_type": "markdown",
   "metadata": {},
   "source": [
    "# Data Exploration"
   ]
  },
  {
   "cell_type": "markdown",
   "metadata": {},
   "source": [
    "# Model Cell"
   ]
  },
  {
   "cell_type": "code",
   "execution_count": 224,
   "metadata": {},
   "outputs": [],
   "source": [
    "from tensorflow.keras.initializers import RandomUniform\n",
    "from tensorflow.keras.activations import elu, relu \n",
    "from tensorflow.keras.layers import Activation\n",
    "def uncompiled_model():\n",
    "    inputs = Input(shape=(6,), name='Data')\n",
    "    x = Dense(32, activation = 'relu')(inputs)\n",
    "    x = BatchNormalization()(x)\n",
    "    x = Dense(32, activation='relu')(x)\n",
    "\n",
    "    x = Dense(32, activation='relu')(x)\n",
    "\n",
    "    #x = Dense(4, activation='linear')(x)\n",
    "    outputs = Dense(2, activation='softmax', name='TargetHit')(x)\n",
    "    model = Model(inputs=inputs, outputs=outputs)\n",
    "    return model\n",
    "\n",
    "\n",
    "def compile_model():\n",
    "    model = uncompiled_model()\n",
    "    model.compile(\n",
    "        optimizer=\"adam\",\n",
    "        loss=\"binary_crossentropy\",\n",
    "        metrics=[\"accuracy\",\n",
    "                 \"binary_accuracy\",\n",
    "                 \"binary_crossentropy\",\n",
    "                 \"categorical_accuracy\"\n",
    "                 ],\n",
    "    )\n",
    "    return model"
   ]
  },
  {
   "cell_type": "markdown",
   "metadata": {},
   "source": [
    "# Test Model"
   ]
  },
  {
   "cell_type": "code",
   "execution_count": 5,
   "metadata": {},
   "outputs": [],
   "source": [
    "feedforward = FeedForward()\n"
   ]
  },
  {
   "cell_type": "code",
   "execution_count": 225,
   "metadata": {},
   "outputs": [],
   "source": [
    "instance = evaluate_models(\n",
    "    compile_model()\n",
    ")\n",
    "\n",
    "instance.evaluate(X_train, X_test, y_train, y_test)\n"
   ]
  },
  {
   "cell_type": "code",
   "execution_count": 226,
   "metadata": {},
   "outputs": [
    {
     "name": "stdout",
     "output_type": "stream",
     "text": [
      "[[1.2453530550003051, 0.6070937514305115, 0.6070937514305115, 1.2453530550003051, 25.05034112930298, 2658], [1.1602570116519928, 0.6231562495231628, 0.6231562495231628, 1.1602570116519928, 15.478917837142944, 2530], [1.7484049677848816, 0.6023125052452087, 0.6023125052452087, 1.7484049677848816, 15.353895902633667, 9154]]\n"
     ]
    }
   ],
   "source": [
    "feedforward.print_params(-3)"
   ]
  },
  {
   "cell_type": "code",
   "execution_count": null,
   "metadata": {},
   "outputs": [],
   "source": []
  },
  {
   "cell_type": "markdown",
   "metadata": {},
   "source": [
    "https://dbader.org/blog/meaning-of-underscores-in-python\n",
    "\n",
    "https://keras.io/api/layers/initializers/\n",
    "\n",
    "https://stats.stackexchange.com/questions/330559/why-is-tanh-almost-always-better-than-sigmoid-as-an-activation-function\n",
    "\n",
    "https://keras.io/api/losses/probabilistic_losses/#sparsecategoricalcrossentropy-class\n",
    "\n",
    "https://ruder.io/optimizing-gradient-descent/\n",
    "\n",
    "https://ml-cheatsheet.readthedocs.io/en/latest/activation_functions.html\n"
   ]
  }
 ],
 "metadata": {
  "kernelspec": {
   "display_name": "Python 3",
   "language": "python",
   "name": "python3"
  },
  "language_info": {
   "codemirror_mode": {
    "name": "ipython",
    "version": 3
   },
   "file_extension": ".py",
   "mimetype": "text/x-python",
   "name": "python",
   "nbconvert_exporter": "python",
   "pygments_lexer": "ipython3",
   "version": "3.7.6"
  }
 },
 "nbformat": 4,
 "nbformat_minor": 4
}
