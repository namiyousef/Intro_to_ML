{
 "cells": [
  {
   "cell_type": "markdown",
   "metadata": {},
   "source": [
    "# TestingEvaluateClass"
   ]
  },
  {
   "cell_type": "markdown",
   "metadata": {},
   "source": [
    "# Libraries"
   ]
  },
  {
   "cell_type": "code",
   "execution_count": 1,
   "metadata": {},
   "outputs": [],
   "source": [
    "# directory set up \n",
    "import os,sys,inspect\n",
    "current_dir = os.path.dirname(os.path.abspath(inspect.getfile(inspect.currentframe())))\n",
    "parent_dir = os.path.dirname(current_dir)\n",
    "sys.path.insert(0, parent_dir) \n",
    "\n",
    "# data attainment\n",
    "import pandas as pd\n",
    "\n",
    "# mathematical\n",
    "import tensorflow as tf\n",
    "import numpy as np\n",
    "\n",
    "# preprocessing\n",
    "from sklearn.model_selection import train_test_split\n",
    "from tensorflow.keras.utils import to_categorical\n",
    "from Extra_Work.PythonFiles.preprocessing import scale_data\n",
    "\n",
    "# modelling\n",
    "from tensorflow.keras import Input, Model\n",
    "from tensorflow.keras.layers import LayerNormalization, BatchNormalization, Dense\n",
    "\n",
    "# evaluation\n",
    "from Extra_Work.PythonFiles.modelling import evaluate_models\n",
    "from Extra_Work.PythonFiles.modelling import FeedForward\n",
    "\n",
    "# plotting\n",
    "import matplotlib.pyplot as plt\n",
    "\n",
    "# setting global seeds\n",
    "tf.random.set_seed(1)\n",
    "np.random.seed(1)"
   ]
  },
  {
   "cell_type": "markdown",
   "metadata": {},
   "source": [
    "# Data"
   ]
  },
  {
   "cell_type": "code",
   "execution_count": 2,
   "metadata": {},
   "outputs": [],
   "source": [
    "# load data\n",
    "\n",
    "df = pd.read_csv('../Data/dataset2.csv')\n",
    "\n",
    "X, scalers = scale_data(df[df.columns[:-1]], mode = 'standard')\n",
    "#X['Spring constant (N per m)'] = 0\n",
    "#X['Ball radius (mm)'] = 0\n",
    "\n",
    "y = df[df.columns[-1]]\n",
    "\n",
    "y_binary = to_categorical(y)\n",
    "\n",
    "data = train_test_split(\n",
    "    X,y_binary, test_size = 0.8, random_state = 23\n",
    ")\n",
    "\n"
   ]
  },
  {
   "cell_type": "code",
   "execution_count": 3,
   "metadata": {},
   "outputs": [
    {
     "data": {
      "text/html": [
       "<div>\n",
       "<style scoped>\n",
       "    .dataframe tbody tr th:only-of-type {\n",
       "        vertical-align: middle;\n",
       "    }\n",
       "\n",
       "    .dataframe tbody tr th {\n",
       "        vertical-align: top;\n",
       "    }\n",
       "\n",
       "    .dataframe thead th {\n",
       "        text-align: right;\n",
       "    }\n",
       "</style>\n",
       "<table border=\"1\" class=\"dataframe\">\n",
       "  <thead>\n",
       "    <tr style=\"text-align: right;\">\n",
       "      <th></th>\n",
       "      <th>Arm length (m)</th>\n",
       "      <th>Ball weight (kg)</th>\n",
       "      <th>Ball radius (mm)</th>\n",
       "      <th>Air temperature (deg C)</th>\n",
       "      <th>Spring constant (N per m)</th>\n",
       "      <th>Device weight (kg)</th>\n",
       "    </tr>\n",
       "  </thead>\n",
       "  <tbody>\n",
       "    <tr>\n",
       "      <th>0</th>\n",
       "      <td>0.109767</td>\n",
       "      <td>0.061983</td>\n",
       "      <td>-0.732493</td>\n",
       "      <td>0.007335</td>\n",
       "      <td>-0.128493</td>\n",
       "      <td>0.774432</td>\n",
       "    </tr>\n",
       "  </tbody>\n",
       "</table>\n",
       "</div>"
      ],
      "text/plain": [
       "   Arm length (m)  Ball weight (kg)  Ball radius (mm)  \\\n",
       "0        0.109767          0.061983         -0.732493   \n",
       "\n",
       "   Air temperature (deg C)  Spring constant (N per m)  Device weight (kg)  \n",
       "0                 0.007335                  -0.128493            0.774432  "
      ]
     },
     "execution_count": 3,
     "metadata": {},
     "output_type": "execute_result"
    }
   ],
   "source": [
    "X.head(1)"
   ]
  },
  {
   "cell_type": "markdown",
   "metadata": {},
   "source": [
    "# Data Exploration"
   ]
  },
  {
   "cell_type": "markdown",
   "metadata": {},
   "source": [
    "# Model Cell"
   ]
  },
  {
   "cell_type": "code",
   "execution_count": 7,
   "metadata": {},
   "outputs": [],
   "source": [
    "from tensorflow.keras.initializers import RandomUniform\n",
    "from tensorflow.keras.activations import elu, relu \n",
    "from tensorflow.keras.layers import Activation\n",
    "# add automation to this\n",
    "def uncompiled_model():\n",
    "    inputs = Input(shape=(6,), name='Data')\n",
    "    x = Dense(8, activation = 'relu')(inputs)\n",
    "    x = Dense(8, activation='relu')(x)\n",
    "\n",
    "    #x = Dense(4, activation='linear')(x)\n",
    "    outputs = Dense(2, activation='tanh', name='TargetHit')(x)\n",
    "    model = Model(inputs=inputs, outputs=outputs)\n",
    "    return model\n",
    "\n",
    "\n",
    "def compile_model():\n",
    "    model = uncompiled_model()\n",
    "    model.compile(\n",
    "        optimizer=\"adam\",\n",
    "        loss=\"binary_crossentropy\",\n",
    "        metrics=[\"accuracy\",\n",
    "                 \"binary_accuracy\",\n",
    "                 \"binary_crossentropy\",\n",
    "                 \"categorical_accuracy\"\n",
    "                 ],\n",
    "    )\n",
    "    return model\n",
    "\n",
    "def compiler(model):\n",
    "    model.compile(\n",
    "    optimizer=\"adam\",\n",
    "    loss=\"binary_crossentropy\",\n",
    "    metrics=[\"accuracy\",\n",
    "             \"binary_accuracy\",\n",
    "             \"binary_crossentropy\",\n",
    "             \"categorical_accuracy\"\n",
    "             ],\n",
    "    )\n",
    "    return model\n",
    "    "
   ]
  },
  {
   "cell_type": "markdown",
   "metadata": {},
   "source": [
    "# Test Model"
   ]
  },
  {
   "cell_type": "code",
   "execution_count": 8,
   "metadata": {},
   "outputs": [],
   "source": [
    "feedforward = FeedForward()\n"
   ]
  },
  {
   "cell_type": "code",
   "execution_count": 10,
   "metadata": {},
   "outputs": [
    {
     "name": "stdout",
     "output_type": "stream",
     "text": [
      "25/25 [==============================] - 0s 3ms/step - loss: 0.6675 - accuracy: 0.6200 - binary_accuracy: 0.6100 - binary_crossentropy: 0.6675 - categorical_accuracy: 0.6200\n",
      "25/25 [==============================] - 0s 1ms/step - loss: 0.6587 - accuracy: 0.6438 - binary_accuracy: 0.6463 - binary_crossentropy: 0.6587 - categorical_accuracy: 0.6438\n",
      "25/25 [==============================] - 0s 861us/step - loss: 0.7131 - accuracy: 0.6625 - binary_accuracy: 0.6600 - binary_crossentropy: 0.7131 - categorical_accuracy: 0.6625\n",
      "25/25 [==============================] - 0s 828us/step - loss: 0.6276 - accuracy: 0.6787 - binary_accuracy: 0.6775 - binary_crossentropy: 0.6276 - categorical_accuracy: 0.6787\n",
      "25/25 [==============================] - 0s 4ms/step - loss: 0.6014 - accuracy: 0.7163 - binary_accuracy: 0.7212 - binary_crossentropy: 0.6014 - categorical_accuracy: 0.7163\n",
      "average loss:  0.6536670923233032\n",
      "average accuracy:  0.6642500042915345\n"
     ]
    }
   ],
   "source": [
    "model = compile_model()\n",
    "instance = evaluate_models(\n",
    "    uncompiled_model(), compiler, *data\n",
    ")\n",
    "\n",
    "scores, histories = instance.cross_validate(epochs = 100, verbose = 0)\n"
   ]
  },
  {
   "cell_type": "code",
   "execution_count": 11,
   "metadata": {},
   "outputs": [
    {
     "name": "stdout",
     "output_type": "stream",
     "text": [
      "[0.62       0.64375001 0.66250002 0.67874998 0.71625   ]\n"
     ]
    },
    {
     "data": {
      "image/png": "[encoded data removed]",
      "text/plain": [
       "<Figure size 432x288 with 2 Axes>"
      ]
     },
     "metadata": {
      "needs_background": "light"
     },
     "output_type": "display_data"
    }
   ],
   "source": [
    "instance.plot_histories(histories)\n",
    "print(np.asarray(scores)[:,1])"
   ]
  },
  {
   "cell_type": "code",
   "execution_count": null,
   "metadata": {},
   "outputs": [],
   "source": [
    "fig, axes = plt.subplots(nrows = 1, ncols = 2)\n",
    "axes = axes.reshape(1,2)\n",
    "axes[0,1]"
   ]
  },
  {
   "cell_type": "code",
   "execution_count": null,
   "metadata": {
    "scrolled": true
   },
   "outputs": [],
   "source": [
    "instance.evaluate(epochs = 100, verbose = 0)\n"
   ]
  },
  {
   "cell_type": "code",
   "execution_count": null,
   "metadata": {},
   "outputs": [],
   "source": [
    "feedforward.print_params(-3)"
   ]
  },
  {
   "cell_type": "code",
   "execution_count": null,
   "metadata": {},
   "outputs": [],
   "source": [
    "#feedforward.plot_model()"
   ]
  },
  {
   "cell_type": "code",
   "execution_count": null,
   "metadata": {},
   "outputs": [],
   "source": [
    "#model = feedforward.get_model()\n",
    "#yhat = model.predict(X_test)\n",
    "#yhat = yhat[:,1]\n",
    "#yhat[yhat > 0.5] = 1\n",
    "#yhat[yhat <=0.5] = 0"
   ]
  },
  {
   "cell_type": "code",
   "execution_count": null,
   "metadata": {},
   "outputs": [],
   "source": [
    "#(yhat == y_test[:,1]).sum()/len(yhat)"
   ]
  },
  {
   "cell_type": "code",
   "execution_count": null,
   "metadata": {},
   "outputs": [],
   "source": [
    "import matplotlib.pyplot as plt\n",
    "\n",
    "fig, ax = plt.subplots(figsize = (8,8))\n",
    "plt.show()"
   ]
  },
  {
   "cell_type": "code",
   "execution_count": null,
   "metadata": {},
   "outputs": [],
   "source": [
    "def function(*args, K = 5,**kwargs):\n",
    "    print(args) if not args else print(args[0])\n",
    "    print(kwargs)\n",
    "    fig, ax = plt.subplots(**kwargs)\n",
    "    plt.show()\n",
    "    \n",
    "function(2,figsize = (8,8))"
   ]
  },
  {
   "cell_type": "markdown",
   "metadata": {},
   "source": [
    "https://dbader.org/blog/meaning-of-underscores-in-python\n",
    "\n",
    "https://keras.io/api/layers/initializers/\n",
    "\n",
    "https://stats.stackexchange.com/questions/330559/why-is-tanh-almost-always-better-than-sigmoid-as-an-activation-function\n",
    "\n",
    "https://keras.io/api/losses/probabilistic_losses/#sparsecategoricalcrossentropy-class\n",
    "\n",
    "https://ruder.io/optimizing-gradient-descent/\n",
    "\n",
    "https://ml-cheatsheet.readthedocs.io/en/latest/activation_functions.html\n"
   ]
  }
 ],
 "metadata": {
  "kernelspec": {
   "display_name": "Python 3",
   "language": "python",
   "name": "python3"
  },
  "language_info": {
   "codemirror_mode": {
    "name": "ipython",
    "version": 3
   },
   "file_extension": ".py",
   "mimetype": "text/x-python",
   "name": "python",
   "nbconvert_exporter": "python",
   "pygments_lexer": "ipython3",
   "version": "3.7.6"
  }
 },
 "nbformat": 4,
 "nbformat_minor": 4
}
