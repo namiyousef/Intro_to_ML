{
 "cells": [
  {
   "cell_type": "markdown",
   "metadata": {},
   "source": [
    "# TestingEvaluateClass"
   ]
  },
  {
   "cell_type": "markdown",
   "metadata": {},
   "source": [
    "# Libraries"
   ]
  },
  {
   "cell_type": "code",
   "execution_count": 1,
   "metadata": {},
   "outputs": [],
   "source": [
    "# directory set up \n",
    "import os,sys,inspect\n",
    "current_dir = os.path.dirname(os.path.abspath(inspect.getfile(inspect.currentframe())))\n",
    "parent_dir = os.path.dirname(current_dir)\n",
    "sys.path.insert(0, parent_dir) \n",
    "\n",
    "# data attainment\n",
    "import pandas as pd\n",
    "\n",
    "# mathematical\n",
    "import tensorflow as tf\n",
    "import numpy as np\n",
    "\n",
    "# preprocessing\n",
    "from sklearn.model_selection import train_test_split\n",
    "from tensorflow.keras.utils import to_categorical\n",
    "from Extra_Work.PythonFiles.preprocessing import scale_data\n",
    "\n",
    "# modelling\n",
    "from tensorflow.keras import Input, Model\n",
    "from tensorflow.keras.layers import LayerNormalization, BatchNormalization, Dense, Dropout\n",
    "\n",
    "# evaluation\n",
    "from Extra_Work.PythonFiles.modelling import evaluate_models\n",
    "from Extra_Work.PythonFiles.modelling import FeedForward\n",
    "\n",
    "# plotting\n",
    "import matplotlib.pyplot as plt\n",
    "\n",
    "# setting global seeds\n",
    "tf.random.set_seed(1)\n",
    "np.random.seed(1)"
   ]
  },
  {
   "cell_type": "markdown",
   "metadata": {},
   "source": [
    "# Data"
   ]
  },
  {
   "cell_type": "code",
   "execution_count": 2,
   "metadata": {},
   "outputs": [],
   "source": [
    "# load data\n",
    "\n",
    "df = pd.read_csv('../Data/dataset2.csv')\n",
    "\n",
    "X, scalers = scale_data(df[df.columns[:-1]], mode = 'robust')\n",
    "#X['Spring constant (N per m)'] = 0\n",
    "#X['Ball radius (mm)'] = 0\n",
    "\n",
    "y = df[df.columns[-1]]\n",
    "\n",
    "y_binary = to_categorical(y)\n",
    "\n",
    "data = train_test_split(\n",
    "    X,y_binary, test_size = 0.8, random_state = 23\n",
    ")\n",
    "\n"
   ]
  },
  {
   "cell_type": "code",
   "execution_count": 3,
   "metadata": {},
   "outputs": [
    {
     "data": {
      "text/html": [
       "<div>\n",
       "<style scoped>\n",
       "    .dataframe tbody tr th:only-of-type {\n",
       "        vertical-align: middle;\n",
       "    }\n",
       "\n",
       "    .dataframe tbody tr th {\n",
       "        vertical-align: top;\n",
       "    }\n",
       "\n",
       "    .dataframe thead th {\n",
       "        text-align: right;\n",
       "    }\n",
       "</style>\n",
       "<table border=\"1\" class=\"dataframe\">\n",
       "  <thead>\n",
       "    <tr style=\"text-align: right;\">\n",
       "      <th></th>\n",
       "      <th>Arm length (m)</th>\n",
       "      <th>Ball weight (kg)</th>\n",
       "      <th>Ball radius (mm)</th>\n",
       "      <th>Air temperature (deg C)</th>\n",
       "      <th>Spring constant (N per m)</th>\n",
       "      <th>Device weight (kg)</th>\n",
       "    </tr>\n",
       "  </thead>\n",
       "  <tbody>\n",
       "    <tr>\n",
       "      <th>0</th>\n",
       "      <td>0.079666</td>\n",
       "      <td>0.047542</td>\n",
       "      <td>-0.446794</td>\n",
       "      <td>0.000000</td>\n",
       "      <td>0.105246</td>\n",
       "      <td>0.448768</td>\n",
       "    </tr>\n",
       "    <tr>\n",
       "      <th>1</th>\n",
       "      <td>-0.780138</td>\n",
       "      <td>0.580440</td>\n",
       "      <td>-0.258312</td>\n",
       "      <td>0.833333</td>\n",
       "      <td>-0.240471</td>\n",
       "      <td>-0.967384</td>\n",
       "    </tr>\n",
       "    <tr>\n",
       "      <th>2</th>\n",
       "      <td>-1.187167</td>\n",
       "      <td>0.887401</td>\n",
       "      <td>0.491511</td>\n",
       "      <td>1.166667</td>\n",
       "      <td>2.949108</td>\n",
       "      <td>0.207340</td>\n",
       "    </tr>\n",
       "    <tr>\n",
       "      <th>3</th>\n",
       "      <td>-1.210137</td>\n",
       "      <td>0.807060</td>\n",
       "      <td>0.145161</td>\n",
       "      <td>-0.500000</td>\n",
       "      <td>-0.093714</td>\n",
       "      <td>0.758441</td>\n",
       "    </tr>\n",
       "    <tr>\n",
       "      <th>4</th>\n",
       "      <td>-1.619550</td>\n",
       "      <td>1.149810</td>\n",
       "      <td>0.861926</td>\n",
       "      <td>0.000000</td>\n",
       "      <td>2.101938</td>\n",
       "      <td>0.411803</td>\n",
       "    </tr>\n",
       "  </tbody>\n",
       "</table>\n",
       "</div>"
      ],
      "text/plain": [
       "   Arm length (m)  Ball weight (kg)  Ball radius (mm)  \\\n",
       "0        0.079666          0.047542         -0.446794   \n",
       "1       -0.780138          0.580440         -0.258312   \n",
       "2       -1.187167          0.887401          0.491511   \n",
       "3       -1.210137          0.807060          0.145161   \n",
       "4       -1.619550          1.149810          0.861926   \n",
       "\n",
       "   Air temperature (deg C)  Spring constant (N per m)  Device weight (kg)  \n",
       "0                 0.000000                   0.105246            0.448768  \n",
       "1                 0.833333                  -0.240471           -0.967384  \n",
       "2                 1.166667                   2.949108            0.207340  \n",
       "3                -0.500000                  -0.093714            0.758441  \n",
       "4                 0.000000                   2.101938            0.411803  "
      ]
     },
     "execution_count": 3,
     "metadata": {},
     "output_type": "execute_result"
    }
   ],
   "source": [
    "X.head(5)"
   ]
  },
  {
   "cell_type": "code",
   "execution_count": 12,
   "metadata": {},
   "outputs": [
    {
     "data": {
      "text/plain": [
       "array([[0., 1.],\n",
       "       [0., 1.],\n",
       "       [0., 1.],\n",
       "       ...,\n",
       "       [1., 0.],\n",
       "       [1., 0.],\n",
       "       [1., 0.]], dtype=float32)"
      ]
     },
     "execution_count": 12,
     "metadata": {},
     "output_type": "execute_result"
    }
   ],
   "source": [
    "y_binary"
   ]
  },
  {
   "cell_type": "markdown",
   "metadata": {},
   "source": [
    "# Data Exploration"
   ]
  },
  {
   "cell_type": "markdown",
   "metadata": {},
   "source": [
    "# Model Cell"
   ]
  },
  {
   "cell_type": "code",
   "execution_count": 81,
   "metadata": {},
   "outputs": [],
   "source": [
    "from tensorflow.keras.initializers import RandomUniform\n",
    "from tensorflow.keras.activations import elu, relu \n",
    "from tensorflow.keras.layers import Activation\n",
    "# add automation to this\n",
    "def uncompiled_model():\n",
    "    inputs = Input(shape=(6,), name='Data')\n",
    "    \n",
    "    x = Dense(16, activation = 'relu')(inputs)\n",
    "    #x = Dropout(0.2)(x)\n",
    "\n",
    "    # try adding weight constraints to model\n",
    "    x = BatchNormalization()(x)\n",
    "    x = Dense(8, activation='relu')(x)\n",
    "    x = BatchNormalization()(x)\n",
    "\n",
    "\n",
    "    x = Dense(16, activation='relu')(x)\n",
    "\n",
    "\n",
    "\n",
    "\n",
    "\n",
    "    # and make sure that epochs = 250\n",
    "    # update, best is 16,8,16 with batch = 50, epochs = 250\n",
    "    # also 32,16,32\n",
    "    \n",
    "    x = Dense(4, activation='sigmoid')(x)\n",
    "    outputs = Dense(2, activation='softmax')(x)\n",
    "\n",
    "\n",
    "\n",
    "\n",
    "    #outputs = Dense(2, activation='sigmoid', name='TargetHit')(x)\n",
    "    # remember, you might have to make ur output a sigmoid!\n",
    "\n",
    "\n",
    "    # chris model\n",
    "    #x = Dense(3, activation='linear')(inputs)\n",
    "    #outputs = Dense(2, activation = 'sigmoid')(x)\n",
    "    \n",
    "    \n",
    "    model = Model(inputs=inputs, outputs=outputs)\n",
    "    return model\n",
    "\n",
    "# will get penalised for model complexity, make sure you decrease this\n",
    "\n",
    "def compile_model():\n",
    "    model = uncompiled_model()\n",
    "    model.compile(\n",
    "        optimizer=\"adam\", # next step, add custom optimizers and modify learning \n",
    "        # rates. Adam yelds the best values\n",
    "        loss=\"binary_crossentropy\", # binary_crossentropy\n",
    "        metrics=[\"accuracy\",\n",
    "                 \"binary_accuracy\",\n",
    "                 \"binary_crossentropy\",\n",
    "                 \"categorical_accuracy\"\n",
    "                 ],\n",
    "    )\n",
    "    return model\n",
    "\n",
    "def compiler(model):\n",
    "    model.compile(\n",
    "    optimizer=\"adam\",\n",
    "    loss=\"binary_crossentropy\",\n",
    "    metrics=[\"accuracy\",\n",
    "             \"binary_accuracy\",\n",
    "             \"binary_crossentropy\",\n",
    "             \"categorical_accuracy\"\n",
    "             ],\n",
    "    )\n",
    "    return model\n",
    "    "
   ]
  },
  {
   "cell_type": "markdown",
   "metadata": {},
   "source": [
    "# Test Model"
   ]
  },
  {
   "cell_type": "code",
   "execution_count": 5,
   "metadata": {},
   "outputs": [],
   "source": [
    "feedforward = FeedForward()\n"
   ]
  },
  {
   "cell_type": "code",
   "execution_count": 6,
   "metadata": {},
   "outputs": [
    {
     "name": "stdout",
     "output_type": "stream",
     "text": [
      "25/25 [==============================] - 0s 1ms/step - loss: 0.4995 - accuracy: 0.7425 - binary_accuracy: 0.7456 - binary_crossentropy: 0.4995 - categorical_accuracy: 0.7425\n",
      "25/25 [==============================] - 0s 2ms/step - loss: 0.4577 - accuracy: 0.8012 - binary_accuracy: 0.8000 - binary_crossentropy: 0.4577 - categorical_accuracy: 0.8012\n",
      "25/25 [==============================] - 0s 888us/step - loss: 0.4400 - accuracy: 0.8050 - binary_accuracy: 0.8062 - binary_crossentropy: 0.4400 - categorical_accuracy: 0.8050\n",
      "25/25 [==============================] - 0s 1ms/step - loss: 0.4378 - accuracy: 0.8263 - binary_accuracy: 0.8263 - binary_crossentropy: 0.4378 - categorical_accuracy: 0.8263\n",
      "25/25 [==============================] - 0s 1ms/step - loss: 0.4103 - accuracy: 0.8325 - binary_accuracy: 0.8319 - binary_crossentropy: 0.4103 - categorical_accuracy: 0.8325\n",
      "average loss:  0.44904146790504457\n",
      "average accuracy:  0.8014999985694885\n"
     ]
    }
   ],
   "source": [
    "model = compile_model()\n",
    "instance = evaluate_models(\n",
    "    uncompiled_model(), compiler, *data\n",
    ")\n",
    "\n",
    "scores, histories = instance.cross_validate(epochs = 100, verbose = 0)\n"
   ]
  },
  {
   "cell_type": "code",
   "execution_count": 7,
   "metadata": {},
   "outputs": [
    {
     "name": "stdout",
     "output_type": "stream",
     "text": [
      "[0.74250001 0.80124998 0.80500001 0.82625002 0.83249998]\n"
     ]
    },
    {
     "data": {
      "image/png": "[encoded data removed]",
      "text/plain": [
       "<Figure size 432x288 with 2 Axes>"
      ]
     },
     "metadata": {
      "needs_background": "light"
     },
     "output_type": "display_data"
    }
   ],
   "source": [
    "instance.plot_histories(histories)\n",
    "print(np.asarray(scores)[:,1])"
   ]
  },
  {
   "cell_type": "code",
   "execution_count": 71,
   "metadata": {},
   "outputs": [],
   "source": [
    "from tensorflow.keras.callbacks import EarlyStopping\n",
    "early_stopping = EarlyStopping(patience = 10)\n",
    "\n",
    "from sklearn.model_selection import KFold\n",
    "from time import time\n",
    "def cross_validate(K = 5, **kwargs):\n",
    "    scores = []\n",
    "    histories = []\n",
    "    X = np.concatenate((data[0], data[1]), axis = 0)\n",
    "    y = np.concatenate((data[2], data[3]), axis = 0)\n",
    "    for train, test in KFold(n_splits=K, shuffle=True).split(X,y):\n",
    "        model = compile_model()\n",
    "        start = time()\n",
    "        histories.append(model.fit(X[train], y[train], **kwargs).history)\n",
    "        print(time() - start)\n",
    "        scores.append(model.evaluate(X[test], y[test], verbose = 0))\n",
    "    print(\"average loss: \", np.asarray(scores)[:,0].mean())\n",
    "    print(\"average accuracy: \", np.asarray(scores)[:,1].mean()) # make sure that accuracy is the first metric in compile\n",
    "    print(model.summary())\n",
    "    return scores, histories\n",
    "\n",
    "def plot_histories(histories, metrics = ['loss', 'accuracy']):\n",
    "    fig, axes = plt.subplots(nrows = len(metrics) % 2 + 1, ncols = 2)\n",
    "    axes = axes.reshape(len(metrics) % 2 + 1, 2)\n",
    "    for i,metric in enumerate(metrics):\n",
    "        for history in histories:\n",
    "            axes[(i+2)//2 - 1, 1 - (i+1)%2].plot(history[metric])\n",
    "        plt.legend([i for i in range(len(histories))])\n",
    "        \n"
   ]
  },
  {
   "cell_type": "code",
   "execution_count": 83,
   "metadata": {},
   "outputs": [
    {
     "name": "stdout",
     "output_type": "stream",
     "text": [
      "20.553028106689453\n",
      "20.01839780807495\n",
      "19.919700860977173\n",
      "20.114791870117188\n",
      "21.92816424369812\n",
      "average loss:  0.37895347476005553\n",
      "average accuracy:  0.8377499938011169\n",
      "Model: \"functional_206\"\n",
      "_________________________________________________________________\n",
      "Layer (type)                 Output Shape              Param #   \n",
      "=================================================================\n",
      "Data (InputLayer)            [(None, 6)]               0         \n",
      "_________________________________________________________________\n",
      "dense_356 (Dense)            (None, 16)                112       \n",
      "_________________________________________________________________\n",
      "batch_normalization_162 (Bat (None, 16)                64        \n",
      "_________________________________________________________________\n",
      "dense_357 (Dense)            (None, 8)                 136       \n",
      "_________________________________________________________________\n",
      "batch_normalization_163 (Bat (None, 8)                 32        \n",
      "_________________________________________________________________\n",
      "dense_358 (Dense)            (None, 16)                144       \n",
      "_________________________________________________________________\n",
      "dense_359 (Dense)            (None, 4)                 68        \n",
      "_________________________________________________________________\n",
      "dense_360 (Dense)            (None, 2)                 10        \n",
      "=================================================================\n",
      "Total params: 566\n",
      "Trainable params: 518\n",
      "Non-trainable params: 48\n",
      "_________________________________________________________________\n",
      "None\n",
      "[[0.3617291748523712, 0.8299999833106995, 0.8299999833106995, 0.3617291748523712, 0.8299999833106995], [0.369317889213562, 0.8450000286102295, 0.8450000286102295, 0.369317889213562, 0.8450000286102295], [0.36288368701934814, 0.8412500023841858, 0.8412500023841858, 0.36288368701934814, 0.8412500023841858], [0.42498978972435, 0.8299999833106995, 0.8299999833106995, 0.42498978972435, 0.8299999833106995], [0.37584683299064636, 0.8424999713897705, 0.8424999713897705, 0.37584683299064636, 0.8424999713897705]]\n"
     ]
    }
   ],
   "source": [
    "scores, histories = cross_validate(K = 5, \n",
    "                                   epochs = 250,\n",
    "                                   verbose = 0,\n",
    "                                   batch_size = 50,\n",
    "                                   shuffle = True) \n",
    "#validation_split = 0.1, callbacks = [early_stopping]) #)\n",
    "print(scores)"
   ]
  },
  {
   "cell_type": "code",
   "execution_count": 82,
   "metadata": {},
   "outputs": [
    {
     "data": {
      "image/png": "[encoded data removed]",
      "text/plain": [
       "<Figure size 432x288 with 2 Axes>"
      ]
     },
     "metadata": {
      "needs_background": "light"
     },
     "output_type": "display_data"
    }
   ],
   "source": [
    "plot_histories(histories)"
   ]
  },
  {
   "cell_type": "code",
   "execution_count": 77,
   "metadata": {},
   "outputs": [
    {
     "name": "stdout",
     "output_type": "stream",
     "text": [
      "Model: \"functional_186\"\n",
      "_________________________________________________________________\n",
      "Layer (type)                 Output Shape              Param #   \n",
      "=================================================================\n",
      "Data (InputLayer)            [(None, 6)]               0         \n",
      "_________________________________________________________________\n",
      "dense_306 (Dense)            (None, 16)                112       \n",
      "_________________________________________________________________\n",
      "batch_normalization_142 (Bat (None, 16)                64        \n",
      "_________________________________________________________________\n",
      "dense_307 (Dense)            (None, 8)                 136       \n",
      "_________________________________________________________________\n",
      "batch_normalization_143 (Bat (None, 8)                 32        \n",
      "_________________________________________________________________\n",
      "dense_308 (Dense)            (None, 16)                144       \n",
      "_________________________________________________________________\n",
      "dense_309 (Dense)            (None, 2)                 34        \n",
      "_________________________________________________________________\n",
      "dense_310 (Dense)            (None, 2)                 6         \n",
      "=================================================================\n",
      "Total params: 528\n",
      "Trainable params: 480\n",
      "Non-trainable params: 48\n",
      "_________________________________________________________________\n"
     ]
    }
   ],
   "source": [
    "# testing with validation split\n",
    "model = compile_model()\n",
    "start = time()\n",
    "history = model.fit(X,y_binary,\n",
    "                    shuffle = True, validation_split = 0.2,\n",
    "                    epochs = 250, verbose = 0, batch_size = 50)\n",
    "model.summary()"
   ]
  },
  {
   "cell_type": "code",
   "execution_count": 79,
   "metadata": {},
   "outputs": [
    {
     "name": "stdout",
     "output_type": "stream",
     "text": [
      "125/125 [==============================] - 0s 2ms/step - loss: 0.3505 - accuracy: 0.8605 - binary_accuracy: 0.8605 - binary_crossentropy: 0.3505 - categorical_accuracy: 0.8605\n"
     ]
    },
    {
     "data": {
      "text/plain": [
       "[0.35052692890167236,\n",
       " 0.8604999780654907,\n",
       " 0.8604999780654907,\n",
       " 0.35052692890167236,\n",
       " 0.8604999780654907]"
      ]
     },
     "execution_count": 79,
     "metadata": {},
     "output_type": "execute_result"
    },
    {
     "data": {
      "image/png": "[encoded data removed]",
      "text/plain": [
       "<Figure size 432x288 with 1 Axes>"
      ]
     },
     "metadata": {
      "needs_background": "light"
     },
     "output_type": "display_data"
    }
   ],
   "source": [
    "plt.plot(history.history['val_accuracy'])\n",
    "plt.plot(history.history['accuracy'])\n",
    "model.evaluate(X,y_binary)"
   ]
  },
  {
   "cell_type": "code",
   "execution_count": 12,
   "metadata": {
    "scrolled": true
   },
   "outputs": [
    {
     "name": "stdout",
     "output_type": "stream",
     "text": [
      "25/25 [==============================] - 0s 2ms/step - loss: 0.4137 - accuracy: 0.8138 - binary_accuracy: 0.8150 - binary_crossentropy: 0.4137 - categorical_accuracy: 0.8138\n",
      "100/100 [==============================] - 0s 1ms/step - loss: 0.4429 - accuracy: 0.8059 - binary_accuracy: 0.8067 - binary_crossentropy: 0.4429 - categorical_accuracy: 0.8059\n"
     ]
    }
   ],
   "source": [
    "instance.evaluate(epochs = 100, verbose = 0)\n"
   ]
  },
  {
   "cell_type": "code",
   "execution_count": 13,
   "metadata": {},
   "outputs": [
    {
     "name": "stdout",
     "output_type": "stream",
     "text": [
      "[[0.442889928817749, 0.8059375286102295, 0.8067187666893005, 0.442889928817749, 3.5885000228881836, 482]]\n"
     ]
    }
   ],
   "source": [
    "feedforward.print_params(-3)"
   ]
  },
  {
   "cell_type": "code",
   "execution_count": 14,
   "metadata": {},
   "outputs": [],
   "source": [
    "#feedforward.plot_model()"
   ]
  },
  {
   "cell_type": "code",
   "execution_count": 15,
   "metadata": {},
   "outputs": [],
   "source": [
    "#model = feedforward.get_model()\n",
    "#yhat = model.predict(X_test)\n",
    "#yhat = yhat[:,1]\n",
    "#yhat[yhat > 0.5] = 1\n",
    "#yhat[yhat <=0.5] = 0"
   ]
  },
  {
   "cell_type": "code",
   "execution_count": 16,
   "metadata": {},
   "outputs": [],
   "source": [
    "#(yhat == y_test[:,1]).sum()/len(yhat)"
   ]
  },
  {
   "cell_type": "code",
   "execution_count": 17,
   "metadata": {},
   "outputs": [
    {
     "data": {
      "image/png": "[encoded data removed]",
      "text/plain": [
       "<Figure size 576x576 with 1 Axes>"
      ]
     },
     "metadata": {
      "needs_background": "light"
     },
     "output_type": "display_data"
    }
   ],
   "source": [
    "import matplotlib.pyplot as plt\n",
    "\n",
    "fig, ax = plt.subplots(figsize = (8,8))\n",
    "plt.show()"
   ]
  },
  {
   "cell_type": "code",
   "execution_count": 18,
   "metadata": {},
   "outputs": [
    {
     "name": "stdout",
     "output_type": "stream",
     "text": [
      "2\n",
      "{'figsize': (8, 8)}\n"
     ]
    },
    {
     "data": {
      "image/png": "[encoded data removed]",
      "text/plain": [
       "<Figure size 576x576 with 1 Axes>"
      ]
     },
     "metadata": {
      "needs_background": "light"
     },
     "output_type": "display_data"
    }
   ],
   "source": [
    "def function(*args, K = 5,**kwargs):\n",
    "    print(args) if not args else print(args[0])\n",
    "    print(kwargs)\n",
    "    fig, ax = plt.subplots(**kwargs)\n",
    "    plt.show()\n",
    "    \n",
    "function(2,figsize = (8,8))"
   ]
  },
  {
   "cell_type": "markdown",
   "metadata": {},
   "source": [
    "https://dbader.org/blog/meaning-of-underscores-in-python\n",
    "\n",
    "https://keras.io/api/layers/initializers/\n",
    "\n",
    "https://stats.stackexchange.com/questions/330559/why-is-tanh-almost-always-better-than-sigmoid-as-an-activation-function\n",
    "\n",
    "https://keras.io/api/losses/probabilistic_losses/#sparsecategoricalcrossentropy-class\n",
    "\n",
    "https://ruder.io/optimizing-gradient-descent/\n",
    "\n",
    "https://ml-cheatsheet.readthedocs.io/en/latest/activation_functions.html\n",
    "\n",
    "https://towardsai.net/p/data-science/how-when-and-why-should-you-normalize-standardize-rescale-your-data-3f083def38ff\n",
    "\n",
    "https://github.com/keras-team/keras/pull/9965\n",
    "\n",
    "https://medium.com/mini-distill/effect-of-batch-size-on-training-dynamics-21c14f7a716e\n",
    "\n",
    "https://stackoverflow.com/questions/51841506/data-standardization-vs-normalization-vs-robust-scaler\n",
    "\n",
    "https://machinelearningmastery.com/how-to-stop-training-deep-neural-networks-at-the-right-time-using-early-stopping/\n",
    "\n",
    "https://www.kdnuggets.com/2019/12/5-techniques-prevent-overfitting-neural-networks.html\n",
    "\n",
    "\n",
    "https://towardsdatascience.com/a-practical-introduction-to-early-stopping-in-machine-learning-550ac88bc8fd\n",
    "\n",
    "\n",
    "https://www.quora.com/What-is-the-importance-of-the-validation-split-variable-in-Keras\n",
    "\n"
   ]
  },
  {
   "cell_type": "code",
   "execution_count": 93,
   "metadata": {},
   "outputs": [],
   "source": [
    "# idea: run the model for different values and parameters and then use regression / calssification to find the best ones\n",
    "\n",
    "# apparently having a small middle layer is good?"
   ]
  },
  {
   "cell_type": "code",
   "execution_count": null,
   "metadata": {},
   "outputs": [],
   "source": []
  }
 ],
 "metadata": {
  "kernelspec": {
   "display_name": "Python 3",
   "language": "python",
   "name": "python3"
  },
  "language_info": {
   "codemirror_mode": {
    "name": "ipython",
    "version": 3
   },
   "file_extension": ".py",
   "mimetype": "text/x-python",
   "name": "python",
   "nbconvert_exporter": "python",
   "pygments_lexer": "ipython3",
   "version": "3.7.6"
  }
 },
 "nbformat": 4,
 "nbformat_minor": 4
}
