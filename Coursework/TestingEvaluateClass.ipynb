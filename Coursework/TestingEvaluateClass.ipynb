{
 "cells": [
  {
   "cell_type": "markdown",
   "metadata": {},
   "source": [
    "# TestingEvaluateClass"
   ]
  },
  {
   "cell_type": "markdown",
   "metadata": {},
   "source": [
    "# Libraries"
   ]
  },
  {
   "cell_type": "code",
   "execution_count": 1,
   "metadata": {},
   "outputs": [],
   "source": [
    "# directory set up \n",
    "import os,sys,inspect\n",
    "current_dir = os.path.dirname(os.path.abspath(inspect.getfile(inspect.currentframe())))\n",
    "parent_dir = os.path.dirname(current_dir)\n",
    "sys.path.insert(0, parent_dir) \n",
    "\n",
    "# data attainment\n",
    "import pandas as pd\n",
    "\n",
    "# mathematical\n",
    "import tensorflow as tf\n",
    "import numpy as np\n",
    "\n",
    "# preprocessing\n",
    "from sklearn.model_selection import train_test_split\n",
    "from tensorflow.keras.utils import to_categorical\n",
    "from Extra_Work.PythonFiles.preprocessing import scale_data\n",
    "\n",
    "# modelling\n",
    "from tensorflow.keras import Input, Model\n",
    "from tensorflow.keras.layers import LayerNormalization, BatchNormalization, Dense, Dropout, LeakyReLU\n",
    "from tensorflow.keras.optimizers import Adam\n",
    "# evaluation\n",
    "from Extra_Work.PythonFiles.modelling import evaluate_models\n",
    "from Extra_Work.PythonFiles.modelling import FeedForward\n",
    "\n",
    "# plotting\n",
    "import matplotlib.pyplot as plt\n",
    "\n",
    "# setting global seeds\n",
    "#tf.random.set_seed(1)\n",
    "#np.random.seed(1)"
   ]
  },
  {
   "cell_type": "markdown",
   "metadata": {},
   "source": [
    "# Data"
   ]
  },
  {
   "cell_type": "code",
   "execution_count": 2,
   "metadata": {},
   "outputs": [
    {
     "data": {
      "text/html": [
       "<div>\n",
       "<style scoped>\n",
       "    .dataframe tbody tr th:only-of-type {\n",
       "        vertical-align: middle;\n",
       "    }\n",
       "\n",
       "    .dataframe tbody tr th {\n",
       "        vertical-align: top;\n",
       "    }\n",
       "\n",
       "    .dataframe thead th {\n",
       "        text-align: right;\n",
       "    }\n",
       "</style>\n",
       "<table border=\"1\" class=\"dataframe\">\n",
       "  <thead>\n",
       "    <tr style=\"text-align: right;\">\n",
       "      <th></th>\n",
       "      <th>Arm length (m)</th>\n",
       "      <th>Ball weight (kg)</th>\n",
       "      <th>Ball radius (mm)</th>\n",
       "      <th>Air temperature (deg C)</th>\n",
       "      <th>Spring constant (N per m)</th>\n",
       "      <th>Device weight (kg)</th>\n",
       "    </tr>\n",
       "  </thead>\n",
       "  <tbody>\n",
       "    <tr>\n",
       "      <th>count</th>\n",
       "      <td>4000.000000</td>\n",
       "      <td>4000.000000</td>\n",
       "      <td>4000.000000</td>\n",
       "      <td>4000.000000</td>\n",
       "      <td>4000.000000</td>\n",
       "      <td>4000.000000</td>\n",
       "    </tr>\n",
       "    <tr>\n",
       "      <th>mean</th>\n",
       "      <td>0.398512</td>\n",
       "      <td>0.456403</td>\n",
       "      <td>0.158420</td>\n",
       "      <td>0.520185</td>\n",
       "      <td>0.191242</td>\n",
       "      <td>0.493725</td>\n",
       "    </tr>\n",
       "    <tr>\n",
       "      <th>std</th>\n",
       "      <td>0.156866</td>\n",
       "      <td>0.148990</td>\n",
       "      <td>0.111700</td>\n",
       "      <td>0.211920</td>\n",
       "      <td>0.128153</td>\n",
       "      <td>0.288167</td>\n",
       "    </tr>\n",
       "    <tr>\n",
       "      <th>min</th>\n",
       "      <td>0.000000</td>\n",
       "      <td>0.000000</td>\n",
       "      <td>0.000000</td>\n",
       "      <td>0.000000</td>\n",
       "      <td>0.000000</td>\n",
       "      <td>0.000000</td>\n",
       "    </tr>\n",
       "    <tr>\n",
       "      <th>25%</th>\n",
       "      <td>0.292083</td>\n",
       "      <td>0.357587</td>\n",
       "      <td>0.085095</td>\n",
       "      <td>0.391304</td>\n",
       "      <td>0.101880</td>\n",
       "      <td>0.245800</td>\n",
       "    </tr>\n",
       "    <tr>\n",
       "      <th>50%</th>\n",
       "      <td>0.399114</td>\n",
       "      <td>0.456107</td>\n",
       "      <td>0.128587</td>\n",
       "      <td>0.521739</td>\n",
       "      <td>0.159880</td>\n",
       "      <td>0.493497</td>\n",
       "    </tr>\n",
       "    <tr>\n",
       "      <th>75%</th>\n",
       "      <td>0.500669</td>\n",
       "      <td>0.558048</td>\n",
       "      <td>0.201450</td>\n",
       "      <td>0.652174</td>\n",
       "      <td>0.243408</td>\n",
       "      <td>0.743594</td>\n",
       "    </tr>\n",
       "    <tr>\n",
       "      <th>max</th>\n",
       "      <td>1.000000</td>\n",
       "      <td>1.000000</td>\n",
       "      <td>1.000000</td>\n",
       "      <td>1.000000</td>\n",
       "      <td>1.000000</td>\n",
       "      <td>1.000000</td>\n",
       "    </tr>\n",
       "  </tbody>\n",
       "</table>\n",
       "</div>"
      ],
      "text/plain": [
       "       Arm length (m)  Ball weight (kg)  Ball radius (mm)  \\\n",
       "count     4000.000000       4000.000000       4000.000000   \n",
       "mean         0.398512          0.456403          0.158420   \n",
       "std          0.156866          0.148990          0.111700   \n",
       "min          0.000000          0.000000          0.000000   \n",
       "25%          0.292083          0.357587          0.085095   \n",
       "50%          0.399114          0.456107          0.128587   \n",
       "75%          0.500669          0.558048          0.201450   \n",
       "max          1.000000          1.000000          1.000000   \n",
       "\n",
       "       Air temperature (deg C)  Spring constant (N per m)  Device weight (kg)  \n",
       "count              4000.000000                4000.000000         4000.000000  \n",
       "mean                  0.520185                   0.191242            0.493725  \n",
       "std                   0.211920                   0.128153            0.288167  \n",
       "min                   0.000000                   0.000000            0.000000  \n",
       "25%                   0.391304                   0.101880            0.245800  \n",
       "50%                   0.521739                   0.159880            0.493497  \n",
       "75%                   0.652174                   0.243408            0.743594  \n",
       "max                   1.000000                   1.000000            1.000000  "
      ]
     },
     "execution_count": 2,
     "metadata": {},
     "output_type": "execute_result"
    }
   ],
   "source": [
    "# load data\n",
    "\n",
    "df = pd.read_csv('../Data/dataset2.csv')\n",
    "\n",
    "X, scalers = scale_data(df[df.columns[:-1]], mode = 'minmax')\n",
    "# for best model, put robust mode. Try with standard too\n",
    "#X['Spring constant (N per m)'] = 0\n",
    "#X['Ball radius (mm)'] = 0\n",
    "\n",
    "y = df[df.columns[-1]]\n",
    "\n",
    "y_binary = to_categorical(y)\n",
    "\n",
    "data = train_test_split(\n",
    "    X,y_binary, test_size = 0.2, random_state = 23\n",
    ")\n",
    "X.describe()"
   ]
  },
  {
   "cell_type": "code",
   "execution_count": 3,
   "metadata": {},
   "outputs": [],
   "source": [
    "X = np.asarray(X)"
   ]
  },
  {
   "cell_type": "code",
   "execution_count": 4,
   "metadata": {},
   "outputs": [
    {
     "data": {
      "text/plain": [
       "array([[0., 1.],\n",
       "       [0., 1.],\n",
       "       [0., 1.],\n",
       "       ...,\n",
       "       [1., 0.],\n",
       "       [1., 0.],\n",
       "       [1., 0.]], dtype=float32)"
      ]
     },
     "execution_count": 4,
     "metadata": {},
     "output_type": "execute_result"
    }
   ],
   "source": [
    "y_binary"
   ]
  },
  {
   "cell_type": "markdown",
   "metadata": {},
   "source": [
    "# Data Exploration"
   ]
  },
  {
   "cell_type": "markdown",
   "metadata": {},
   "source": [
    "# Model Cell"
   ]
  },
  {
   "cell_type": "code",
   "execution_count": 5,
   "metadata": {},
   "outputs": [],
   "source": [
    "from tensorflow.keras.initializers import RandomUniform\n",
    "from tensorflow.keras.activations import elu, relu \n",
    "from tensorflow.keras.layers import Activation\n",
    "from tensorflow.keras.initializers import Constant\n",
    "\n",
    "# add automation to this\n",
    "def uncompiled_model():\n",
    "    inputs = Input(shape=(6,), name='Data')\n",
    "    x = Dense(16, activation = 'softmax', bias_initializer=Constant(0.5))(inputs) # had this before\n",
    "    x = BatchNormalization()(x)\n",
    "    x = Dense(8, activation='softmax', bias_initializer=Constant(0.5))(x)\n",
    "    x = BatchNormalization()(x)\n",
    "    x = Dense(16, activation='softmax')(x)\n",
    "    x = BatchNormalization()(x)\n",
    "\n",
    "    \n",
    "    \n",
    "    #x = Dropout(0.2)(x)\n",
    "\n",
    "    # try adding weight constraints to model\n",
    "    \n",
    "\n",
    "\n",
    "\n",
    "    # meshi's\n",
    "    #x = Dense(6, activation = 'tanh')(inputs)\n",
    "    #x = Dense(6, activation = 'relu')(x)\n",
    "    #x = Dense(4, activation = 'relu')(x)\n",
    "\n",
    "\n",
    "\n",
    "\n",
    "    # and make sure that epochs = 250\n",
    "    # update, best is 16,8,16 with batch = 50, epochs = 250\n",
    "    # also 32,16,32\n",
    "    \n",
    "    #x = Dense(4, activation='sigmoid')(x)\n",
    "    outputs = Dense(2, activation='softmax')(x)\n",
    "\n",
    "\n",
    "# try maxout layers!!!!\n",
    "\n",
    "    #outputs = Dense(2, activation='sigmoid', name='TargetHit')(x)\n",
    "    # remember, you might have to make ur output a sigmoid!\n",
    "\n",
    "\n",
    "    # chris model\n",
    "    #x = Dense(3, activation='linear')(inputs)\n",
    "    #outputs = Dense(2, activation = 'sigmoid')(x)\n",
    "    \n",
    "    \n",
    "    model = Model(inputs=inputs, outputs=outputs)\n",
    "    return model\n",
    "\n",
    "# will get penalised for model complexity, make sure you decrease this\n",
    "\n",
    "def compile_model():\n",
    "    model = uncompiled_model()\n",
    "    model.compile(\n",
    "        #optimizer=\"adam\", # next step, add custom optimizers and modify learning \n",
    "        optimizer='adam',\n",
    "        # rates. Adam yelds the best values\n",
    "        loss=\"binary_crossentropy\", # binary_crossentropy\n",
    "        metrics=[\"accuracy\",\n",
    "                 \"binary_accuracy\",\n",
    "                 \"binary_crossentropy\",\n",
    "                 \"categorical_accuracy\"\n",
    "                 ],\n",
    "    )\n",
    "    return model\n",
    "\n",
    "def compiler(model):\n",
    "    model.compile(\n",
    "    optimizer=Adam(learning_rate=0.05), # was previously set to 0.1\n",
    "    loss=\"binary_crossentropy\",\n",
    "    metrics=[\"accuracy\",\n",
    "             \"binary_accuracy\",\n",
    "             \"binary_crossentropy\",\n",
    "             \"categorical_accuracy\"\n",
    "             ],\n",
    "    )\n",
    "    return model\n",
    "    "
   ]
  },
  {
   "cell_type": "markdown",
   "metadata": {},
   "source": [
    "# Test Model"
   ]
  },
  {
   "cell_type": "code",
   "execution_count": 5,
   "metadata": {},
   "outputs": [],
   "source": [
    "feedforward = FeedForward()\n"
   ]
  },
  {
   "cell_type": "code",
   "execution_count": 6,
   "metadata": {},
   "outputs": [
    {
     "name": "stdout",
     "output_type": "stream",
     "text": [
      "25/25 [==============================] - 0s 1ms/step - loss: 0.4995 - accuracy: 0.7425 - binary_accuracy: 0.7456 - binary_crossentropy: 0.4995 - categorical_accuracy: 0.7425\n",
      "25/25 [==============================] - 0s 2ms/step - loss: 0.4577 - accuracy: 0.8012 - binary_accuracy: 0.8000 - binary_crossentropy: 0.4577 - categorical_accuracy: 0.8012\n",
      "25/25 [==============================] - 0s 888us/step - loss: 0.4400 - accuracy: 0.8050 - binary_accuracy: 0.8062 - binary_crossentropy: 0.4400 - categorical_accuracy: 0.8050\n",
      "25/25 [==============================] - 0s 1ms/step - loss: 0.4378 - accuracy: 0.8263 - binary_accuracy: 0.8263 - binary_crossentropy: 0.4378 - categorical_accuracy: 0.8263\n",
      "25/25 [==============================] - 0s 1ms/step - loss: 0.4103 - accuracy: 0.8325 - binary_accuracy: 0.8319 - binary_crossentropy: 0.4103 - categorical_accuracy: 0.8325\n",
      "average loss:  0.44904146790504457\n",
      "average accuracy:  0.8014999985694885\n"
     ]
    }
   ],
   "source": [
    "model = compile_model()\n",
    "instance = evaluate_models(\n",
    "    uncompiled_model(), compiler, *data\n",
    ")\n",
    "\n",
    "scores, histories = instance.cross_validate(epochs = 100, verbose = 0)\n"
   ]
  },
  {
   "cell_type": "code",
   "execution_count": 7,
   "metadata": {},
   "outputs": [
    {
     "name": "stdout",
     "output_type": "stream",
     "text": [
      "[0.74250001 0.80124998 0.80500001 0.82625002 0.83249998]\n"
     ]
    },
    {
     "data": {
      "image/png": "[encoded data removed]",
      "text/plain": [
       "<Figure size 432x288 with 2 Axes>"
      ]
     },
     "metadata": {
      "needs_background": "light"
     },
     "output_type": "display_data"
    }
   ],
   "source": [
    "instance.plot_histories(histories)\n",
    "print(np.asarray(scores)[:,1])"
   ]
  },
  {
   "cell_type": "code",
   "execution_count": 20,
   "metadata": {},
   "outputs": [],
   "source": [
    "from tensorflow.keras.callbacks import EarlyStopping\n",
    "early_stopping = EarlyStopping(patience = 15)\n",
    "\n",
    "from sklearn.model_selection import KFold\n",
    "from time import time\n",
    "def cross_validate(K = 5, **kwargs):\n",
    "    scores = []\n",
    "    histories = []\n",
    "    X = np.concatenate((data[0], data[1]), axis = 0)\n",
    "    y = np.concatenate((data[2], data[3]), axis = 0)\n",
    "    for train, test in KFold(n_splits=K, shuffle=True).split(X,y):\n",
    "        model = compile_model()\n",
    "        start = time()\n",
    "        histories.append(model.fit(X[train], y[train],\n",
    "                                   validation_data = (X[test],y[test]),\n",
    "                                   **kwargs).history)\n",
    "        print(time() - start)\n",
    "        scores.append(model.evaluate(X[test], y[test], verbose = 0))\n",
    "    print(\"average loss: \", np.asarray(scores)[:,0].mean())\n",
    "    print(\"average accuracy: \", np.asarray(scores)[:,1].mean()) # make sure that accuracy is the first metric in compile\n",
    "    print(model.summary())\n",
    "    #model = compile_model()\n",
    "    #model.fit(data[0],data[2],**kwargs)\n",
    "    #print(model.evaluate(data[1],data[3]))\n",
    "    return scores, histories\n",
    "\n",
    "def plot_histories(histories, metrics = ['loss', 'accuracy', 'val_accuracy','val_loss']):\n",
    "    fig, axes = plt.subplots(nrows = (len(metrics) - 1) // 2 + 1, ncols = 2, figsize = (16,16))\n",
    "    axes = axes.reshape((len(metrics) - 1) // 2 + 1, 2)\n",
    "    for i,metric in enumerate(metrics):\n",
    "        for history in histories:\n",
    "            axes[(i+2)//2 - 1, 1 - (i+1)%2].plot(history[metric])\n",
    "            axes[(i+2)//2 - 1, 1 - (i+1)%2].legend([i for i in range(len(histories))])\n",
    "\n",
    "\n",
    "            #axes[(i+2)//2 - 1, 1 - (i+1)%2].axhline(y=max(history[metric]))\n",
    "            axes[(i+2)//2 - 1, 1 - (i+1)%2].set_xticks(\n",
    "                np.arange(max(history[metric]))\n",
    "            )\n",
    "                \n",
    "            \n",
    "        \n",
    "        \n"
   ]
  },
  {
   "cell_type": "code",
   "execution_count": null,
   "metadata": {},
   "outputs": [],
   "source": [
    "scores, histories = cross_validate(K = 5, \n",
    "                                   epochs = 1000,\n",
    "                                   # set to 1000 for good performance on YOUR model\n",
    "                                   verbose = 0,\n",
    "                                   batch_size = 156, # best when set to 50, 128 does not work bad either? So does 156! Early stopping will probably really help you model !\n",
    "                                   # set to 128 for your model\n",
    "                                   shuffle = True)\n",
    "                                   #callbacks = [early_stopping])\n",
    "#validation_split = 0.1, callbacks = [early_stopping]) #)\n",
    "print(scores)\n",
    "\n",
    "# try supplying customw weights, also see below suggestions"
   ]
  },
  {
   "cell_type": "code",
   "execution_count": null,
   "metadata": {},
   "outputs": [],
   "source": [
    "plot_histories(histories)"
   ]
  },
  {
   "cell_type": "code",
   "execution_count": 21,
   "metadata": {},
   "outputs": [],
   "source": [
    "model_to_save = compile_model()\n",
    "model_to_save.fit(X,y_binary, epochs = 400, verbose = 0, batch_size = 156, shuffle = True)\n",
    "model_to_save.save('Nami-Yousef-2.h5')"
   ]
  },
  {
   "cell_type": "code",
   "execution_count": 22,
   "metadata": {},
   "outputs": [],
   "source": [
    "np.savetxt('Nami-Yousef-2.txt',scalers)"
   ]
  },
  {
   "cell_type": "markdown",
   "metadata": {},
   "source": [
    "# Test if evlauate works correctly"
   ]
  },
  {
   "cell_type": "code",
   "execution_count": 43,
   "metadata": {},
   "outputs": [
    {
     "name": "stdout",
     "output_type": "stream",
     "text": [
      "0.86375\n",
      "80/80 [==============================] - 0s 2ms/step - loss: 0.3417 - accuracy: 0.8637 - binary_accuracy: 0.8637 - binary_crossentropy: 0.3417 - categorical_accuracy: 0.8637\n",
      "[0.34169894456863403, 0.8637499809265137, 0.8637499809265137, 0.34169894456863403, 0.8637499809265137]\n",
      "125/125 [==============================] - 0s 1ms/step - loss: 0.3455 - accuracy: 0.8575 - binary_accuracy: 0.8575 - binary_crossentropy: 0.3455 - categorical_accuracy: 0.8575\n",
      "[0.3454750180244446, 0.8575000166893005, 0.8575000166893005, 0.3454750180244446, 0.8575000166893005]\n"
     ]
    },
    {
     "data": {
      "text/plain": [
       "[<matplotlib.lines.Line2D at 0x7f8a63a9ea10>]"
      ]
     },
     "execution_count": 43,
     "metadata": {},
     "output_type": "execute_result"
    },
    {
     "data": {
      "image/png": "[encoded data removed]",
      "text/plain": [
       "<Figure size 432x288 with 1 Axes>"
      ]
     },
     "metadata": {
      "needs_background": "light"
     },
     "output_type": "display_data"
    }
   ],
   "source": [
    "\n",
    "model = compile_model()\n",
    "history = model.fit(X,y_binary,\n",
    "                    #shuffle = True,\n",
    "                    epochs = 250, verbose = 0, batch_size = 50, validation_split = 0.2, shuffle = True)\n",
    "yhat = model.predict(data[1])\n",
    "yhat = yhat[:,1]\n",
    "yhat[yhat > 0.5] = 1\n",
    "yhat[yhat <= 0.5] = 0\n",
    "\n",
    "print((yhat == data[3][:,1]).sum() / yhat.shape[0])\n",
    "\n",
    "print(model.evaluate(data[1],data[3], batch_size = 10))\n",
    "print(model.evaluate(X,y_binary))\n",
    "plt.plot(history.history['val_accuracy'])"
   ]
  },
  {
   "cell_type": "markdown",
   "metadata": {},
   "source": [
    "# Questions that I have\n",
    "\n",
    "- How does batch_size affect evaluation and prediction? \n",
    "- If you use 32 batchsize for fitting, then 50 or 60 for evaluation, will that affect the accuracy score that you get?\n",
    "- when using validation_split, what portion of the data is being taken, and what impact does shuffle = True have on this?\n",
    "- if using validation split, OR validation_data, does reulting curve give you the most accurate representation (i.e. val_accuracy) or is Kfold still more accurate?"
   ]
  },
  {
   "cell_type": "code",
   "execution_count": 33,
   "metadata": {},
   "outputs": [
    {
     "name": "stdout",
     "output_type": "stream",
     "text": [
      "Model: \"functional_67\"\n",
      "_________________________________________________________________\n",
      "Layer (type)                 Output Shape              Param #   \n",
      "=================================================================\n",
      "Data (InputLayer)            [(None, 6)]               0         \n",
      "_________________________________________________________________\n",
      "dense_165 (Dense)            (None, 16)                112       \n",
      "_________________________________________________________________\n",
      "batch_normalization_66 (Batc (None, 16)                64        \n",
      "_________________________________________________________________\n",
      "dense_166 (Dense)            (None, 8)                 136       \n",
      "_________________________________________________________________\n",
      "batch_normalization_67 (Batc (None, 8)                 32        \n",
      "_________________________________________________________________\n",
      "dense_167 (Dense)            (None, 16)                144       \n",
      "_________________________________________________________________\n",
      "dense_168 (Dense)            (None, 4)                 68        \n",
      "_________________________________________________________________\n",
      "dense_169 (Dense)            (None, 2)                 10        \n",
      "=================================================================\n",
      "Total params: 566\n",
      "Trainable params: 518\n",
      "Non-trainable params: 48\n",
      "_________________________________________________________________\n"
     ]
    }
   ],
   "source": [
    "# testing with validation split\n",
    "model = compile_model()\n",
    "start = time()\n",
    "history = model.fit(X,y_binary,\n",
    "                    shuffle = True, validation_split = 0.2,\n",
    "                    epochs = 250, verbose = 0, batch_size = 50)\n",
    "model.summary()"
   ]
  },
  {
   "cell_type": "code",
   "execution_count": 79,
   "metadata": {},
   "outputs": [
    {
     "name": "stdout",
     "output_type": "stream",
     "text": [
      "125/125 [==============================] - 0s 2ms/step - loss: 0.3505 - accuracy: 0.8605 - binary_accuracy: 0.8605 - binary_crossentropy: 0.3505 - categorical_accuracy: 0.8605\n"
     ]
    },
    {
     "data": {
      "text/plain": [
       "[0.35052692890167236,\n",
       " 0.8604999780654907,\n",
       " 0.8604999780654907,\n",
       " 0.35052692890167236,\n",
       " 0.8604999780654907]"
      ]
     },
     "execution_count": 79,
     "metadata": {},
     "output_type": "execute_result"
    },
    {
     "data": {
      "image/png": "[encoded data removed]",
      "text/plain": [
       "<Figure size 432x288 with 1 Axes>"
      ]
     },
     "metadata": {
      "needs_background": "light"
     },
     "output_type": "display_data"
    }
   ],
   "source": [
    "plt.plot(history.history['val_accuracy'])\n",
    "plt.plot(history.history['accuracy'])\n",
    "model.evaluate(X,y_binary)"
   ]
  },
  {
   "cell_type": "code",
   "execution_count": 12,
   "metadata": {
    "scrolled": true
   },
   "outputs": [
    {
     "name": "stdout",
     "output_type": "stream",
     "text": [
      "25/25 [==============================] - 0s 2ms/step - loss: 0.4137 - accuracy: 0.8138 - binary_accuracy: 0.8150 - binary_crossentropy: 0.4137 - categorical_accuracy: 0.8138\n",
      "100/100 [==============================] - 0s 1ms/step - loss: 0.4429 - accuracy: 0.8059 - binary_accuracy: 0.8067 - binary_crossentropy: 0.4429 - categorical_accuracy: 0.8059\n"
     ]
    }
   ],
   "source": [
    "instance.evaluate(epochs = 100, verbose = 0)\n"
   ]
  },
  {
   "cell_type": "code",
   "execution_count": 13,
   "metadata": {},
   "outputs": [
    {
     "name": "stdout",
     "output_type": "stream",
     "text": [
      "[[0.442889928817749, 0.8059375286102295, 0.8067187666893005, 0.442889928817749, 3.5885000228881836, 482]]\n"
     ]
    }
   ],
   "source": [
    "feedforward.print_params(-3)"
   ]
  },
  {
   "cell_type": "code",
   "execution_count": 14,
   "metadata": {},
   "outputs": [],
   "source": [
    "#feedforward.plot_model()"
   ]
  },
  {
   "cell_type": "code",
   "execution_count": 15,
   "metadata": {},
   "outputs": [],
   "source": [
    "#model = feedforward.get_model()\n",
    "#yhat = model.predict(X_test)\n",
    "#yhat = yhat[:,1]\n",
    "#yhat[yhat > 0.5] = 1\n",
    "#yhat[yhat <=0.5] = 0"
   ]
  },
  {
   "cell_type": "code",
   "execution_count": 16,
   "metadata": {},
   "outputs": [],
   "source": [
    "#(yhat == y_test[:,1]).sum()/len(yhat)"
   ]
  },
  {
   "cell_type": "markdown",
   "metadata": {},
   "source": [
    "https://dbader.org/blog/meaning-of-underscores-in-python\n",
    "\n",
    "https://keras.io/api/layers/initializers/\n",
    "\n",
    "https://stats.stackexchange.com/questions/330559/why-is-tanh-almost-always-better-than-sigmoid-as-an-activation-function\n",
    "\n",
    "https://keras.io/api/losses/probabilistic_losses/#sparsecategoricalcrossentropy-class\n",
    "\n",
    "https://ruder.io/optimizing-gradient-descent/\n",
    "\n",
    "https://ml-cheatsheet.readthedocs.io/en/latest/activation_functions.html\n",
    "\n",
    "https://towardsai.net/p/data-science/how-when-and-why-should-you-normalize-standardize-rescale-your-data-3f083def38ff\n",
    "\n",
    "https://github.com/keras-team/keras/pull/9965\n",
    "\n",
    "https://medium.com/mini-distill/effect-of-batch-size-on-training-dynamics-21c14f7a716e\n",
    "\n",
    "https://stackoverflow.com/questions/51841506/data-standardization-vs-normalization-vs-robust-scaler\n",
    "\n",
    "https://machinelearningmastery.com/how-to-stop-training-deep-neural-networks-at-the-right-time-using-early-stopping/\n",
    "\n",
    "https://www.kdnuggets.com/2019/12/5-techniques-prevent-overfitting-neural-networks.html\n",
    "\n",
    "\n",
    "https://towardsdatascience.com/a-practical-introduction-to-early-stopping-in-machine-learning-550ac88bc8fd\n",
    "\n",
    "\n",
    "https://www.quora.com/What-is-the-importance-of-the-validation-split-variable-in-Keras\n",
    "\n",
    "https://towardsdatascience.com/applied-deep-learning-part-3-autoencoders-1c083af4d798\n",
    "\n",
    "\n",
    "USE callbacks, USE leakyRELU?\n",
    "\n",
    "https://stackoverflow.com/questions/52678215/find-input-that-maximises-output-of-a-neural-network-using-keras-and-tensorflow\n",
    "\n",
    "\n",
    "https://datascience.stackexchange.com/questions/66869/setting-class-weights-for-imbalanced-dataset-how-using-earlystopping IMPORTANT\n",
    "\n",
    "\n",
    "**New links**\n",
    "\n",
    "https://keras.io/guides/functional_api/\n",
    "\n",
    "https://keras.io/api/layers/activations/\n",
    "\n",
    "https://www.dlology.com/blog/one-simple-trick-to-train-keras-model-faster-with-batch-normalization/\n",
    "https://machinelearningmastery.com/greedy-layer-wise-pretraining-tutorial/\n",
    "https://stackoverflow.com/questions/40708169/how-to-initialize-biases-in-a-keras-model\n",
    "https://keras.io/api/layers/normalization_layers/batch_normalization/\n",
    "https://r2rt.com/implementing-batch-normalization-in-tensorflow.html\n",
    "\n",
    "https://stats.stackexchange.com/questions/7757/data-normalization-and-standardization-in-neural-networks\n",
    "\n",
    "http://yann.lecun.com/exdb/publis/pdf/lecun-98b.pdf\n"
   ]
  },
  {
   "cell_type": "code",
   "execution_count": 93,
   "metadata": {},
   "outputs": [],
   "source": [
    "# idea: run the model for different values and parameters and then use regression / calssification to find the best ones\n",
    "\n",
    "# apparently having a small middle layer is good?"
   ]
  },
  {
   "cell_type": "code",
   "execution_count": null,
   "metadata": {},
   "outputs": [],
   "source": [
    "# try the early stopping method that kyriacos suggested and see if it causes overfit or not\n",
    "\n",
    "\n",
    "# experiment with and without validation split to see if it causes any difference!"
   ]
  }
 ],
 "metadata": {
  "kernelspec": {
   "display_name": "Python 3",
   "language": "python",
   "name": "python3"
  },
  "language_info": {
   "codemirror_mode": {
    "name": "ipython",
    "version": 3
   },
   "file_extension": ".py",
   "mimetype": "text/x-python",
   "name": "python",
   "nbconvert_exporter": "python",
   "pygments_lexer": "ipython3",
   "version": "3.7.6"
  }
 },
 "nbformat": 4,
 "nbformat_minor": 4
}
