{
 "cells": [
  {
   "cell_type": "markdown",
   "metadata": {},
   "source": [
    "# EDA\n",
    "\n",
    "In this notebook I will clean, explore and visualise the data"
   ]
  },
  {
   "cell_type": "markdown",
   "metadata": {},
   "source": [
    "# Libraries"
   ]
  },
  {
   "cell_type": "code",
   "execution_count": 2,
   "metadata": {},
   "outputs": [],
   "source": [
    "import pandas as pd\n",
    "import numpy as np\n",
    "from pandas_profiling import ProfileReport\n",
    "import matplotlib.pyplot as plt\n"
   ]
  },
  {
   "cell_type": "code",
   "execution_count": 4,
   "metadata": {},
   "outputs": [
    {
     "data": {
      "text/html": [
       "<div>\n",
       "<style scoped>\n",
       "    .dataframe tbody tr th:only-of-type {\n",
       "        vertical-align: middle;\n",
       "    }\n",
       "\n",
       "    .dataframe tbody tr th {\n",
       "        vertical-align: top;\n",
       "    }\n",
       "\n",
       "    .dataframe thead th {\n",
       "        text-align: right;\n",
       "    }\n",
       "</style>\n",
       "<table border=\"1\" class=\"dataframe\">\n",
       "  <thead>\n",
       "    <tr style=\"text-align: right;\">\n",
       "      <th></th>\n",
       "      <th>Arm length (m)</th>\n",
       "      <th>Ball weight (kg)</th>\n",
       "      <th>Ball radius (mm)</th>\n",
       "      <th>Air temperature (deg C)</th>\n",
       "      <th>Spring constant (N per m)</th>\n",
       "      <th>Device weight (kg)</th>\n",
       "      <th>Target hit</th>\n",
       "    </tr>\n",
       "  </thead>\n",
       "  <tbody>\n",
       "    <tr>\n",
       "      <th>0</th>\n",
       "      <td>0.291903</td>\n",
       "      <td>0.340028</td>\n",
       "      <td>0.013823</td>\n",
       "      <td>18.0</td>\n",
       "      <td>545.348164</td>\n",
       "      <td>4.616101</td>\n",
       "      <td>0.0</td>\n",
       "    </tr>\n",
       "    <tr>\n",
       "      <th>1</th>\n",
       "      <td>0.247545</td>\n",
       "      <td>0.521061</td>\n",
       "      <td>0.390693</td>\n",
       "      <td>26.0</td>\n",
       "      <td>356.041022</td>\n",
       "      <td>5.863920</td>\n",
       "      <td>1.0</td>\n",
       "    </tr>\n",
       "    <tr>\n",
       "      <th>2</th>\n",
       "      <td>0.483827</td>\n",
       "      <td>0.451309</td>\n",
       "      <td>0.170141</td>\n",
       "      <td>11.0</td>\n",
       "      <td>522.387220</td>\n",
       "      <td>5.020725</td>\n",
       "      <td>1.0</td>\n",
       "    </tr>\n",
       "    <tr>\n",
       "      <th>3</th>\n",
       "      <td>0.216393</td>\n",
       "      <td>0.460698</td>\n",
       "      <td>0.101122</td>\n",
       "      <td>20.0</td>\n",
       "      <td>95.025757</td>\n",
       "      <td>4.586624</td>\n",
       "      <td>0.0</td>\n",
       "    </tr>\n",
       "    <tr>\n",
       "      <th>4</th>\n",
       "      <td>0.164084</td>\n",
       "      <td>0.391740</td>\n",
       "      <td>0.155177</td>\n",
       "      <td>11.0</td>\n",
       "      <td>104.242640</td>\n",
       "      <td>3.677411</td>\n",
       "      <td>0.0</td>\n",
       "    </tr>\n",
       "  </tbody>\n",
       "</table>\n",
       "</div>"
      ],
      "text/plain": [
       "   Arm length (m)  Ball weight (kg)  Ball radius (mm)  \\\n",
       "0        0.291903          0.340028          0.013823   \n",
       "1        0.247545          0.521061          0.390693   \n",
       "2        0.483827          0.451309          0.170141   \n",
       "3        0.216393          0.460698          0.101122   \n",
       "4        0.164084          0.391740          0.155177   \n",
       "\n",
       "   Air temperature (deg C)  Spring constant (N per m)  Device weight (kg)  \\\n",
       "0                     18.0                 545.348164            4.616101   \n",
       "1                     26.0                 356.041022            5.863920   \n",
       "2                     11.0                 522.387220            5.020725   \n",
       "3                     20.0                  95.025757            4.586624   \n",
       "4                     11.0                 104.242640            3.677411   \n",
       "\n",
       "   Target hit  \n",
       "0         0.0  \n",
       "1         1.0  \n",
       "2         1.0  \n",
       "3         0.0  \n",
       "4         0.0  "
      ]
     },
     "execution_count": 4,
     "metadata": {},
     "output_type": "execute_result"
    }
   ],
   "source": [
    "df = pd.read_csv('../Data/dataset1.csv')\n",
    "df.head()"
   ]
  },
  {
   "cell_type": "code",
   "execution_count": 6,
   "metadata": {},
   "outputs": [
    {
     "data": {
      "application/vnd.jupyter.widget-view+json": {
       "model_id": "6ada2cfa38cc431bb5894a8bb7eb78ca",
       "version_major": 2,
       "version_minor": 0
      },
      "text/plain": [
       "HBox(children=(HTML(value='Summarize dataset'), FloatProgress(value=0.0, max=21.0), HTML(value='')))"
      ]
     },
     "metadata": {},
     "output_type": "display_data"
    },
    {
     "name": "stdout",
     "output_type": "stream",
     "text": [
      "\n"
     ]
    },
    {
     "data": {
      "application/vnd.jupyter.widget-view+json": {
       "model_id": "3a8e9876c6fb4610a58033186f46a6ab",
       "version_major": 2,
       "version_minor": 0
      },
      "text/plain": [
       "HBox(children=(HTML(value='Generate report structure'), FloatProgress(value=0.0, max=1.0), HTML(value='')))"
      ]
     },
     "metadata": {},
     "output_type": "display_data"
    },
    {
     "name": "stdout",
     "output_type": "stream",
     "text": [
      "\n"
     ]
    },
    {
     "data": {
      "application/vnd.jupyter.widget-view+json": {
       "model_id": "d30f3b57ee4a44b2ae9a8bb74d9a9693",
       "version_major": 2,
       "version_minor": 0
      },
      "text/plain": [
       "HBox(children=(HTML(value='Render HTML'), FloatProgress(value=0.0, max=1.0), HTML(value='')))"
      ]
     },
     "metadata": {},
     "output_type": "display_data"
    },
    {
     "name": "stdout",
     "output_type": "stream",
     "text": [
      "\n"
     ]
    },
    {
     "data": {
      "application/vnd.jupyter.widget-view+json": {
       "model_id": "5062ec33db704e04b73e651a335a6f09",
       "version_major": 2,
       "version_minor": 0
      },
      "text/plain": [
       "HBox(children=(HTML(value='Export report to file'), FloatProgress(value=0.0, max=1.0), HTML(value='')))"
      ]
     },
     "metadata": {},
     "output_type": "display_data"
    },
    {
     "name": "stdout",
     "output_type": "stream",
     "text": [
      "\n"
     ]
    }
   ],
   "source": [
    "profile = ProfileReport(df, title=\"dataset1_report\", explorative = True)\n"
   ]
  },
  {
   "cell_type": "code",
   "execution_count": 7,
   "metadata": {},
   "outputs": [
    {
     "data": {
      "application/vnd.jupyter.widget-view+json": {
       "model_id": "4ff830c6d3a54829af274a311034c4c1",
       "version_major": 2,
       "version_minor": 0
      },
      "text/plain": [
       "HBox(children=(HTML(value='Export report to file'), FloatProgress(value=0.0, max=1.0), HTML(value='')))"
      ]
     },
     "metadata": {},
     "output_type": "display_data"
    },
    {
     "name": "stdout",
     "output_type": "stream",
     "text": [
      "\n"
     ]
    }
   ],
   "source": [
    "profile.to_file(\"../Reports/dataset1_report.html\")"
   ]
  },
  {
   "cell_type": "markdown",
   "metadata": {},
   "source": [
    "## Comments\n",
    "\n",
    "(For reference, please see dataset1_report.html) \n",
    "\n",
    "This should be a fairly easy dataset as there are no missing values. It seems to be well structured.\n",
    "\n",
    "The warnings that are 5 of the attributes have *unique* values. Let's explore this.\n",
    "\n",
    "**Anaysis:**\n",
    "\n",
    "From the correlation matrix, we can see that air temperature and device weight have almost no impact on the target. This might lead us to believe that these are actually redundant features.\n",
    "\n",
    "In fact, they do not seem to have any impact on anything. \n",
    "\n",
    "This might lead us to believe that we should actually remove them completely from the dataset, however, the submission rules do not allow this, as they require the whole matrix to be submitted (see check.py).\n",
    "\n",
    "However, an alternative may be to divide these by values such that they become zero, and thus they may have little to no impact on the neural network (you must test this)."
   ]
  },
  {
   "cell_type": "code",
   "execution_count": 52,
   "metadata": {},
   "outputs": [
    {
     "name": "stdout",
     "output_type": "stream",
     "text": [
      "[[0.00000000e+00 0.00000000e+00 0.00000000e+00 0.00000000e+00\n",
      "  0.00000000e+00 0.00000000e+00]\n",
      " [6.29269432e-01 6.07997617e-01 4.69497951e-01 3.00000000e+01\n",
      "  7.98732555e+02 7.99856434e+00]]\n",
      "Arm length (m)                0.052714\n",
      "Ball weight (kg)              0.010744\n",
      "Ball radius (mm)              0.010085\n",
      "Air temperature (deg C)       7.000000\n",
      "Spring constant (N per m)    50.136625\n",
      "Device weight (kg)            0.502755\n",
      "Target hit                    0.000000\n",
      "dtype: float64 \n",
      " Arm length (m)                 0.576556\n",
      "Ball weight (kg)               0.597254\n",
      "Ball radius (mm)               0.459413\n",
      "Air temperature (deg C)       23.000000\n",
      "Spring constant (N per m)    748.595929\n",
      "Device weight (kg)             7.495809\n",
      "Target hit                     1.000000\n",
      "dtype: float64\n"
     ]
    }
   ],
   "source": [
    "# let's find the scaling values\n",
    "def scale_data(data, mode = \"standard\"):\n",
    "    \"\"\"\n",
    "    scales data and outputs the scaling values (scales using standard scaler)\n",
    "    \"\"\"\n",
    "    n_attr = data.shape[1]\n",
    "    scalers = np.zeros([2,n_attr])\n",
    "    if mode == \"standard\":\n",
    "        scalers[0,:] = data.mean(axis = 0)\n",
    "        scalers[1,:] = data.std(axis = 0)\n",
    "        scaled = (data - scalers[0,:]) / scalers[1,:]\n",
    "    elif mode == \"minmax\":\n",
    "        scalers[0,:] = data.min(axis = 0)\n",
    "        scalers[1,:] = data.max(axis = 0) - scalers[0,:]\n",
    "        scaled = (data - scalers[0,:]) / scalers[1,:]\n",
    "    elif mode == \"maxabs\":\n",
    "        scalers[0,:] = 0\n",
    "        scalers[1 :] = abs(data).max(axis = 0)\n",
    "        scaled = (data) / scalers[1,:]\n",
    "    \n",
    "    return scaled, scalers\n",
    "    \n",
    "\n",
    "df_scaled, scalers = scale_data(df[df.columns[:-1]], mode = \"maxabs\")\n",
    "print(scalers)\n",
    "print(df.min(axis =0), '\\n',df.max(axis = 0)-df.min(axis = 0))"
   ]
  },
  {
   "cell_type": "code",
   "execution_count": 39,
   "metadata": {},
   "outputs": [
    {
     "data": {
      "text/html": [
       "<div>\n",
       "<style scoped>\n",
       "    .dataframe tbody tr th:only-of-type {\n",
       "        vertical-align: middle;\n",
       "    }\n",
       "\n",
       "    .dataframe tbody tr th {\n",
       "        vertical-align: top;\n",
       "    }\n",
       "\n",
       "    .dataframe thead th {\n",
       "        text-align: right;\n",
       "    }\n",
       "</style>\n",
       "<table border=\"1\" class=\"dataframe\">\n",
       "  <thead>\n",
       "    <tr style=\"text-align: right;\">\n",
       "      <th></th>\n",
       "      <th>Arm length (m)</th>\n",
       "      <th>Ball weight (kg)</th>\n",
       "      <th>Ball radius (mm)</th>\n",
       "      <th>Air temperature (deg C)</th>\n",
       "      <th>Spring constant (N per m)</th>\n",
       "      <th>Device weight (kg)</th>\n",
       "    </tr>\n",
       "  </thead>\n",
       "  <tbody>\n",
       "    <tr>\n",
       "      <th>0</th>\n",
       "      <td>0.414858</td>\n",
       "      <td>0.551331</td>\n",
       "      <td>0.008136</td>\n",
       "      <td>0.478261</td>\n",
       "      <td>0.661520</td>\n",
       "      <td>0.548753</td>\n",
       "    </tr>\n",
       "    <tr>\n",
       "      <th>1</th>\n",
       "      <td>0.337923</td>\n",
       "      <td>0.854439</td>\n",
       "      <td>0.828466</td>\n",
       "      <td>0.826087</td>\n",
       "      <td>0.408638</td>\n",
       "      <td>0.715222</td>\n",
       "    </tr>\n",
       "    <tr>\n",
       "      <th>2</th>\n",
       "      <td>0.747738</td>\n",
       "      <td>0.737651</td>\n",
       "      <td>0.348392</td>\n",
       "      <td>0.173913</td>\n",
       "      <td>0.630848</td>\n",
       "      <td>0.602733</td>\n",
       "    </tr>\n",
       "    <tr>\n",
       "      <th>3</th>\n",
       "      <td>0.283891</td>\n",
       "      <td>0.753372</td>\n",
       "      <td>0.198159</td>\n",
       "      <td>0.565217</td>\n",
       "      <td>0.059964</td>\n",
       "      <td>0.544820</td>\n",
       "    </tr>\n",
       "    <tr>\n",
       "      <th>4</th>\n",
       "      <td>0.193165</td>\n",
       "      <td>0.637913</td>\n",
       "      <td>0.315820</td>\n",
       "      <td>0.173913</td>\n",
       "      <td>0.072277</td>\n",
       "      <td>0.423524</td>\n",
       "    </tr>\n",
       "    <tr>\n",
       "      <th>...</th>\n",
       "      <td>...</td>\n",
       "      <td>...</td>\n",
       "      <td>...</td>\n",
       "      <td>...</td>\n",
       "      <td>...</td>\n",
       "      <td>...</td>\n",
       "    </tr>\n",
       "    <tr>\n",
       "      <th>1995</th>\n",
       "      <td>0.150859</td>\n",
       "      <td>0.528405</td>\n",
       "      <td>0.431753</td>\n",
       "      <td>0.652174</td>\n",
       "      <td>0.747561</td>\n",
       "      <td>0.791356</td>\n",
       "    </tr>\n",
       "    <tr>\n",
       "      <th>1996</th>\n",
       "      <td>0.477919</td>\n",
       "      <td>0.396414</td>\n",
       "      <td>0.411752</td>\n",
       "      <td>0.391304</td>\n",
       "      <td>0.099353</td>\n",
       "      <td>0.721234</td>\n",
       "    </tr>\n",
       "    <tr>\n",
       "      <th>1997</th>\n",
       "      <td>0.461584</td>\n",
       "      <td>0.376867</td>\n",
       "      <td>0.439014</td>\n",
       "      <td>0.652174</td>\n",
       "      <td>0.821144</td>\n",
       "      <td>0.480009</td>\n",
       "    </tr>\n",
       "    <tr>\n",
       "      <th>1998</th>\n",
       "      <td>0.237203</td>\n",
       "      <td>0.523862</td>\n",
       "      <td>0.790330</td>\n",
       "      <td>0.130435</td>\n",
       "      <td>0.445898</td>\n",
       "      <td>0.643856</td>\n",
       "    </tr>\n",
       "    <tr>\n",
       "      <th>1999</th>\n",
       "      <td>0.424458</td>\n",
       "      <td>0.323667</td>\n",
       "      <td>0.713716</td>\n",
       "      <td>0.695652</td>\n",
       "      <td>0.668714</td>\n",
       "      <td>0.501686</td>\n",
       "    </tr>\n",
       "  </tbody>\n",
       "</table>\n",
       "<p>2000 rows × 6 columns</p>\n",
       "</div>"
      ],
      "text/plain": [
       "      Arm length (m)  Ball weight (kg)  Ball radius (mm)  \\\n",
       "0           0.414858          0.551331          0.008136   \n",
       "1           0.337923          0.854439          0.828466   \n",
       "2           0.747738          0.737651          0.348392   \n",
       "3           0.283891          0.753372          0.198159   \n",
       "4           0.193165          0.637913          0.315820   \n",
       "...              ...               ...               ...   \n",
       "1995        0.150859          0.528405          0.431753   \n",
       "1996        0.477919          0.396414          0.411752   \n",
       "1997        0.461584          0.376867          0.439014   \n",
       "1998        0.237203          0.523862          0.790330   \n",
       "1999        0.424458          0.323667          0.713716   \n",
       "\n",
       "      Air temperature (deg C)  Spring constant (N per m)  Device weight (kg)  \n",
       "0                    0.478261                   0.661520            0.548753  \n",
       "1                    0.826087                   0.408638            0.715222  \n",
       "2                    0.173913                   0.630848            0.602733  \n",
       "3                    0.565217                   0.059964            0.544820  \n",
       "4                    0.173913                   0.072277            0.423524  \n",
       "...                       ...                        ...                 ...  \n",
       "1995                 0.652174                   0.747561            0.791356  \n",
       "1996                 0.391304                   0.099353            0.721234  \n",
       "1997                 0.652174                   0.821144            0.480009  \n",
       "1998                 0.130435                   0.445898            0.643856  \n",
       "1999                 0.695652                   0.668714            0.501686  \n",
       "\n",
       "[2000 rows x 6 columns]"
      ]
     },
     "execution_count": 39,
     "metadata": {},
     "output_type": "execute_result"
    }
   ],
   "source": [
    "df_scaled"
   ]
  }
 ],
 "metadata": {
  "kernelspec": {
   "display_name": "ML_Imperial",
   "language": "python",
   "name": "ml_imperial"
  },
  "language_info": {
   "codemirror_mode": {
    "name": "ipython",
    "version": 3
   },
   "file_extension": ".py",
   "mimetype": "text/x-python",
   "name": "python",
   "nbconvert_exporter": "python",
   "pygments_lexer": "ipython3",
   "version": "3.7.6"
  }
 },
 "nbformat": 4,
 "nbformat_minor": 4
}
