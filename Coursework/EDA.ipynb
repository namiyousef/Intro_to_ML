{
 "cells": [
  {
   "cell_type": "markdown",
   "metadata": {},
   "source": [
    "# EDA\n",
    "\n",
    "In this notebook I will clean, explore and visualise the data"
   ]
  },
  {
   "cell_type": "markdown",
   "metadata": {},
   "source": [
    "# Libraries"
   ]
  },
  {
   "cell_type": "code",
   "execution_count": 2,
   "metadata": {},
   "outputs": [],
   "source": [
    "import pandas as pd\n",
    "import numpy as np\n",
    "from pandas_profiling import ProfileReport\n",
    "import matplotlib.pyplot as plt\n"
   ]
  },
  {
   "cell_type": "code",
   "execution_count": 3,
   "metadata": {},
   "outputs": [
    {
     "data": {
      "text/html": [
       "<div>\n",
       "<style scoped>\n",
       "    .dataframe tbody tr th:only-of-type {\n",
       "        vertical-align: middle;\n",
       "    }\n",
       "\n",
       "    .dataframe tbody tr th {\n",
       "        vertical-align: top;\n",
       "    }\n",
       "\n",
       "    .dataframe thead th {\n",
       "        text-align: right;\n",
       "    }\n",
       "</style>\n",
       "<table border=\"1\" class=\"dataframe\">\n",
       "  <thead>\n",
       "    <tr style=\"text-align: right;\">\n",
       "      <th></th>\n",
       "      <th>Arm length (m)</th>\n",
       "      <th>Ball weight (kg)</th>\n",
       "      <th>Ball radius (mm)</th>\n",
       "      <th>Air temperature (deg C)</th>\n",
       "      <th>Spring constant (N per m)</th>\n",
       "      <th>Device weight (kg)</th>\n",
       "      <th>Target hit</th>\n",
       "    </tr>\n",
       "  </thead>\n",
       "  <tbody>\n",
       "    <tr>\n",
       "      <th>0</th>\n",
       "      <td>0.291903</td>\n",
       "      <td>0.340028</td>\n",
       "      <td>0.013823</td>\n",
       "      <td>18.0</td>\n",
       "      <td>545.348164</td>\n",
       "      <td>4.616101</td>\n",
       "      <td>0.0</td>\n",
       "    </tr>\n",
       "    <tr>\n",
       "      <th>1</th>\n",
       "      <td>0.247545</td>\n",
       "      <td>0.521061</td>\n",
       "      <td>0.390693</td>\n",
       "      <td>26.0</td>\n",
       "      <td>356.041022</td>\n",
       "      <td>5.863920</td>\n",
       "      <td>1.0</td>\n",
       "    </tr>\n",
       "    <tr>\n",
       "      <th>2</th>\n",
       "      <td>0.483827</td>\n",
       "      <td>0.451309</td>\n",
       "      <td>0.170141</td>\n",
       "      <td>11.0</td>\n",
       "      <td>522.387220</td>\n",
       "      <td>5.020725</td>\n",
       "      <td>1.0</td>\n",
       "    </tr>\n",
       "    <tr>\n",
       "      <th>3</th>\n",
       "      <td>0.216393</td>\n",
       "      <td>0.460698</td>\n",
       "      <td>0.101122</td>\n",
       "      <td>20.0</td>\n",
       "      <td>95.025757</td>\n",
       "      <td>4.586624</td>\n",
       "      <td>0.0</td>\n",
       "    </tr>\n",
       "    <tr>\n",
       "      <th>4</th>\n",
       "      <td>0.164084</td>\n",
       "      <td>0.391740</td>\n",
       "      <td>0.155177</td>\n",
       "      <td>11.0</td>\n",
       "      <td>104.242640</td>\n",
       "      <td>3.677411</td>\n",
       "      <td>0.0</td>\n",
       "    </tr>\n",
       "  </tbody>\n",
       "</table>\n",
       "</div>"
      ],
      "text/plain": [
       "   Arm length (m)  Ball weight (kg)  Ball radius (mm)  \\\n",
       "0        0.291903          0.340028          0.013823   \n",
       "1        0.247545          0.521061          0.390693   \n",
       "2        0.483827          0.451309          0.170141   \n",
       "3        0.216393          0.460698          0.101122   \n",
       "4        0.164084          0.391740          0.155177   \n",
       "\n",
       "   Air temperature (deg C)  Spring constant (N per m)  Device weight (kg)  \\\n",
       "0                     18.0                 545.348164            4.616101   \n",
       "1                     26.0                 356.041022            5.863920   \n",
       "2                     11.0                 522.387220            5.020725   \n",
       "3                     20.0                  95.025757            4.586624   \n",
       "4                     11.0                 104.242640            3.677411   \n",
       "\n",
       "   Target hit  \n",
       "0         0.0  \n",
       "1         1.0  \n",
       "2         1.0  \n",
       "3         0.0  \n",
       "4         0.0  "
      ]
     },
     "execution_count": 3,
     "metadata": {},
     "output_type": "execute_result"
    }
   ],
   "source": [
    "df = pd.read_csv('../Data/dataset1.csv')\n",
    "df.head()"
   ]
  },
  {
   "cell_type": "code",
   "execution_count": 4,
   "metadata": {},
   "outputs": [],
   "source": [
    "#profile = ProfileReport(df, title=\"dataset1_report\", explorative = True)\n"
   ]
  },
  {
   "cell_type": "code",
   "execution_count": 5,
   "metadata": {},
   "outputs": [],
   "source": [
    "#profile.to_file(\"../Reports/dataset1_report.html\")"
   ]
  },
  {
   "cell_type": "markdown",
   "metadata": {},
   "source": [
    "## Comments\n",
    "\n",
    "(For reference, please see dataset1_report.html) \n",
    "\n",
    "This should be a fairly easy dataset as there are no missing values. It seems to be well structured.\n",
    "\n",
    "The warnings that are 5 of the attributes have *unique* values. Let's explore this.\n",
    "\n",
    "**Anaysis:**\n",
    "\n",
    "From the correlation matrix, we can see that air temperature and device weight have almost no impact on the target. This might lead us to believe that these are actually redundant features.\n",
    "\n",
    "In fact, they do not seem to have any impact on anything. \n",
    "\n",
    "This might lead us to believe that we should actually remove them completely from the dataset, however, the submission rules do not allow this, as they require the whole matrix to be submitted (see check.py).\n",
    "\n",
    "However, an alternative may be to divide these by values such that they become zero, and thus they may have little to no impact on the neural network (you must test this)."
   ]
  },
  {
   "cell_type": "code",
   "execution_count": 10,
   "metadata": {},
   "outputs": [
    {
     "name": "stdout",
     "output_type": "stream",
     "text": [
      "[[2.99790586e-01 3.10500234e-01 1.61670426e-01 1.88135000e+01\n",
      "  2.84024574e+02 4.27726820e+00]\n",
      " [9.83924728e-02 9.97600486e-02 8.83980565e-02 4.82435021e+00\n",
      "  1.37933777e+02 2.21237117e+00]]\n",
      "Arm length (m)                0.052714\n",
      "Ball weight (kg)              0.010744\n",
      "Ball radius (mm)              0.010085\n",
      "Air temperature (deg C)       7.000000\n",
      "Spring constant (N per m)    50.136625\n",
      "Device weight (kg)            0.502755\n",
      "Target hit                    0.000000\n",
      "dtype: float64 \n",
      " Arm length (m)                 0.576556\n",
      "Ball weight (kg)               0.597254\n",
      "Ball radius (mm)               0.459413\n",
      "Air temperature (deg C)       23.000000\n",
      "Spring constant (N per m)    748.595929\n",
      "Device weight (kg)             7.495809\n",
      "Target hit                     1.000000\n",
      "dtype: float64\n"
     ]
    }
   ],
   "source": [
    "# let's find the scaling values\n",
    "def scale_data(data, mode = \"standard\"):\n",
    "    \"\"\"\n",
    "    scales data and outputs the scaling values (scales using standard scaler)\n",
    "    \"\"\"\n",
    "    n_attr = data.shape[1]\n",
    "    scalers = np.zeros([2,n_attr])\n",
    "    if mode == \"standard\":\n",
    "        scalers[0,:] = data.mean(axis = 0)\n",
    "        scalers[1,:] = data.std(axis = 0)\n",
    "        scaled = (data - scalers[0,:]) / scalers[1,:]\n",
    "    elif mode == \"minmax\":\n",
    "        scalers[0,:] = data.min(axis = 0)\n",
    "        scalers[1,:] = data.max(axis = 0) - scalers[0,:]\n",
    "        scaled = (data - scalers[0,:]) / scalers[1,:]\n",
    "    elif mode == \"maxabs\":\n",
    "        scalers[0,:] = 0\n",
    "        scalers[1 :] = abs(data).max(axis = 0)\n",
    "        scaled = (data) / scalers[1,:]\n",
    "    \n",
    "    return scaled, scalers\n",
    "    \n",
    "\n",
    "df_scaled, scalers = scale_data(df[df.columns[:-1]], mode = \"standard\")\n",
    "print(scalers)\n",
    "print(df.min(axis =0), '\\n',df.max(axis = 0)-df.min(axis = 0))"
   ]
  },
  {
   "cell_type": "code",
   "execution_count": 11,
   "metadata": {},
   "outputs": [],
   "source": [
    "df_scaled.to_csv('../Data/dataset1_scaled.csv')"
   ]
  },
  {
   "cell_type": "markdown",
   "metadata": {},
   "source": [
    "# Dataset 2"
   ]
  },
  {
   "cell_type": "code",
   "execution_count": 13,
   "metadata": {},
   "outputs": [
    {
     "data": {
      "text/html": [
       "<div>\n",
       "<style scoped>\n",
       "    .dataframe tbody tr th:only-of-type {\n",
       "        vertical-align: middle;\n",
       "    }\n",
       "\n",
       "    .dataframe tbody tr th {\n",
       "        vertical-align: top;\n",
       "    }\n",
       "\n",
       "    .dataframe thead th {\n",
       "        text-align: right;\n",
       "    }\n",
       "</style>\n",
       "<table border=\"1\" class=\"dataframe\">\n",
       "  <thead>\n",
       "    <tr style=\"text-align: right;\">\n",
       "      <th></th>\n",
       "      <th>Arm length (m)</th>\n",
       "      <th>Ball weight (kg)</th>\n",
       "      <th>Ball radius (mm)</th>\n",
       "      <th>Air temperature (deg C)</th>\n",
       "      <th>Spring constant (N per m)</th>\n",
       "      <th>Device weight (kg)</th>\n",
       "      <th>Target hit</th>\n",
       "    </tr>\n",
       "  </thead>\n",
       "  <tbody>\n",
       "    <tr>\n",
       "      <th>0</th>\n",
       "      <td>0.313463</td>\n",
       "      <td>0.317565</td>\n",
       "      <td>30.429217</td>\n",
       "      <td>19.0</td>\n",
       "      <td>571.817843</td>\n",
       "      <td>5.876016</td>\n",
       "      <td>1.0</td>\n",
       "    </tr>\n",
       "    <tr>\n",
       "      <th>1</th>\n",
       "      <td>0.199977</td>\n",
       "      <td>0.387987</td>\n",
       "      <td>36.200062</td>\n",
       "      <td>24.0</td>\n",
       "      <td>430.608228</td>\n",
       "      <td>0.591052</td>\n",
       "      <td>1.0</td>\n",
       "    </tr>\n",
       "    <tr>\n",
       "      <th>2</th>\n",
       "      <td>0.146253</td>\n",
       "      <td>0.428552</td>\n",
       "      <td>59.157785</td>\n",
       "      <td>26.0</td>\n",
       "      <td>1733.406230</td>\n",
       "      <td>4.975027</td>\n",
       "      <td>1.0</td>\n",
       "    </tr>\n",
       "    <tr>\n",
       "      <th>3</th>\n",
       "      <td>0.143222</td>\n",
       "      <td>0.417935</td>\n",
       "      <td>48.553410</td>\n",
       "      <td>16.0</td>\n",
       "      <td>490.551664</td>\n",
       "      <td>7.031690</td>\n",
       "      <td>1.0</td>\n",
       "    </tr>\n",
       "    <tr>\n",
       "      <th>4</th>\n",
       "      <td>0.089183</td>\n",
       "      <td>0.463229</td>\n",
       "      <td>70.498961</td>\n",
       "      <td>19.0</td>\n",
       "      <td>1387.375798</td>\n",
       "      <td>5.738063</td>\n",
       "      <td>1.0</td>\n",
       "    </tr>\n",
       "  </tbody>\n",
       "</table>\n",
       "</div>"
      ],
      "text/plain": [
       "   Arm length (m)  Ball weight (kg)  Ball radius (mm)  \\\n",
       "0        0.313463          0.317565         30.429217   \n",
       "1        0.199977          0.387987         36.200062   \n",
       "2        0.146253          0.428552         59.157785   \n",
       "3        0.143222          0.417935         48.553410   \n",
       "4        0.089183          0.463229         70.498961   \n",
       "\n",
       "   Air temperature (deg C)  Spring constant (N per m)  Device weight (kg)  \\\n",
       "0                     19.0                 571.817843            5.876016   \n",
       "1                     24.0                 430.608228            0.591052   \n",
       "2                     26.0                1733.406230            4.975027   \n",
       "3                     16.0                 490.551664            7.031690   \n",
       "4                     19.0                1387.375798            5.738063   \n",
       "\n",
       "   Target hit  \n",
       "0         1.0  \n",
       "1         1.0  \n",
       "2         1.0  \n",
       "3         1.0  \n",
       "4         1.0  "
      ]
     },
     "execution_count": 13,
     "metadata": {},
     "output_type": "execute_result"
    }
   ],
   "source": [
    "df = pd.read_csv('../Data/dataset2.csv')\n",
    "df.head()"
   ]
  },
  {
   "cell_type": "code",
   "execution_count": 17,
   "metadata": {},
   "outputs": [],
   "source": [
    "profile = ProfileReport(df, title=\"dataset2_report\", explorative = True)\n",
    "\n"
   ]
  },
  {
   "cell_type": "code",
   "execution_count": 19,
   "metadata": {},
   "outputs": [
    {
     "data": {
      "application/vnd.jupyter.widget-view+json": {
       "model_id": "5e34bffd77cc43c7897a86c328849bad",
       "version_major": 2,
       "version_minor": 0
      },
      "text/plain": [
       "HBox(children=(HTML(value='Summarize dataset'), FloatProgress(value=0.0, max=21.0), HTML(value='')))"
      ]
     },
     "metadata": {},
     "output_type": "display_data"
    },
    {
     "name": "stdout",
     "output_type": "stream",
     "text": [
      "\n"
     ]
    },
    {
     "data": {
      "application/vnd.jupyter.widget-view+json": {
       "model_id": "e7519ae6fc734df0860b8daae2e21994",
       "version_major": 2,
       "version_minor": 0
      },
      "text/plain": [
       "HBox(children=(HTML(value='Generate report structure'), FloatProgress(value=0.0, max=1.0), HTML(value='')))"
      ]
     },
     "metadata": {},
     "output_type": "display_data"
    },
    {
     "name": "stdout",
     "output_type": "stream",
     "text": [
      "\n"
     ]
    },
    {
     "data": {
      "application/vnd.jupyter.widget-view+json": {
       "model_id": "ad7815a86785425b8d48b20b1aefa250",
       "version_major": 2,
       "version_minor": 0
      },
      "text/plain": [
       "HBox(children=(HTML(value='Render HTML'), FloatProgress(value=0.0, max=1.0), HTML(value='')))"
      ]
     },
     "metadata": {},
     "output_type": "display_data"
    },
    {
     "name": "stdout",
     "output_type": "stream",
     "text": [
      "\n"
     ]
    },
    {
     "data": {
      "application/vnd.jupyter.widget-view+json": {
       "model_id": "2fb11560c1f64507ba0531e396243feb",
       "version_major": 2,
       "version_minor": 0
      },
      "text/plain": [
       "HBox(children=(HTML(value='Export report to file'), FloatProgress(value=0.0, max=1.0), HTML(value='')))"
      ]
     },
     "metadata": {},
     "output_type": "display_data"
    },
    {
     "name": "stdout",
     "output_type": "stream",
     "text": [
      "\n"
     ]
    }
   ],
   "source": [
    "profile.to_file(\"../Reports/dataset2_report.html\")"
   ]
  },
  {
   "cell_type": "markdown",
   "metadata": {},
   "source": [
    "## Comments\n",
    "\n",
    "(For reference, please see dataset2_report.html) \n",
    "\n",
    "Compared with dataset1, the only differences are that the parameters \"ball radius\" and \"spring constant\" are much more skewed (right skew).\n",
    "\n",
    "This dataset has an exact 50-50 split with the dataset.\n",
    "\n",
    "**Anaysis:**\n",
    "\n",
    "There are also more interactions in this dataset. Spring constant has a very strong negative correlation with arm length.\n",
    "\n",
    "Ball radius has a very strong positive correlation with ball weight. \n",
    "\n",
    "These may affect the modelling stage, so might be worth zeroing them (need to verify that this won't have any effect!)\n",
    "\n",
    "In general, another main difference is that none of the attributes very strongly correlate with the target hit. This should make the training process rather interesting.\n"
   ]
  },
  {
   "cell_type": "code",
   "execution_count": null,
   "metadata": {},
   "outputs": [],
   "source": []
  }
 ],
 "metadata": {
  "kernelspec": {
   "display_name": "ML_Imperial",
   "language": "python",
   "name": "ml_imperial"
  },
  "language_info": {
   "codemirror_mode": {
    "name": "ipython",
    "version": 3
   },
   "file_extension": ".py",
   "mimetype": "text/x-python",
   "name": "python",
   "nbconvert_exporter": "python",
   "pygments_lexer": "ipython3",
   "version": "3.7.6"
  }
 },
 "nbformat": 4,
 "nbformat_minor": 4
}
