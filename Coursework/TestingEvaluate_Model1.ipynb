{
 "cells": [
  {
   "cell_type": "markdown",
   "metadata": {},
   "source": [
    "# TestingEvaluate_Model1"
   ]
  },
  {
   "cell_type": "markdown",
   "metadata": {},
   "source": [
    "# Libraries"
   ]
  },
  {
   "cell_type": "code",
   "execution_count": 1,
   "metadata": {},
   "outputs": [],
   "source": [
    "# directory set up \n",
    "import os,sys,inspect\n",
    "current_dir = os.path.dirname(os.path.abspath(inspect.getfile(inspect.currentframe())))\n",
    "parent_dir = os.path.dirname(current_dir)\n",
    "sys.path.insert(0, parent_dir) \n",
    "\n",
    "# data attainment\n",
    "import pandas as pd\n",
    "\n",
    "# mathematical\n",
    "import tensorflow as tf\n",
    "import numpy as np\n",
    "\n",
    "# preprocessing\n",
    "from sklearn.model_selection import train_test_split\n",
    "from tensorflow.keras.utils import to_categorical\n",
    "from Extra_Work.PythonFiles.preprocessing import scale_data\n",
    "\n",
    "# modelling\n",
    "from tensorflow.keras import Input, Model\n",
    "from tensorflow.keras.layers import LayerNormalization, BatchNormalization, Dense, Dropout\n",
    "\n",
    "# evaluation\n",
    "from Extra_Work.PythonFiles.modelling import evaluate_models\n",
    "from Extra_Work.PythonFiles.modelling import FeedForward\n",
    "\n",
    "# plotting\n",
    "import matplotlib.pyplot as plt\n",
    "\n",
    "# setting global seeds\n",
    "tf.random.set_seed(1)\n",
    "np.random.seed(1)"
   ]
  },
  {
   "cell_type": "markdown",
   "metadata": {},
   "source": [
    "# Data"
   ]
  },
  {
   "cell_type": "code",
   "execution_count": 2,
   "metadata": {},
   "outputs": [],
   "source": [
    "# load data\n",
    "\n",
    "df = pd.read_csv('../Data/dataset1.csv')\n",
    "\n",
    "X, scalers = scale_data(df[df.columns[:-1]], mode = 'robust')\n",
    "#X['Spring constant (N per m)'] = 0\n",
    "#X['Ball radius (mm)'] = 0\n",
    "\n",
    "y = df[df.columns[-1]]\n",
    "\n",
    "y_binary = to_categorical(y)\n",
    "\n",
    "data = train_test_split(\n",
    "    X,y_binary, test_size = 0.8, random_state = 23\n",
    ")\n",
    "\n"
   ]
  },
  {
   "cell_type": "code",
   "execution_count": 3,
   "metadata": {},
   "outputs": [
    {
     "data": {
      "text/html": [
       "<div>\n",
       "<style scoped>\n",
       "    .dataframe tbody tr th:only-of-type {\n",
       "        vertical-align: middle;\n",
       "    }\n",
       "\n",
       "    .dataframe tbody tr th {\n",
       "        vertical-align: top;\n",
       "    }\n",
       "\n",
       "    .dataframe thead th {\n",
       "        text-align: right;\n",
       "    }\n",
       "</style>\n",
       "<table border=\"1\" class=\"dataframe\">\n",
       "  <thead>\n",
       "    <tr style=\"text-align: right;\">\n",
       "      <th></th>\n",
       "      <th>Arm length (m)</th>\n",
       "      <th>Ball weight (kg)</th>\n",
       "      <th>Ball radius (mm)</th>\n",
       "      <th>Air temperature (deg C)</th>\n",
       "      <th>Spring constant (N per m)</th>\n",
       "      <th>Device weight (kg)</th>\n",
       "    </tr>\n",
       "  </thead>\n",
       "  <tbody>\n",
       "    <tr>\n",
       "      <th>0</th>\n",
       "      <td>-0.043861</td>\n",
       "      <td>0.229213</td>\n",
       "      <td>-1.108981</td>\n",
       "      <td>-0.142857</td>\n",
       "      <td>1.381838</td>\n",
       "      <td>0.092010</td>\n",
       "    </tr>\n",
       "    <tr>\n",
       "      <th>1</th>\n",
       "      <td>-0.384055</td>\n",
       "      <td>1.556123</td>\n",
       "      <td>1.830060</td>\n",
       "      <td>1.000000</td>\n",
       "      <td>0.418311</td>\n",
       "      <td>0.413477</td>\n",
       "    </tr>\n",
       "    <tr>\n",
       "      <th>2</th>\n",
       "      <td>1.428080</td>\n",
       "      <td>1.044860</td>\n",
       "      <td>0.110074</td>\n",
       "      <td>-1.142857</td>\n",
       "      <td>1.264973</td>\n",
       "      <td>0.196250</td>\n",
       "    </tr>\n",
       "    <tr>\n",
       "      <th>3</th>\n",
       "      <td>-0.622975</td>\n",
       "      <td>1.113682</td>\n",
       "      <td>-0.428175</td>\n",
       "      <td>0.142857</td>\n",
       "      <td>-0.910192</td>\n",
       "      <td>0.084416</td>\n",
       "    </tr>\n",
       "    <tr>\n",
       "      <th>4</th>\n",
       "      <td>-1.024151</td>\n",
       "      <td>0.608240</td>\n",
       "      <td>-0.006623</td>\n",
       "      <td>-1.142857</td>\n",
       "      <td>-0.863281</td>\n",
       "      <td>-0.149819</td>\n",
       "    </tr>\n",
       "  </tbody>\n",
       "</table>\n",
       "</div>"
      ],
      "text/plain": [
       "   Arm length (m)  Ball weight (kg)  Ball radius (mm)  \\\n",
       "0       -0.043861          0.229213         -1.108981   \n",
       "1       -0.384055          1.556123          1.830060   \n",
       "2        1.428080          1.044860          0.110074   \n",
       "3       -0.622975          1.113682         -0.428175   \n",
       "4       -1.024151          0.608240         -0.006623   \n",
       "\n",
       "   Air temperature (deg C)  Spring constant (N per m)  Device weight (kg)  \n",
       "0                -0.142857                   1.381838            0.092010  \n",
       "1                 1.000000                   0.418311            0.413477  \n",
       "2                -1.142857                   1.264973            0.196250  \n",
       "3                 0.142857                  -0.910192            0.084416  \n",
       "4                -1.142857                  -0.863281           -0.149819  "
      ]
     },
     "execution_count": 3,
     "metadata": {},
     "output_type": "execute_result"
    }
   ],
   "source": [
    "X.head(5)"
   ]
  },
  {
   "cell_type": "code",
   "execution_count": 4,
   "metadata": {},
   "outputs": [
    {
     "data": {
      "text/plain": [
       "array([[1., 0.],\n",
       "       [0., 1.],\n",
       "       [0., 1.],\n",
       "       ...,\n",
       "       [0., 1.],\n",
       "       [0., 1.],\n",
       "       [0., 1.]], dtype=float32)"
      ]
     },
     "execution_count": 4,
     "metadata": {},
     "output_type": "execute_result"
    }
   ],
   "source": [
    "y_binary"
   ]
  },
  {
   "cell_type": "markdown",
   "metadata": {},
   "source": [
    "# Data Exploration"
   ]
  },
  {
   "cell_type": "markdown",
   "metadata": {},
   "source": [
    "# Model Cell"
   ]
  },
  {
   "cell_type": "code",
   "execution_count": 28,
   "metadata": {},
   "outputs": [],
   "source": [
    "from tensorflow.keras.initializers import RandomUniform\n",
    "from tensorflow.keras.activations import elu, relu \n",
    "from tensorflow.keras.layers import Activation\n",
    "# add automation to this\n",
    "def uncompiled_model():\n",
    "    inputs = Input(shape=(6,), name='Data')\n",
    "    \n",
    "    x = Dense(4, activation = 'relu')(inputs)\n",
    "    x = BatchNormalization()(x)\n",
    "\n",
    "\n",
    "    x = Dense(4, activation = 'relu')(x)\n",
    "\n",
    "\n",
    "    #x = Dropout(0.2)(x)\n",
    "\n",
    "    # try adding weight constraints to model\n",
    "    #x = Dense(8, activation='relu')(x)\n",
    "    #x = BatchNormalization()(x)\n",
    "\n",
    "\n",
    "    #x = Dense(16, activation='relu')(x)\n",
    "\n",
    "\n",
    "\n",
    "    # and make sure that epochs = 250\n",
    "    # update, best is 16,8,16 with batch = 50, epochs = 250\n",
    "    # also 32,16,32\n",
    "\n",
    "\n",
    "    outputs = Dense(2, activation='softmax', name='TargetHit')(x)\n",
    "\n",
    "\n",
    "    # chris model\n",
    "    #x = Dense(3, activation='linear')(inputs)\n",
    "    #outputs = Dense(2, activation = 'sigmoid')(x)\n",
    "    \n",
    "    \n",
    "    model = Model(inputs=inputs, outputs=outputs)\n",
    "    return model\n",
    "\n",
    "\n",
    "def compile_model():\n",
    "    model = uncompiled_model()\n",
    "    model.compile(\n",
    "        optimizer=\"adam\", # next step, add custom optimizers and modify learning \n",
    "        # rates. Adam yelds the best values\n",
    "        loss=\"mae\", # binary_crossentropy\n",
    "        metrics=[\"accuracy\",\n",
    "                 \"binary_accuracy\",\n",
    "                 \"binary_crossentropy\",\n",
    "                 \"categorical_accuracy\"\n",
    "                 ],\n",
    "    )\n",
    "    return model\n",
    "\n",
    "def compiler(model):\n",
    "    model.compile(\n",
    "    optimizer=\"adam\",\n",
    "    loss=\"binary_crossentropy\",\n",
    "    metrics=[\"accuracy\",\n",
    "             \"binary_accuracy\",\n",
    "             \"binary_crossentropy\",\n",
    "             \"categorical_accuracy\"\n",
    "             ],\n",
    "    )\n",
    "    return model\n",
    "    "
   ]
  },
  {
   "cell_type": "markdown",
   "metadata": {},
   "source": [
    "# Test Model"
   ]
  },
  {
   "cell_type": "code",
   "execution_count": 29,
   "metadata": {},
   "outputs": [],
   "source": [
    "from tensorflow.keras.callbacks import EarlyStopping\n",
    "early_stopping = EarlyStopping(patience = 10)\n",
    "\n",
    "from sklearn.model_selection import KFold\n",
    "from time import time\n",
    "def cross_validate(K = 5, **kwargs):\n",
    "    scores = []\n",
    "    histories = []\n",
    "    X = np.concatenate((data[0], data[1]), axis = 0)\n",
    "    y = np.concatenate((data[2], data[3]), axis = 0)\n",
    "    for train, test in KFold(n_splits=K, shuffle=True).split(X,y):\n",
    "        model = compile_model()\n",
    "        start = time()\n",
    "        histories.append(model.fit(X[train], y[train], **kwargs).history)\n",
    "        print(time() - start)\n",
    "        scores.append(model.evaluate(X[test], y[test], verbose = 0))\n",
    "    print(\"average loss: \", np.asarray(scores)[:,0].mean())\n",
    "    print(\"average accuracy: \", np.asarray(scores)[:,1].mean()) # make sure that accuracy is the first metric in compile\n",
    "    print(model.summary())\n",
    "    return scores, histories\n",
    "\n",
    "def plot_histories(histories, metrics = ['loss', 'accuracy']):\n",
    "    fig, axes = plt.subplots(nrows = len(metrics) % 2 + 1, ncols = 2)\n",
    "    axes = axes.reshape(len(metrics) % 2 + 1, 2)\n",
    "    for i,metric in enumerate(metrics):\n",
    "        for history in histories:\n",
    "            axes[(i+2)//2 - 1, 1 - (i+1)%2].plot(history[metric])\n",
    "        plt.legend([i for i in range(len(histories))])\n",
    "        \n"
   ]
  },
  {
   "cell_type": "code",
   "execution_count": 30,
   "metadata": {},
   "outputs": [
    {
     "name": "stdout",
     "output_type": "stream",
     "text": [
      "5.448459148406982\n",
      "5.424365997314453\n",
      "5.5036821365356445\n",
      "5.332648038864136\n",
      "5.826549053192139\n",
      "average loss:  0.09184735864400864\n",
      "average accuracy:  0.9125\n",
      "Model: \"functional_59\"\n",
      "_________________________________________________________________\n",
      "Layer (type)                 Output Shape              Param #   \n",
      "=================================================================\n",
      "Data (InputLayer)            [(None, 6)]               0         \n",
      "_________________________________________________________________\n",
      "dense_52 (Dense)             (None, 4)                 28        \n",
      "_________________________________________________________________\n",
      "batch_normalization_22 (Batc (None, 4)                 16        \n",
      "_________________________________________________________________\n",
      "dense_53 (Dense)             (None, 4)                 20        \n",
      "_________________________________________________________________\n",
      "TargetHit (Dense)            (None, 2)                 10        \n",
      "=================================================================\n",
      "Total params: 74\n",
      "Trainable params: 66\n",
      "Non-trainable params: 8\n",
      "_________________________________________________________________\n",
      "None\n",
      "[[0.0697672963142395, 0.9350000023841858, 0.9350000023841858, 0.37088003754615784, 0.9350000023841858], [0.0955563485622406, 0.9075000286102295, 0.9075000286102295, 0.5004846453666687, 0.9075000286102295], [0.08104024082422256, 0.9225000143051147, 0.9225000143051147, 0.3647454082965851, 0.9225000143051147], [0.11004117131233215, 0.8949999809265137, 0.8949999809265137, 0.7306886315345764, 0.8949999809265137], [0.10283173620700836, 0.9024999737739563, 0.9024999737739563, 0.5838839411735535, 0.9024999737739563]]\n"
     ]
    }
   ],
   "source": [
    "scores, histories = cross_validate(K = 5, \n",
    "                                   epochs = 100,\n",
    "                                   verbose = 0,\n",
    "                                   batch_size = 32,\n",
    "                                   shuffle = True) \n",
    "#validation_split = 0.1, callbacks = [early_stopping]) #)\n",
    "print(scores)"
   ]
  },
  {
   "cell_type": "code",
   "execution_count": 31,
   "metadata": {},
   "outputs": [
    {
     "data": {
      "image/png": "[encoded data removed]",
      "text/plain": [
       "<Figure size 432x288 with 2 Axes>"
      ]
     },
     "metadata": {
      "needs_background": "light"
     },
     "output_type": "display_data"
    }
   ],
   "source": [
    "plot_histories(histories)"
   ]
  },
  {
   "cell_type": "markdown",
   "metadata": {},
   "source": [
    "# Adi's method"
   ]
  },
  {
   "cell_type": "code",
   "execution_count": 26,
   "metadata": {},
   "outputs": [
    {
     "name": "stdout",
     "output_type": "stream",
     "text": [
      "Model: \"functional_49\"\n",
      "_________________________________________________________________\n",
      "Layer (type)                 Output Shape              Param #   \n",
      "=================================================================\n",
      "Data (InputLayer)            [(None, 6)]               0         \n",
      "_________________________________________________________________\n",
      "dense_42 (Dense)             (None, 4)                 28        \n",
      "_________________________________________________________________\n",
      "batch_normalization_17 (Batc (None, 4)                 16        \n",
      "_________________________________________________________________\n",
      "dense_43 (Dense)             (None, 4)                 20        \n",
      "_________________________________________________________________\n",
      "TargetHit (Dense)            (None, 2)                 10        \n",
      "=================================================================\n",
      "Total params: 74\n",
      "Trainable params: 66\n",
      "Non-trainable params: 8\n",
      "_________________________________________________________________\n"
     ]
    }
   ],
   "source": [
    "# testing with validation split\n",
    "model = compile_model()\n",
    "start = time()\n",
    "history = model.fit(X,y_binary,\n",
    "                    shuffle = True, validation_split = 0.2,\n",
    "                    epochs = 100, verbose = 0, batch_size = 32)\n",
    "model.summary()"
   ]
  },
  {
   "cell_type": "code",
   "execution_count": 27,
   "metadata": {},
   "outputs": [
    {
     "name": "stdout",
     "output_type": "stream",
     "text": [
      "63/63 [==============================] - 0s 2ms/step - loss: 0.0839 - accuracy: 0.9195 - binary_accuracy: 0.9193 - binary_crossentropy: 0.4227 - categorical_accuracy: 0.9195\n"
     ]
    },
    {
     "data": {
      "text/plain": [
       "[0.08389686048030853,\n",
       " 0.9194999933242798,\n",
       " 0.9192500114440918,\n",
       " 0.42274174094200134,\n",
       " 0.9194999933242798]"
      ]
     },
     "execution_count": 27,
     "metadata": {},
     "output_type": "execute_result"
    },
    {
     "data": {
      "image/png": "[encoded data removed]",
      "text/plain": [
       "<Figure size 432x288 with 1 Axes>"
      ]
     },
     "metadata": {
      "needs_background": "light"
     },
     "output_type": "display_data"
    }
   ],
   "source": [
    "plt.plot(history.history['val_accuracy'])\n",
    "plt.plot(history.history['accuracy'])\n",
    "model.evaluate(X,y_binary)"
   ]
  },
  {
   "cell_type": "code",
   "execution_count": 12,
   "metadata": {
    "scrolled": true
   },
   "outputs": [
    {
     "name": "stdout",
     "output_type": "stream",
     "text": [
      "25/25 [==============================] - 0s 2ms/step - loss: 0.4137 - accuracy: 0.8138 - binary_accuracy: 0.8150 - binary_crossentropy: 0.4137 - categorical_accuracy: 0.8138\n",
      "100/100 [==============================] - 0s 1ms/step - loss: 0.4429 - accuracy: 0.8059 - binary_accuracy: 0.8067 - binary_crossentropy: 0.4429 - categorical_accuracy: 0.8059\n"
     ]
    }
   ],
   "source": [
    "instance.evaluate(epochs = 100, verbose = 0)\n"
   ]
  },
  {
   "cell_type": "code",
   "execution_count": 13,
   "metadata": {},
   "outputs": [
    {
     "name": "stdout",
     "output_type": "stream",
     "text": [
      "[[0.442889928817749, 0.8059375286102295, 0.8067187666893005, 0.442889928817749, 3.5885000228881836, 482]]\n"
     ]
    }
   ],
   "source": [
    "feedforward.print_params(-3)"
   ]
  },
  {
   "cell_type": "code",
   "execution_count": 14,
   "metadata": {},
   "outputs": [],
   "source": [
    "#feedforward.plot_model()"
   ]
  },
  {
   "cell_type": "code",
   "execution_count": 15,
   "metadata": {},
   "outputs": [],
   "source": [
    "#model = feedforward.get_model()\n",
    "#yhat = model.predict(X_test)\n",
    "#yhat = yhat[:,1]\n",
    "#yhat[yhat > 0.5] = 1\n",
    "#yhat[yhat <=0.5] = 0"
   ]
  },
  {
   "cell_type": "code",
   "execution_count": 16,
   "metadata": {},
   "outputs": [],
   "source": [
    "#(yhat == y_test[:,1]).sum()/len(yhat)"
   ]
  },
  {
   "cell_type": "code",
   "execution_count": 17,
   "metadata": {},
   "outputs": [
    {
     "data": {
      "image/png": "[encoded data removed]",
      "text/plain": [
       "<Figure size 576x576 with 1 Axes>"
      ]
     },
     "metadata": {
      "needs_background": "light"
     },
     "output_type": "display_data"
    }
   ],
   "source": [
    "import matplotlib.pyplot as plt\n",
    "\n",
    "fig, ax = plt.subplots(figsize = (8,8))\n",
    "plt.show()"
   ]
  },
  {
   "cell_type": "code",
   "execution_count": 18,
   "metadata": {},
   "outputs": [
    {
     "name": "stdout",
     "output_type": "stream",
     "text": [
      "2\n",
      "{'figsize': (8, 8)}\n"
     ]
    },
    {
     "data": {
      "image/png": "[encoded data removed]",
      "text/plain": [
       "<Figure size 576x576 with 1 Axes>"
      ]
     },
     "metadata": {
      "needs_background": "light"
     },
     "output_type": "display_data"
    }
   ],
   "source": [
    "def function(*args, K = 5,**kwargs):\n",
    "    print(args) if not args else print(args[0])\n",
    "    print(kwargs)\n",
    "    fig, ax = plt.subplots(**kwargs)\n",
    "    plt.show()\n",
    "    \n",
    "function(2,figsize = (8,8))"
   ]
  },
  {
   "cell_type": "markdown",
   "metadata": {},
   "source": [
    "https://dbader.org/blog/meaning-of-underscores-in-python\n",
    "\n",
    "https://keras.io/api/layers/initializers/\n",
    "\n",
    "https://stats.stackexchange.com/questions/330559/why-is-tanh-almost-always-better-than-sigmoid-as-an-activation-function\n",
    "\n",
    "https://keras.io/api/losses/probabilistic_losses/#sparsecategoricalcrossentropy-class\n",
    "\n",
    "https://ruder.io/optimizing-gradient-descent/\n",
    "\n",
    "https://ml-cheatsheet.readthedocs.io/en/latest/activation_functions.html\n",
    "\n",
    "https://towardsai.net/p/data-science/how-when-and-why-should-you-normalize-standardize-rescale-your-data-3f083def38ff\n",
    "\n",
    "https://github.com/keras-team/keras/pull/9965\n",
    "\n",
    "https://medium.com/mini-distill/effect-of-batch-size-on-training-dynamics-21c14f7a716e\n",
    "\n",
    "https://stackoverflow.com/questions/51841506/data-standardization-vs-normalization-vs-robust-scaler\n",
    "\n",
    "https://machinelearningmastery.com/how-to-stop-training-deep-neural-networks-at-the-right-time-using-early-stopping/\n",
    "\n",
    "https://www.kdnuggets.com/2019/12/5-techniques-prevent-overfitting-neural-networks.html\n",
    "\n",
    "\n",
    "https://towardsdatascience.com/a-practical-introduction-to-early-stopping-in-machine-learning-550ac88bc8fd\n",
    "\n",
    "\n",
    "https://www.quora.com/What-is-the-importance-of-the-validation-split-variable-in-Keras\n",
    "\n"
   ]
  },
  {
   "cell_type": "code",
   "execution_count": 93,
   "metadata": {},
   "outputs": [],
   "source": [
    "# idea: run the model for different values and parameters and then use regression / calssification to find the best ones\n",
    "\n",
    "# apparently having a small middle layer is good?"
   ]
  },
  {
   "cell_type": "code",
   "execution_count": null,
   "metadata": {},
   "outputs": [],
   "source": []
  },
  {
   "cell_type": "code",
   "execution_count": 5,
   "metadata": {},
   "outputs": [],
   "source": [
    "feedforward = FeedForward()\n"
   ]
  },
  {
   "cell_type": "code",
   "execution_count": 6,
   "metadata": {},
   "outputs": [
    {
     "name": "stdout",
     "output_type": "stream",
     "text": [
      "25/25 [==============================] - 0s 1ms/step - loss: 0.4995 - accuracy: 0.7425 - binary_accuracy: 0.7456 - binary_crossentropy: 0.4995 - categorical_accuracy: 0.7425\n",
      "25/25 [==============================] - 0s 2ms/step - loss: 0.4577 - accuracy: 0.8012 - binary_accuracy: 0.8000 - binary_crossentropy: 0.4577 - categorical_accuracy: 0.8012\n",
      "25/25 [==============================] - 0s 888us/step - loss: 0.4400 - accuracy: 0.8050 - binary_accuracy: 0.8062 - binary_crossentropy: 0.4400 - categorical_accuracy: 0.8050\n",
      "25/25 [==============================] - 0s 1ms/step - loss: 0.4378 - accuracy: 0.8263 - binary_accuracy: 0.8263 - binary_crossentropy: 0.4378 - categorical_accuracy: 0.8263\n",
      "25/25 [==============================] - 0s 1ms/step - loss: 0.4103 - accuracy: 0.8325 - binary_accuracy: 0.8319 - binary_crossentropy: 0.4103 - categorical_accuracy: 0.8325\n",
      "average loss:  0.44904146790504457\n",
      "average accuracy:  0.8014999985694885\n"
     ]
    }
   ],
   "source": [
    "model = compile_model()\n",
    "instance = evaluate_models(\n",
    "    uncompiled_model(), compiler, *data\n",
    ")\n",
    "\n",
    "scores, histories = instance.cross_validate(epochs = 100, verbose = 0)\n"
   ]
  },
  {
   "cell_type": "code",
   "execution_count": 7,
   "metadata": {},
   "outputs": [
    {
     "name": "stdout",
     "output_type": "stream",
     "text": [
      "[0.74250001 0.80124998 0.80500001 0.82625002 0.83249998]\n"
     ]
    },
    {
     "data": {
      "image/png": "[encoded data removed]",
      "text/plain": [
       "<Figure size 432x288 with 2 Axes>"
      ]
     },
     "metadata": {
      "needs_background": "light"
     },
     "output_type": "display_data"
    }
   ],
   "source": [
    "instance.plot_histories(histories)\n",
    "print(np.asarray(scores)[:,1])"
   ]
  }
 ],
 "metadata": {
  "kernelspec": {
   "display_name": "Python 3",
   "language": "python",
   "name": "python3"
  },
  "language_info": {
   "codemirror_mode": {
    "name": "ipython",
    "version": 3
   },
   "file_extension": ".py",
   "mimetype": "text/x-python",
   "name": "python",
   "nbconvert_exporter": "python",
   "pygments_lexer": "ipython3",
   "version": "3.7.6"
  }
 },
 "nbformat": 4,
 "nbformat_minor": 4
}
