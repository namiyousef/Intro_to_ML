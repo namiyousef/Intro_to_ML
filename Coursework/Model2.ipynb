{
 "cells": [
  {
   "cell_type": "markdown",
   "metadata": {},
   "source": [
    "# Model 2"
   ]
  },
  {
   "cell_type": "code",
   "execution_count": 1,
   "metadata": {},
   "outputs": [],
   "source": [
    "import pandas as pd\n",
    "from sklearn.model_selection import train_test_split\n",
    "\n",
    "import os,sys,inspect\n",
    "current_dir = os.path.dirname(os.path.abspath(inspect.getfile(inspect.currentframe())))\n",
    "parent_dir = os.path.dirname(current_dir)\n",
    "sys.path.insert(0, parent_dir) \n",
    "\n",
    "from Extra_Work.PythonFiles.preprocessing import scale_data\n",
    "from Extra_Work.PythonFiles.modelling import compile_model\n",
    "\n",
    "from tensorflow.keras.utils import to_categorical"
   ]
  },
  {
   "cell_type": "code",
   "execution_count": 2,
   "metadata": {},
   "outputs": [
    {
     "data": {
      "text/html": [
       "<div>\n",
       "<style scoped>\n",
       "    .dataframe tbody tr th:only-of-type {\n",
       "        vertical-align: middle;\n",
       "    }\n",
       "\n",
       "    .dataframe tbody tr th {\n",
       "        vertical-align: top;\n",
       "    }\n",
       "\n",
       "    .dataframe thead th {\n",
       "        text-align: right;\n",
       "    }\n",
       "</style>\n",
       "<table border=\"1\" class=\"dataframe\">\n",
       "  <thead>\n",
       "    <tr style=\"text-align: right;\">\n",
       "      <th></th>\n",
       "      <th>Arm length (m)</th>\n",
       "      <th>Ball weight (kg)</th>\n",
       "      <th>Ball radius (mm)</th>\n",
       "      <th>Air temperature (deg C)</th>\n",
       "      <th>Spring constant (N per m)</th>\n",
       "      <th>Device weight (kg)</th>\n",
       "      <th>Target hit</th>\n",
       "    </tr>\n",
       "  </thead>\n",
       "  <tbody>\n",
       "    <tr>\n",
       "      <th>0</th>\n",
       "      <td>0.313463</td>\n",
       "      <td>0.317565</td>\n",
       "      <td>30.429217</td>\n",
       "      <td>19.0</td>\n",
       "      <td>571.817843</td>\n",
       "      <td>5.876016</td>\n",
       "      <td>1.0</td>\n",
       "    </tr>\n",
       "    <tr>\n",
       "      <th>1</th>\n",
       "      <td>0.199977</td>\n",
       "      <td>0.387987</td>\n",
       "      <td>36.200062</td>\n",
       "      <td>24.0</td>\n",
       "      <td>430.608228</td>\n",
       "      <td>0.591052</td>\n",
       "      <td>1.0</td>\n",
       "    </tr>\n",
       "    <tr>\n",
       "      <th>2</th>\n",
       "      <td>0.146253</td>\n",
       "      <td>0.428552</td>\n",
       "      <td>59.157785</td>\n",
       "      <td>26.0</td>\n",
       "      <td>1733.406230</td>\n",
       "      <td>4.975027</td>\n",
       "      <td>1.0</td>\n",
       "    </tr>\n",
       "    <tr>\n",
       "      <th>3</th>\n",
       "      <td>0.143222</td>\n",
       "      <td>0.417935</td>\n",
       "      <td>48.553410</td>\n",
       "      <td>16.0</td>\n",
       "      <td>490.551664</td>\n",
       "      <td>7.031690</td>\n",
       "      <td>1.0</td>\n",
       "    </tr>\n",
       "    <tr>\n",
       "      <th>4</th>\n",
       "      <td>0.089183</td>\n",
       "      <td>0.463229</td>\n",
       "      <td>70.498961</td>\n",
       "      <td>19.0</td>\n",
       "      <td>1387.375798</td>\n",
       "      <td>5.738063</td>\n",
       "      <td>1.0</td>\n",
       "    </tr>\n",
       "  </tbody>\n",
       "</table>\n",
       "</div>"
      ],
      "text/plain": [
       "   Arm length (m)  Ball weight (kg)  Ball radius (mm)  \\\n",
       "0        0.313463          0.317565         30.429217   \n",
       "1        0.199977          0.387987         36.200062   \n",
       "2        0.146253          0.428552         59.157785   \n",
       "3        0.143222          0.417935         48.553410   \n",
       "4        0.089183          0.463229         70.498961   \n",
       "\n",
       "   Air temperature (deg C)  Spring constant (N per m)  Device weight (kg)  \\\n",
       "0                     19.0                 571.817843            5.876016   \n",
       "1                     24.0                 430.608228            0.591052   \n",
       "2                     26.0                1733.406230            4.975027   \n",
       "3                     16.0                 490.551664            7.031690   \n",
       "4                     19.0                1387.375798            5.738063   \n",
       "\n",
       "   Target hit  \n",
       "0         1.0  \n",
       "1         1.0  \n",
       "2         1.0  \n",
       "3         1.0  \n",
       "4         1.0  "
      ]
     },
     "execution_count": 2,
     "metadata": {},
     "output_type": "execute_result"
    }
   ],
   "source": [
    "df = pd.read_csv('../Data/dataset2.csv')\n",
    "df.head()"
   ]
  },
  {
   "cell_type": "code",
   "execution_count": 28,
   "metadata": {},
   "outputs": [
    {
     "data": {
      "text/html": [
       "<div>\n",
       "<style scoped>\n",
       "    .dataframe tbody tr th:only-of-type {\n",
       "        vertical-align: middle;\n",
       "    }\n",
       "\n",
       "    .dataframe tbody tr th {\n",
       "        vertical-align: top;\n",
       "    }\n",
       "\n",
       "    .dataframe thead th {\n",
       "        text-align: right;\n",
       "    }\n",
       "</style>\n",
       "<table border=\"1\" class=\"dataframe\">\n",
       "  <thead>\n",
       "    <tr style=\"text-align: right;\">\n",
       "      <th></th>\n",
       "      <th>Arm length (m)</th>\n",
       "      <th>Ball weight (kg)</th>\n",
       "      <th>Ball radius (mm)</th>\n",
       "      <th>Air temperature (deg C)</th>\n",
       "      <th>Spring constant (N per m)</th>\n",
       "      <th>Device weight (kg)</th>\n",
       "    </tr>\n",
       "  </thead>\n",
       "  <tbody>\n",
       "    <tr>\n",
       "      <th>0</th>\n",
       "      <td>0.415731</td>\n",
       "      <td>0.465638</td>\n",
       "      <td>0.076600</td>\n",
       "      <td>0.521739</td>\n",
       "      <td>0.174775</td>\n",
       "      <td>0.716891</td>\n",
       "    </tr>\n",
       "    <tr>\n",
       "      <th>1</th>\n",
       "      <td>0.236388</td>\n",
       "      <td>0.572463</td>\n",
       "      <td>0.098531</td>\n",
       "      <td>0.739130</td>\n",
       "      <td>0.125846</td>\n",
       "      <td>0.011938</td>\n",
       "    </tr>\n",
       "    <tr>\n",
       "      <th>2</th>\n",
       "      <td>0.151487</td>\n",
       "      <td>0.633997</td>\n",
       "      <td>0.185777</td>\n",
       "      <td>0.826087</td>\n",
       "      <td>0.577261</td>\n",
       "      <td>0.596710</td>\n",
       "    </tr>\n",
       "    <tr>\n",
       "      <th>3</th>\n",
       "      <td>0.146696</td>\n",
       "      <td>0.617891</td>\n",
       "      <td>0.145477</td>\n",
       "      <td>0.391304</td>\n",
       "      <td>0.146617</td>\n",
       "      <td>0.871045</td>\n",
       "    </tr>\n",
       "    <tr>\n",
       "      <th>4</th>\n",
       "      <td>0.061298</td>\n",
       "      <td>0.686600</td>\n",
       "      <td>0.228876</td>\n",
       "      <td>0.521739</td>\n",
       "      <td>0.457363</td>\n",
       "      <td>0.698490</td>\n",
       "    </tr>\n",
       "  </tbody>\n",
       "</table>\n",
       "</div>"
      ],
      "text/plain": [
       "   Arm length (m)  Ball weight (kg)  Ball radius (mm)  \\\n",
       "0        0.415731          0.465638          0.076600   \n",
       "1        0.236388          0.572463          0.098531   \n",
       "2        0.151487          0.633997          0.185777   \n",
       "3        0.146696          0.617891          0.145477   \n",
       "4        0.061298          0.686600          0.228876   \n",
       "\n",
       "   Air temperature (deg C)  Spring constant (N per m)  Device weight (kg)  \n",
       "0                 0.521739                   0.174775            0.716891  \n",
       "1                 0.739130                   0.125846            0.011938  \n",
       "2                 0.826087                   0.577261            0.596710  \n",
       "3                 0.391304                   0.146617            0.871045  \n",
       "4                 0.521739                   0.457363            0.698490  "
      ]
     },
     "execution_count": 28,
     "metadata": {},
     "output_type": "execute_result"
    }
   ],
   "source": [
    "X, scalers = scale_data(df[df.columns[:-1]], mode = 'minmax')\n",
    "\n",
    "X.head()"
   ]
  },
  {
   "cell_type": "code",
   "execution_count": 29,
   "metadata": {},
   "outputs": [
    {
     "data": {
      "text/plain": [
       "0    1.0\n",
       "1    1.0\n",
       "2    1.0\n",
       "3    1.0\n",
       "4    1.0\n",
       "Name: Target hit, dtype: float64"
      ]
     },
     "execution_count": 29,
     "metadata": {},
     "output_type": "execute_result"
    }
   ],
   "source": [
    "y = df[df.columns[-1]]\n",
    "y.head()"
   ]
  },
  {
   "cell_type": "code",
   "execution_count": 30,
   "metadata": {},
   "outputs": [
    {
     "data": {
      "text/plain": [
       "array([[0., 1.],\n",
       "       [0., 1.],\n",
       "       [0., 1.],\n",
       "       ...,\n",
       "       [1., 0.],\n",
       "       [1., 0.],\n",
       "       [1., 0.]], dtype=float32)"
      ]
     },
     "execution_count": 30,
     "metadata": {},
     "output_type": "execute_result"
    }
   ],
   "source": [
    "y_binary = to_categorical(y)\n",
    "y_binary\n"
   ]
  },
  {
   "cell_type": "code",
   "execution_count": 31,
   "metadata": {},
   "outputs": [],
   "source": [
    "X_train, X_test, y_train, y_test = train_test_split(X,y_binary, test_size = 0.8, random_state = 23)"
   ]
  },
  {
   "cell_type": "markdown",
   "metadata": {},
   "source": [
    "# Modelling cell\n",
    "\n",
    "This is imported from compile model"
   ]
  },
  {
   "cell_type": "code",
   "execution_count": 36,
   "metadata": {},
   "outputs": [
    {
     "name": "stdout",
     "output_type": "stream",
     "text": [
      "      Arm length (m)  Ball weight (kg)  Ball radius (mm)  \\\n",
      "0                0.0               0.0          0.076600   \n",
      "1                0.0               0.0          0.098531   \n",
      "2                0.0               0.0          0.185777   \n",
      "3                0.0               0.0          0.145477   \n",
      "4                0.0               0.0          0.228876   \n",
      "...              ...               ...               ...   \n",
      "3995             0.0               0.0          0.100360   \n",
      "3996             0.0               0.0          0.151871   \n",
      "3997             0.0               0.0          0.095969   \n",
      "3998             0.0               0.0          0.074095   \n",
      "3999             0.0               0.0          0.116702   \n",
      "\n",
      "      Air temperature (deg C)  Spring constant (N per m)  Device weight (kg)  \n",
      "0                    0.521739                   0.174775            0.716891  \n",
      "1                    0.739130                   0.125846            0.011938  \n",
      "2                    0.826087                   0.577261            0.596710  \n",
      "3                    0.391304                   0.146617            0.871045  \n",
      "4                    0.521739                   0.457363            0.698490  \n",
      "...                       ...                        ...                 ...  \n",
      "3995                 0.478261                   0.332452            0.347643  \n",
      "3996                 0.608696                   0.092683            0.439404  \n",
      "3997                 0.130435                   0.422735            0.794664  \n",
      "3998                 0.478261                   0.065270            0.627548  \n",
      "3999                 0.826087                   0.183677            0.052554  \n",
      "\n",
      "[4000 rows x 6 columns]\n"
     ]
    }
   ],
   "source": [
    "import tensorflow as tf\n",
    "from tensorflow.keras import Input, Model\n",
    "from tensorflow.keras.layers import LayerNormalization, BatchNormalization, Dense\n",
    "tf.random.set_seed(1)\n",
    "\n",
    "\n",
    "def uncompiled_model():\n",
    "    inputs = Input(shape=(6,), name='Data')\n",
    "    x = Dense(128, activation='relu', name='dense_1')(inputs)\n",
    "    x = BatchNormalization()(x)\n",
    "    x = Dense(128, activation='relu', name='dense_2')(x)\n",
    "    x = BatchNormalization()(x)\n",
    "    x = Dense(128, activation='relu', name='dense_3')(x)\n",
    "    outputs = Dense(2, activation='tanh', name='TargetHit')(x)\n",
    "    model = Model(inputs=inputs, outputs=outputs)\n",
    "    return model\n",
    "\n",
    "\n",
    "def compile_model():\n",
    "    model = uncompiled_model()\n",
    "    model.compile(\n",
    "        optimizer=\"sgd\",\n",
    "        loss=\"binary_crossentropy\",\n",
    "        metrics=[\"accuracy\",\n",
    "                 \"binary_accuracy\",\n",
    "                 \"binary_crossentropy\",\n",
    "                 ],\n",
    "    )\n",
    "    return model\n",
    "\n",
    "\n",
    "X_temp = X.copy()\n",
    "X_temp[['Ball weight (kg)','Arm length (m)']] = 0\n",
    "print(X_temp)\n",
    "X_train, X_test, y_train, y_test = train_test_split(X_temp,y_binary, test_size = 0.8, random_state = 23)"
   ]
  },
  {
   "cell_type": "code",
   "execution_count": 37,
   "metadata": {},
   "outputs": [
    {
     "name": "stdout",
     "output_type": "stream",
     "text": [
      "100/100 [==============================] - 0s 1ms/step - loss: 0.7290 - accuracy: 0.5584 - binary_accuracy: 0.5503 - binary_crossentropy: 0.7290\n"
     ]
    },
    {
     "data": {
      "text/plain": [
       "[0.7290347814559937,\n",
       " 0.5584375262260437,\n",
       " 0.5503125190734863,\n",
       " 0.7290347814559937]"
      ]
     },
     "execution_count": 37,
     "metadata": {},
     "output_type": "execute_result"
    }
   ],
   "source": [
    "model = compile_model()\n",
    "model.fit(X_train, y_train, epochs = 50, verbose = 0)\n",
    "score = model.evaluate(X_test, y_test, verbose=1)\n",
    "score"
   ]
  },
  {
   "cell_type": "code",
   "execution_count": 12,
   "metadata": {},
   "outputs": [
    {
     "name": "stdout",
     "output_type": "stream",
     "text": [
      "Trial 3 Complete [00h 00m 02s]\n",
      "val_accuracy: 0.543749988079071\n",
      "\n",
      "Best val_accuracy So Far: 0.543749988079071\n",
      "Total elapsed time: 00h 00m 07s\n",
      "INFO:tensorflow:Oracle triggered exit\n",
      "Epoch 1/5\n",
      "25/25 [==============================] - 0s 3ms/step - loss: 0.6978 - accuracy: 0.5025\n",
      "Epoch 2/5\n",
      "25/25 [==============================] - 0s 3ms/step - loss: 0.6862 - accuracy: 0.5175\n",
      "Epoch 3/5\n",
      "25/25 [==============================] - 0s 4ms/step - loss: 0.6819 - accuracy: 0.5425\n",
      "Epoch 4/5\n",
      "25/25 [==============================] - 0s 3ms/step - loss: 0.6794 - accuracy: 0.5475\n",
      "Epoch 5/5\n",
      "25/25 [==============================] - 0s 3ms/step - loss: 0.6780 - accuracy: 0.5550\n",
      "WARNING:tensorflow:From /Users/yousefnami/opt/anaconda3/lib/python3.7/site-packages/tensorflow/python/training/tracking/tracking.py:111: Model.state_updates (from tensorflow.python.keras.engine.training) is deprecated and will be removed in a future version.\n",
      "Instructions for updating:\n",
      "This property should not be used in TensorFlow 2.0, as updates are applied automatically.\n",
      "WARNING:tensorflow:From /Users/yousefnami/opt/anaconda3/lib/python3.7/site-packages/tensorflow/python/training/tracking/tracking.py:111: Layer.updates (from tensorflow.python.keras.engine.base_layer) is deprecated and will be removed in a future version.\n",
      "Instructions for updating:\n",
      "This property should not be used in TensorFlow 2.0, as updates are applied automatically.\n",
      "INFO:tensorflow:Assets written to: ./structured_data_classifier/best_model/assets\n",
      "100/100 [==============================] - 0s 2ms/step - loss: 0.6851 - accuracy: 0.5459\n",
      "[0.6850857734680176, 0.5459374785423279]\n"
     ]
    }
   ],
   "source": [
    "import tensorflow as tf\n",
    "import autokeras as ak\n",
    "import numpy as np\n",
    "X_train, X_test, y_train, y_test = train_test_split(X_temp,y, test_size = 0.8, random_state = 23)\n",
    "\n",
    "\n",
    "\n",
    "train_set = tf.data.Dataset.from_tensor_slices((X_train.astype(np.unicode), y_train))\n",
    "test_set = tf.data.Dataset.from_tensor_slices((X_test.to_numpy().astype(np.unicode), y_test))\n",
    "\n",
    "clf = ak.StructuredDataClassifier(\n",
    "    overwrite=True,\n",
    "    max_trials=3)\n",
    "# Feed the tensorflow Dataset to the classifier.\n",
    "clf.fit(train_set, epochs=5)\n",
    "# Predict with the best model.\n",
    "predicted_y = clf.predict(test_set)\n",
    "# Evaluate the best model with testing data.\n",
    "print(clf.evaluate(test_set))"
   ]
  },
  {
   "cell_type": "code",
   "execution_count": 13,
   "metadata": {},
   "outputs": [
    {
     "name": "stdout",
     "output_type": "stream",
     "text": [
      "Model: \"functional_1\"\n",
      "_________________________________________________________________\n",
      "Layer (type)                 Output Shape              Param #   \n",
      "=================================================================\n",
      "input_1 (InputLayer)         [(None, 6)]               0         \n",
      "_________________________________________________________________\n",
      "multi_category_encoding (Mul (None, 6)                 0         \n",
      "_________________________________________________________________\n",
      "normalization (Normalization (None, 6)                 13        \n",
      "_________________________________________________________________\n",
      "dense (Dense)                (None, 32)                224       \n",
      "_________________________________________________________________\n",
      "re_lu (ReLU)                 (None, 32)                0         \n",
      "_________________________________________________________________\n",
      "dense_1 (Dense)              (None, 32)                1056      \n",
      "_________________________________________________________________\n",
      "re_lu_1 (ReLU)               (None, 32)                0         \n",
      "_________________________________________________________________\n",
      "dense_2 (Dense)              (None, 1)                 33        \n",
      "_________________________________________________________________\n",
      "classification_head_1 (Activ (None, 1)                 0         \n",
      "=================================================================\n",
      "Total params: 1,326\n",
      "Trainable params: 1,313\n",
      "Non-trainable params: 13\n",
      "_________________________________________________________________\n"
     ]
    }
   ],
   "source": [
    "model = clf.export_model()\n",
    "model.summary()"
   ]
  },
  {
   "cell_type": "markdown",
   "metadata": {},
   "source": [
    "# Sources for later\n",
    "\n",
    "1. https://d4datascience.wordpress.com/2016/09/29/fbf/\n",
    "2. https://towardsdatascience.com/machine-learning-part-20-dropout-keras-layers-explained-8c9f6dc4c9ab\n",
    "\n",
    "Things to try:> try to initialize the weights for the very collinear attributes to see if you can impact them? Maybe set the intial weights to 0?\n"
   ]
  },
  {
   "cell_type": "code",
   "execution_count": null,
   "metadata": {},
   "outputs": [],
   "source": []
  }
 ],
 "metadata": {
  "kernelspec": {
   "display_name": "Python 3",
   "language": "python",
   "name": "python3"
  },
  "language_info": {
   "codemirror_mode": {
    "name": "ipython",
    "version": 3
   },
   "file_extension": ".py",
   "mimetype": "text/x-python",
   "name": "python",
   "nbconvert_exporter": "python",
   "pygments_lexer": "ipython3",
   "version": "3.7.6"
  }
 },
 "nbformat": 4,
 "nbformat_minor": 4
}
