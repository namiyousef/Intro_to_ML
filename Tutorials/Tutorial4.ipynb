{
 "cells": [
  {
   "cell_type": "markdown",
   "metadata": {},
   "source": [
    "# Tutorial 4\n",
    "\n",
    "This contains my attempt at Tutorial4.\n",
    "\n",
    "This tutorial follows a lecture on Linear Discriminant Functions."
   ]
  },
  {
   "cell_type": "markdown",
   "metadata": {},
   "source": [
    "# Libraries\n"
   ]
  },
  {
   "cell_type": "code",
   "execution_count": 1,
   "metadata": {},
   "outputs": [],
   "source": [
    "import pandas as pd\n",
    "import numpy as np\n",
    "import matplotlib.pyplot as plt"
   ]
  },
  {
   "cell_type": "markdown",
   "metadata": {},
   "source": [
    "# 1 Scaling"
   ]
  },
  {
   "cell_type": "code",
   "execution_count": 19,
   "metadata": {},
   "outputs": [
    {
     "data": {
      "text/html": [
       "<div>\n",
       "<style scoped>\n",
       "    .dataframe tbody tr th:only-of-type {\n",
       "        vertical-align: middle;\n",
       "    }\n",
       "\n",
       "    .dataframe tbody tr th {\n",
       "        vertical-align: top;\n",
       "    }\n",
       "\n",
       "    .dataframe thead th {\n",
       "        text-align: right;\n",
       "    }\n",
       "</style>\n",
       "<table border=\"1\" class=\"dataframe\">\n",
       "  <thead>\n",
       "    <tr style=\"text-align: right;\">\n",
       "      <th></th>\n",
       "      <th>Temperature (deg C)</th>\n",
       "      <th>Ultimate tensile strength (Pa)</th>\n",
       "    </tr>\n",
       "  </thead>\n",
       "  <tbody>\n",
       "    <tr>\n",
       "      <th>0</th>\n",
       "      <td>184.122816</td>\n",
       "      <td>1.970784e+08</td>\n",
       "    </tr>\n",
       "    <tr>\n",
       "      <th>1</th>\n",
       "      <td>177.837350</td>\n",
       "      <td>2.206379e+08</td>\n",
       "    </tr>\n",
       "    <tr>\n",
       "      <th>2</th>\n",
       "      <td>192.457401</td>\n",
       "      <td>1.939733e+08</td>\n",
       "    </tr>\n",
       "    <tr>\n",
       "      <th>3</th>\n",
       "      <td>193.875471</td>\n",
       "      <td>2.214973e+08</td>\n",
       "    </tr>\n",
       "    <tr>\n",
       "      <th>4</th>\n",
       "      <td>198.058288</td>\n",
       "      <td>2.530966e+08</td>\n",
       "    </tr>\n",
       "  </tbody>\n",
       "</table>\n",
       "</div>"
      ],
      "text/plain": [
       "   Temperature (deg C)  Ultimate tensile strength (Pa)\n",
       "0           184.122816                    1.970784e+08\n",
       "1           177.837350                    2.206379e+08\n",
       "2           192.457401                    1.939733e+08\n",
       "3           193.875471                    2.214973e+08\n",
       "4           198.058288                    2.530966e+08"
      ]
     },
     "execution_count": 19,
     "metadata": {},
     "output_type": "execute_result"
    }
   ],
   "source": [
    "# online copy\n",
    "df = pd.read_csv('http://pogo.software/me4ml/tensile_strength.csv')\n",
    "df.head()"
   ]
  },
  {
   "cell_type": "code",
   "execution_count": 20,
   "metadata": {},
   "outputs": [
    {
     "name": "stdout",
     "output_type": "stream",
     "text": [
      "[200.65657923921168, 251960970.64323515]\n",
      "[9.810044584237978, 29235635.038106047]\n"
     ]
    }
   ],
   "source": [
    "mus = []\n",
    "sigmas = []\n",
    "for i in df:\n",
    "    mus.append(df[i].mean())\n",
    "    sigmas.append(df[i].std())\n",
    "    \n",
    "print(mus)\n",
    "print(sigmas)"
   ]
  },
  {
   "cell_type": "code",
   "execution_count": 21,
   "metadata": {},
   "outputs": [
    {
     "data": {
      "image/png": "[encoded data removed]",
      "text/plain": [
       "<Figure size 432x288 with 1 Axes>"
      ]
     },
     "metadata": {
      "needs_background": "light"
     },
     "output_type": "display_data"
    }
   ],
   "source": [
    "# scale paramters\n",
    "for j,i in enumerate(df):\n",
    "    df[i] = (df[i] - mus[j])/sigmas[j]\n",
    "    \n",
    "fig, ax=plt.subplots()\n",
    "plt.hist(df['Ultimate tensile strength (Pa)'])\n",
    "plt.show()"
   ]
  },
  {
   "cell_type": "code",
   "execution_count": 23,
   "metadata": {},
   "outputs": [],
   "source": [
    "# save the propergies\n",
    "params = np.asarray([mus, sigmas])\n",
    "np.savetxt('../Data/scaled_params.txt',params)"
   ]
  },
  {
   "cell_type": "code",
   "execution_count": 28,
   "metadata": {},
   "outputs": [
    {
     "data": {
      "text/plain": [
       "array([[2.00656579e+02, 2.51960971e+08],\n",
       "       [9.81004458e+00, 2.92356350e+07]])"
      ]
     },
     "execution_count": 28,
     "metadata": {},
     "output_type": "execute_result"
    }
   ],
   "source": [
    "# load back the parameters\n",
    "loadedScales = np.loadtxt('../Data/scaled_params.txt')\n",
    "loadedScales"
   ]
  },
  {
   "cell_type": "markdown",
   "metadata": {},
   "source": [
    "# 2 Linear Discriminant Functions - Plotting\n"
   ]
  },
  {
   "cell_type": "code",
   "execution_count": 116,
   "metadata": {},
   "outputs": [
    {
     "name": "stdout",
     "output_type": "stream",
     "text": [
      "[-1  3]\n",
      "[[0.         0.00502513 0.01005025 ... 0.98994975 0.99497487 1.        ]\n",
      " [0.         0.         0.         ... 1.         1.         1.        ]]\n"
     ]
    },
    {
     "data": {
      "image/png": "[encoded data removed]",
      "text/plain": [
       "<Figure size 432x288 with 2 Axes>"
      ]
     },
     "metadata": {
      "needs_background": "light"
     },
     "output_type": "display_data"
    }
   ],
   "source": [
    "def LDF(X,w,w_0):\n",
    "    \"\"\" calculates the g function: g = w . x + w_0\"\"\"\n",
    "    \n",
    "    \n",
    "    g = np.matmul(w,X) + w_0\n",
    "    return g\n",
    "x1 = np.linspace(0,1,200)\n",
    "x2 = np.linspace(0,1,200)\n",
    "x1_grid, x2_grid = np.meshgrid(x1,x2)\n",
    "Xgrid = np.array([x1_grid, x2_grid]).reshape(2, 40000)\n",
    "\n",
    "g = LDF(Xgrid, [-1,-3],1).reshape(-200,200)\n",
    "\n",
    "plt.contourf(x1,x2,g)\n",
    "plt.colorbar()\n",
    "\n",
    "plt.plot(x1,(1-x1)/3,'.')\n",
    "\n",
    "\n",
    "print(LDF(np.array([[1,0],[0,1]]),[-1,3],0))\n",
    "print(Xgrid)"
   ]
  },
  {
   "cell_type": "code",
   "execution_count": 166,
   "metadata": {},
   "outputs": [
    {
     "name": "stdout",
     "output_type": "stream",
     "text": [
      "(40000,)\n"
     ]
    },
    {
     "data": {
      "text/plain": [
       "(5, 40000)"
      ]
     },
     "execution_count": 166,
     "metadata": {},
     "output_type": "execute_result"
    }
   ],
   "source": [
    "Ygrid = np.concatenate([np.ones([200*200,1]), Xgrid.T],axis=1)\n",
    "#print(Ygrid)\n",
    "a1 = [1.3, -1, -3]\n",
    "a2 = [-2,1,2]\n",
    "a3 = [0.3,0.1,-0.1]\n",
    "a4 = [0,-1,1]\n",
    "a5 = [-0.2, 1.5,-1]\n",
    "\n",
    "#g1 = LDF(Ygrid.T, a1, 0).reshape(-1,1)\n",
    "#g2 = LDF(Ygrid.T, a2, 0).reshape(-1,1)\n",
    "#g3 = LDF(Ygrid.T, a3, 0).reshape(-1,1)\n",
    "#g4 = LDF(Ygrid.T, a4, 0).reshape(-1,1)\n",
    "#g5 = LDF(Ygrid.T, a5, 0).reshape(-1,1)\n",
    "\n",
    "g1 = np.matmul(a1, Ygrid.T).reshape(-1,1)\n",
    "g2 = np.matmul(a2, Ygrid.T).reshape(-1,1)\n",
    "g3 = np.matmul(a3, Ygrid.T).reshape(-1,1)\n",
    "g4 = np.matmul(a4, Ygrid.T).reshape(-1,1) \n",
    "g5 = np.matmul(a5, Ygrid.T).reshape(-1,1)\n",
    "gconc = np.concatenate([g1, g2, g3, g4, g5], axis = 1)\n",
    "gconc = gconc.T\n",
    "print(gconc[0].shape)\n",
    "gconc.shape\n"
   ]
  },
  {
   "cell_type": "code",
   "execution_count": 167,
   "metadata": {},
   "outputs": [
    {
     "data": {
      "text/plain": [
       "<matplotlib.contour.QuadContourSet at 0x127792e90>"
      ]
     },
     "execution_count": 167,
     "metadata": {},
     "output_type": "execute_result"
    },
    {
     "data": {
      "image/png": "[encoded data removed]",
      "text/plain": [
       "<Figure size 432x288 with 1 Axes>"
      ]
     },
     "metadata": {
      "needs_background": "light"
     },
     "output_type": "display_data"
    }
   ],
   "source": [
    "omega = np. zeros ([1 , 200 * 200])\n",
    "\n",
    "for i in range(5):\n",
    "    omhere = np.ones([1, 40000])\n",
    "    for j in range(5):\n",
    "        omhere[0,gconc[i]<gconc[j]] = 0\n",
    "        omega[omhere == 1] = i + 1\n",
    "    \n",
    "omega = np.reshape(omega, [200, 200])\n",
    "\n",
    "plt.contourf(x1,x2,omega)"
   ]
  },
  {
   "cell_type": "code",
   "execution_count": 194,
   "metadata": {},
   "outputs": [
    {
     "name": "stdout",
     "output_type": "stream",
     "text": [
      "(40000,)\n"
     ]
    },
    {
     "data": {
      "text/plain": [
       "<matplotlib.contour.QuadContourSet at 0x124c2f4d0>"
      ]
     },
     "execution_count": 194,
     "metadata": {},
     "output_type": "execute_result"
    },
    {
     "data": {
      "image/png": "[encoded data removed]",
      "text/plain": [
       "<Figure size 432x288 with 1 Axes>"
      ]
     },
     "metadata": {
      "needs_background": "light"
     },
     "output_type": "display_data"
    }
   ],
   "source": [
    "Ygrid2 = np.concatenate([Ygrid,(Ygrid[:,1]**2).reshape(-1,1)], axis = 1)\n",
    "\n",
    "#print(Ygrid)\n",
    "a1 = [1.3, -1, -3, -10]\n",
    "a2 = [-1,1.5, 3, -1]\n",
    "a3 = [0.4, -0.1, -0.1, 3]\n",
    "a4 = [0.5, -1, 1, -0.1]\n",
    "a5 = [-0.2, 1.5,-1, 0.4]\n",
    "\n",
    "#g1 = LDF(Ygrid.T, a1, 0).reshape(-1,1)\n",
    "#g2 = LDF(Ygrid.T, a2, 0).reshape(-1,1)\n",
    "#g3 = LDF(Ygrid.T, a3, 0).reshape(-1,1)\n",
    "#g4 = LDF(Ygrid.T, a4, 0).reshape(-1,1)\n",
    "#g5 = LDF(Ygrid.T, a5, 0).reshape(-1,1)\n",
    "\n",
    "g1 = np.matmul(a1, Ygrid2.T).reshape(-1,1)\n",
    "g2 = np.matmul(a2, Ygrid2.T).reshape(-1,1)\n",
    "g3 = np.matmul(a3, Ygrid2.T).reshape(-1,1)\n",
    "g4 = np.matmul(a4, Ygrid2.T).reshape(-1,1) \n",
    "g5 = np.matmul(a5, Ygrid2.T).reshape(-1,1)\n",
    "gconc = np.concatenate([g1, g2, g3, g4, g5], axis = 1)\n",
    "gconc = gconc.T\n",
    "print(gconc[0].shape)\n",
    "gconc.shape\n",
    "\n",
    "omega = np. zeros ([1 , 200 * 200])\n",
    "\n",
    "for i in range(5):\n",
    "    omhere = np.ones([1, 40000])\n",
    "    for j in range(5):\n",
    "        omhere[0,gconc[i]<gconc[j]] = 0\n",
    "        omega[omhere == 1] = i + 1\n",
    "    \n",
    "omega = np.reshape(omega, [200, 200])\n",
    "\n",
    "plt.contourf(x1,x2,omega)"
   ]
  },
  {
   "cell_type": "markdown",
   "metadata": {},
   "source": [
    "# References\n",
    "\n",
    "Have done this portion incorrectly, need to fix this! At least in the extension!"
   ]
  }
 ],
 "metadata": {
  "kernelspec": {
   "display_name": "ML_Imperial",
   "language": "python",
   "name": "ml_imperial"
  },
  "language_info": {
   "codemirror_mode": {
    "name": "ipython",
    "version": 3
   },
   "file_extension": ".py",
   "mimetype": "text/x-python",
   "name": "python",
   "nbconvert_exporter": "python",
   "pygments_lexer": "ipython3",
   "version": "3.7.6"
  }
 },
 "nbformat": 4,
 "nbformat_minor": 4
}
